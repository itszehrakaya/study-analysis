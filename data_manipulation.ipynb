{
 "cells": [
  {
   "attachments": {},
   "cell_type": "markdown",
   "metadata": {},
   "source": [
    "# Cleaning Data"
   ]
  },
  {
   "cell_type": "code",
   "execution_count": 95,
   "metadata": {},
   "outputs": [
    {
     "data": {
      "text/html": [
       "<div>\n",
       "<style scoped>\n",
       "    .dataframe tbody tr th:only-of-type {\n",
       "        vertical-align: middle;\n",
       "    }\n",
       "\n",
       "    .dataframe tbody tr th {\n",
       "        vertical-align: top;\n",
       "    }\n",
       "\n",
       "    .dataframe thead th {\n",
       "        text-align: right;\n",
       "    }\n",
       "</style>\n",
       "<table border=\"1\" class=\"dataframe\">\n",
       "  <thead>\n",
       "    <tr style=\"text-align: right;\">\n",
       "      <th></th>\n",
       "      <th>DATE</th>\n",
       "      <th>TASK</th>\n",
       "      <th>NUMBER</th>\n",
       "      <th>START</th>\n",
       "      <th>END</th>\n",
       "      <th>TIME FOCUSED</th>\n",
       "      <th>COMPLETED</th>\n",
       "    </tr>\n",
       "  </thead>\n",
       "  <tbody>\n",
       "    <tr>\n",
       "      <th>3</th>\n",
       "      <td>2023-01-22</td>\n",
       "      <td>first draft</td>\n",
       "      <td>03:00:00</td>\n",
       "      <td>15:35:00</td>\n",
       "      <td>16:00:00</td>\n",
       "      <td>25.0</td>\n",
       "      <td>✅</td>\n",
       "    </tr>\n",
       "    <tr>\n",
       "      <th>4</th>\n",
       "      <td>2023-01-22</td>\n",
       "      <td>first draft</td>\n",
       "      <td>02:00:00</td>\n",
       "      <td>15:10:00</td>\n",
       "      <td>15:35:00</td>\n",
       "      <td>25.0</td>\n",
       "      <td>✅</td>\n",
       "    </tr>\n",
       "    <tr>\n",
       "      <th>5</th>\n",
       "      <td>2023-01-22</td>\n",
       "      <td>first draft</td>\n",
       "      <td>01:00:00</td>\n",
       "      <td>14:09:00</td>\n",
       "      <td>14:46:00</td>\n",
       "      <td>25.0</td>\n",
       "      <td>✅</td>\n",
       "    </tr>\n",
       "    <tr>\n",
       "      <th>11</th>\n",
       "      <td>2023-01-21</td>\n",
       "      <td>web</td>\n",
       "      <td>02:00:00</td>\n",
       "      <td>01:44:00</td>\n",
       "      <td>02:04:00</td>\n",
       "      <td>19.0</td>\n",
       "      <td>❌</td>\n",
       "    </tr>\n",
       "    <tr>\n",
       "      <th>12</th>\n",
       "      <td>2023-01-21</td>\n",
       "      <td>web</td>\n",
       "      <td>01:00:00</td>\n",
       "      <td>01:19:00</td>\n",
       "      <td>01:44:00</td>\n",
       "      <td>25.0</td>\n",
       "      <td>✅</td>\n",
       "    </tr>\n",
       "    <tr>\n",
       "      <th>18</th>\n",
       "      <td>2023-01-19</td>\n",
       "      <td>Eng</td>\n",
       "      <td>01:00:00</td>\n",
       "      <td>11:02:00</td>\n",
       "      <td>13:01:00</td>\n",
       "      <td>25.0</td>\n",
       "      <td>✅</td>\n",
       "    </tr>\n",
       "    <tr>\n",
       "      <th>24</th>\n",
       "      <td>2023-01-18</td>\n",
       "      <td>Eng</td>\n",
       "      <td>01:00:00</td>\n",
       "      <td>17:57:00</td>\n",
       "      <td>18:03:00</td>\n",
       "      <td>6.0</td>\n",
       "      <td>❌</td>\n",
       "    </tr>\n",
       "    <tr>\n",
       "      <th>30</th>\n",
       "      <td>2023-01-17</td>\n",
       "      <td>Math 111</td>\n",
       "      <td>11:00:00</td>\n",
       "      <td>12:21:00</td>\n",
       "      <td>12:46:00</td>\n",
       "      <td>25.0</td>\n",
       "      <td>✅</td>\n",
       "    </tr>\n",
       "    <tr>\n",
       "      <th>31</th>\n",
       "      <td>2023-01-17</td>\n",
       "      <td>Math 111</td>\n",
       "      <td>10:00:00</td>\n",
       "      <td>11:56:00</td>\n",
       "      <td>12:21:00</td>\n",
       "      <td>25.0</td>\n",
       "      <td>✅</td>\n",
       "    </tr>\n",
       "    <tr>\n",
       "      <th>32</th>\n",
       "      <td>2023-01-17</td>\n",
       "      <td>Math 111</td>\n",
       "      <td>09:00:00</td>\n",
       "      <td>11:30:00</td>\n",
       "      <td>11:54:00</td>\n",
       "      <td>25.0</td>\n",
       "      <td>✅</td>\n",
       "    </tr>\n",
       "  </tbody>\n",
       "</table>\n",
       "</div>"
      ],
      "text/plain": [
       "          DATE         TASK    NUMBER     START       END  TIME FOCUSED  \\\n",
       "3   2023-01-22  first draft  03:00:00  15:35:00  16:00:00          25.0   \n",
       "4   2023-01-22  first draft  02:00:00  15:10:00  15:35:00          25.0   \n",
       "5   2023-01-22  first draft  01:00:00  14:09:00  14:46:00          25.0   \n",
       "11  2023-01-21          web  02:00:00  01:44:00  02:04:00          19.0   \n",
       "12  2023-01-21          web  01:00:00  01:19:00  01:44:00          25.0   \n",
       "18  2023-01-19          Eng  01:00:00  11:02:00  13:01:00          25.0   \n",
       "24  2023-01-18          Eng  01:00:00  17:57:00  18:03:00           6.0   \n",
       "30  2023-01-17     Math 111  11:00:00  12:21:00  12:46:00          25.0   \n",
       "31  2023-01-17     Math 111  10:00:00  11:56:00  12:21:00          25.0   \n",
       "32  2023-01-17     Math 111  09:00:00  11:30:00  11:54:00          25.0   \n",
       "\n",
       "   COMPLETED  \n",
       "3          ✅  \n",
       "4          ✅  \n",
       "5          ✅  \n",
       "11         ❌  \n",
       "12         ✅  \n",
       "18         ✅  \n",
       "24         ❌  \n",
       "30         ✅  \n",
       "31         ✅  \n",
       "32         ✅  "
      ]
     },
     "execution_count": 95,
     "metadata": {},
     "output_type": "execute_result"
    }
   ],
   "source": [
    "##Import Libraries\n",
    "import pandas as pd\n",
    "import seaborn as sns\n",
    "import numpy as np\n",
    "import matplotlib.pyplot as plt\n",
    "import plotly.graph_objs as go\n",
    "\n",
    "# read excel file \n",
    "df = pd.read_excel(\"data/masterlistdatacopy.xlsx\")\n",
    "\n",
    "# delete rows with nan values\n",
    "df.dropna(how='all', inplace=True) \n",
    "\n",
    "# Fill NaN values in the TASK column \n",
    "df['TASK'] = df['TASK'].interpolate(method ='pad', limit_direction ='forward')\n",
    "\n",
    "# to find the dates in the TASK column\n",
    "dates_in_task_col = df['TASK'].str.contains('---')\n",
    "\n",
    "# to get indexes of the dates in the TASK column\n",
    "get_idx = dates_in_task_col[dates_in_task_col == True].index \n",
    "\n",
    "# Fill NaN values by copying the dates in the TASK column to DATE column\n",
    "df['DATE'] = df['TASK'].loc[get_idx].interpolate()\n",
    "\n",
    "# Fill NaN values in the DATE column\n",
    "df['DATE'] = df['DATE'].interpolate(method ='pad', limit_direction ='forward')\n",
    "\n",
    "# delete if any row include nan values\n",
    "df.dropna(how='any',axis=0, inplace=True)\n",
    "\n",
    "##  fix typs of dates ##\n",
    "\n",
    "# delete ' - ' s in 'DATE' columnn\n",
    "df['DATE'] = df['DATE'].str.strip(' - ')\n",
    "# delete unnecessary emojies\n",
    "df['TASK'] = df['TASK'].str.strip(' 📖|📈|📚|✍️|👂|🗣')\n",
    "# **** #\n",
    "\n",
    "# find values containing'2022' in DATE column\n",
    "findY = df['DATE'].str.contains('2022')\n",
    "\n",
    "# get indexes that are not containing'2022'\n",
    "getFalse = findY[findY == False].index\n",
    "\n",
    "# format dates\n",
    "a = pd.to_datetime(df['DATE'].loc[getFalse], format='%d %B %a')+ pd.offsets.DateOffset(years=123) # this is because formating returns years as 1900 so it adds 123 years to the default value\n",
    "\n",
    "# update data\n",
    "df['DATE'].update(a)\n",
    "\n",
    "# **** #\n",
    "\n",
    "# get indexes containing'2022'\n",
    "getTrue = findY[findY == True].index \n",
    "\n",
    "# format dates\n",
    "b =  pd.to_datetime(df['DATE'].loc[getTrue], format='%d %b %Y %a')\n",
    "\n",
    "# update data\n",
    "df['DATE'].update(b)\n",
    "\n",
    "# **** #\n",
    "\n",
    "# show only dates not times\n",
    "df['DATE'] = pd.to_datetime(df['DATE']).dt.date \n",
    "\n",
    "df.head(10)"
   ]
  },
  {
   "cell_type": "code",
   "execution_count": 96,
   "metadata": {},
   "outputs": [
    {
     "data": {
      "text/html": [
       "<div>\n",
       "<style scoped>\n",
       "    .dataframe tbody tr th:only-of-type {\n",
       "        vertical-align: middle;\n",
       "    }\n",
       "\n",
       "    .dataframe tbody tr th {\n",
       "        vertical-align: top;\n",
       "    }\n",
       "\n",
       "    .dataframe thead th {\n",
       "        text-align: right;\n",
       "    }\n",
       "</style>\n",
       "<table border=\"1\" class=\"dataframe\">\n",
       "  <thead>\n",
       "    <tr style=\"text-align: right;\">\n",
       "      <th></th>\n",
       "      <th>TIME FOCUSED</th>\n",
       "    </tr>\n",
       "    <tr>\n",
       "      <th>TASK</th>\n",
       "      <th></th>\n",
       "    </tr>\n",
       "  </thead>\n",
       "  <tbody>\n",
       "    <tr>\n",
       "      <th>PHYS 111</th>\n",
       "      <td>8489.0</td>\n",
       "    </tr>\n",
       "    <tr>\n",
       "      <th>React</th>\n",
       "      <td>7566.0</td>\n",
       "    </tr>\n",
       "    <tr>\n",
       "      <th>MATH 153</th>\n",
       "      <td>6653.0</td>\n",
       "    </tr>\n",
       "    <tr>\n",
       "      <th>firebase</th>\n",
       "      <td>6501.0</td>\n",
       "    </tr>\n",
       "    <tr>\n",
       "      <th>Javascript</th>\n",
       "      <td>4301.0</td>\n",
       "    </tr>\n",
       "    <tr>\n",
       "      <th>Math 111</th>\n",
       "      <td>3861.0</td>\n",
       "    </tr>\n",
       "    <tr>\n",
       "      <th>rebuidling</th>\n",
       "      <td>2701.0</td>\n",
       "    </tr>\n",
       "    <tr>\n",
       "      <th>ENG</th>\n",
       "      <td>2127.0</td>\n",
       "    </tr>\n",
       "    <tr>\n",
       "      <th>Chinese</th>\n",
       "      <td>2060.0</td>\n",
       "    </tr>\n",
       "    <tr>\n",
       "      <th>B &amp; C</th>\n",
       "      <td>1854.0</td>\n",
       "    </tr>\n",
       "  </tbody>\n",
       "</table>\n",
       "</div>"
      ],
      "text/plain": [
       "            TIME FOCUSED\n",
       "TASK                    \n",
       "PHYS 111          8489.0\n",
       "React             7566.0\n",
       "MATH 153          6653.0\n",
       "firebase          6501.0\n",
       "Javascript        4301.0\n",
       "Math 111          3861.0\n",
       "rebuidling        2701.0\n",
       "ENG               2127.0\n",
       "Chinese           2060.0\n",
       "B & C             1854.0"
      ]
     },
     "execution_count": 96,
     "metadata": {},
     "output_type": "execute_result"
    }
   ],
   "source": [
    "df_copy = df.copy()\n",
    "\n",
    "df_copy.loc[df_copy['TASK'].str.contains('Ch|ch|CH'), 'TASK'] = 'PHYS 111'\n",
    "df_copy.loc[df_copy['TASK'].str.contains('153'), 'TASK'] = 'MATH 153'\n",
    "df_copy.loc[df_copy['TASK'].str.contains('April|March|February|Revision|Eng'), 'TASK'] = 'ENG'\n",
    "df_copy.loc[df_copy['TASK'].str.contains('Py'), 'TASK'] = 'Python'\n",
    "df_copy.loc[df_copy['TASK'].str.contains('学习中文'), 'TASK'] = 'Chinese'\n",
    "time_spent = df_copy.groupby(['TASK']).sum()\n",
    "time_spent.sort_values(by=['TIME FOCUSED'], ascending= False).head(10)"
   ]
  },
  {
   "cell_type": "code",
   "execution_count": 97,
   "metadata": {},
   "outputs": [
    {
     "data": {
      "text/plain": [
       "array(['first draft', 'web', 'ENG', 'Math 111', 'Python', 'MATH 115',\n",
       "       'Programming', 'MATH 153', 'PHYS 111', 'SAP', 'Drone simulation',\n",
       "       'Stateflow', 'Simulink', 'MathWorks', 'MATLAB Onramp', 'program',\n",
       "       'lesson student', 'CS885', 'violin', 'General', 'Violin Course',\n",
       "       'Page reload case', 'kurs', 'Chinese', 'odtü', 'numberga.me',\n",
       "       'Reading', 'rebuidling', 'firebase', 'Local storage', 'React',\n",
       "       'calendar', 'A weird problem ..', 'Router', 'Documantation',\n",
       "       'Bootstrap', 'english', 'Web- notion  Design', 'NoSql',\n",
       "       'Niyet mektubu', 'Writing hasan abi', 'data types and algorithms',\n",
       "       'B & C', 'Game css', 'last day bc', 'Medium',\n",
       "       'How I learn languages', 'Week 1', 'kuran', 'Javascript',\n",
       "       'Writing', 'dkn', 'create note pj', 'Data analysis', 'Excel',\n",
       "       'Numpy', 'HTML, CSS, Flexbox & Bootstrap', 'Figma',\n",
       "       'Learn  HTML & CSS', 'Read news', 'Tree', 'Math problem',\n",
       "       'Personal statement', 'Study Reading', 'Study Writing Task 2',\n",
       "       'Preparing', 'Sudy Listening', 'IELTS', 'Study Writing Task 1',\n",
       "       'Study Speaking', 'Mock Exam revision', 'IELTS reading', 'MTR-2',\n",
       "       'Folder edit vs', 'Study paraphrase', 'Workshop', 'Vocabulary',\n",
       "       'Khan Academy', 'Handwriting', 'Topoloji'], dtype=object)"
      ]
     },
     "execution_count": 97,
     "metadata": {},
     "output_type": "execute_result"
    }
   ],
   "source": [
    "# get tasks df_copy\n",
    "tasks = df_copy['TASK'].unique()\n",
    "tasks"
   ]
  },
  {
   "cell_type": "code",
   "execution_count": 98,
   "metadata": {},
   "outputs": [
    {
     "name": "stderr",
     "output_type": "stream",
     "text": [
      "/Users/zehrakaya/opt/anaconda3/lib/python3.9/site-packages/pandas/core/frame.py:4906: SettingWithCopyWarning:\n",
      "\n",
      "\n",
      "A value is trying to be set on a copy of a slice from a DataFrame\n",
      "\n",
      "See the caveats in the documentation: https://pandas.pydata.org/pandas-docs/stable/user_guide/indexing.html#returning-a-view-versus-a-copy\n",
      "\n"
     ]
    }
   ],
   "source": [
    "# get the tasks just 'MATH 153' MATH 111  and ENG on the df_copy\n",
    "prev_term = df_copy[df_copy['TASK'].isin(['MATH 153', 'PHYS 111', 'ENG', 'Math 111', 'MATH 115'])]\n",
    "# drop NUMBER\tSTART\tEND COMPLETED\tCHECKLIST columns\n",
    "prev_term.drop(['NUMBER', 'START', 'END', 'COMPLETED'], axis=1, inplace=True)\n",
    "# UPDATE this prev_term to csv file\n",
    "prev_term.to_csv('data/prev_term.csv', index=False)"
   ]
  },
  {
   "cell_type": "code",
   "execution_count": 99,
   "metadata": {},
   "outputs": [
    {
     "data": {
      "text/plain": [
       "0                   MATH\n",
       "1                   PHYS\n",
       "2                  IELTS\n",
       "3                English\n",
       "4       Drone Simulation\n",
       "5      Habbits & Hobbies\n",
       "6                     中国\n",
       "7      game - JavaScript\n",
       "8      College Admission\n",
       "9        Chess-Like Game\n",
       "10    Python Programming\n",
       "11       Volunteer Works\n",
       "dtype: object"
      ]
     },
     "execution_count": 99,
     "metadata": {},
     "output_type": "execute_result"
    }
   ],
   "source": [
    "checklist = pd.Series(['MATH', 'PHYS','IELTS','English',\n",
    "               'Drone Simulation','Habbits & Hobbies',\n",
    "               '中国','game - JavaScript','College Admission', \n",
    "               'Chess-Like Game', 'Python Programming','Volunteer Works'])\n",
    "checklist"
   ]
  },
  {
   "cell_type": "code",
   "execution_count": 100,
   "metadata": {},
   "outputs": [
    {
     "data": {
      "text/html": [
       "<div>\n",
       "<style scoped>\n",
       "    .dataframe tbody tr th:only-of-type {\n",
       "        vertical-align: middle;\n",
       "    }\n",
       "\n",
       "    .dataframe tbody tr th {\n",
       "        vertical-align: top;\n",
       "    }\n",
       "\n",
       "    .dataframe thead th {\n",
       "        text-align: right;\n",
       "    }\n",
       "</style>\n",
       "<table border=\"1\" class=\"dataframe\">\n",
       "  <thead>\n",
       "    <tr style=\"text-align: right;\">\n",
       "      <th></th>\n",
       "      <th>DATE</th>\n",
       "      <th>TASK</th>\n",
       "      <th>NUMBER</th>\n",
       "      <th>START</th>\n",
       "      <th>END</th>\n",
       "      <th>TIME FOCUSED</th>\n",
       "      <th>COMPLETED</th>\n",
       "      <th>CHECKLIST</th>\n",
       "    </tr>\n",
       "  </thead>\n",
       "  <tbody>\n",
       "    <tr>\n",
       "      <th>3</th>\n",
       "      <td>2023-01-22</td>\n",
       "      <td>first draft</td>\n",
       "      <td>03:00:00</td>\n",
       "      <td>15:35:00</td>\n",
       "      <td>16:00:00</td>\n",
       "      <td>25.0</td>\n",
       "      <td>✅</td>\n",
       "      <td>NaN</td>\n",
       "    </tr>\n",
       "    <tr>\n",
       "      <th>4</th>\n",
       "      <td>2023-01-22</td>\n",
       "      <td>first draft</td>\n",
       "      <td>02:00:00</td>\n",
       "      <td>15:10:00</td>\n",
       "      <td>15:35:00</td>\n",
       "      <td>25.0</td>\n",
       "      <td>✅</td>\n",
       "      <td>NaN</td>\n",
       "    </tr>\n",
       "    <tr>\n",
       "      <th>5</th>\n",
       "      <td>2023-01-22</td>\n",
       "      <td>first draft</td>\n",
       "      <td>01:00:00</td>\n",
       "      <td>14:09:00</td>\n",
       "      <td>14:46:00</td>\n",
       "      <td>25.0</td>\n",
       "      <td>✅</td>\n",
       "      <td>NaN</td>\n",
       "    </tr>\n",
       "    <tr>\n",
       "      <th>11</th>\n",
       "      <td>2023-01-21</td>\n",
       "      <td>web</td>\n",
       "      <td>02:00:00</td>\n",
       "      <td>01:44:00</td>\n",
       "      <td>02:04:00</td>\n",
       "      <td>19.0</td>\n",
       "      <td>❌</td>\n",
       "      <td>NaN</td>\n",
       "    </tr>\n",
       "    <tr>\n",
       "      <th>12</th>\n",
       "      <td>2023-01-21</td>\n",
       "      <td>web</td>\n",
       "      <td>01:00:00</td>\n",
       "      <td>01:19:00</td>\n",
       "      <td>01:44:00</td>\n",
       "      <td>25.0</td>\n",
       "      <td>✅</td>\n",
       "      <td>NaN</td>\n",
       "    </tr>\n",
       "    <tr>\n",
       "      <th>...</th>\n",
       "      <td>...</td>\n",
       "      <td>...</td>\n",
       "      <td>...</td>\n",
       "      <td>...</td>\n",
       "      <td>...</td>\n",
       "      <td>...</td>\n",
       "      <td>...</td>\n",
       "      <td>...</td>\n",
       "    </tr>\n",
       "    <tr>\n",
       "      <th>6408</th>\n",
       "      <td>2022-02-28</td>\n",
       "      <td>PHYS 111</td>\n",
       "      <td>05:00:00</td>\n",
       "      <td>08:28:00</td>\n",
       "      <td>08:53:00</td>\n",
       "      <td>25.0</td>\n",
       "      <td>✅</td>\n",
       "      <td>NaN</td>\n",
       "    </tr>\n",
       "    <tr>\n",
       "      <th>6412</th>\n",
       "      <td>2022-02-28</td>\n",
       "      <td>Workshop</td>\n",
       "      <td>04:00:00</td>\n",
       "      <td>06:43:00</td>\n",
       "      <td>07:08:00</td>\n",
       "      <td>25.0</td>\n",
       "      <td>✅</td>\n",
       "      <td>NaN</td>\n",
       "    </tr>\n",
       "    <tr>\n",
       "      <th>6416</th>\n",
       "      <td>2022-02-28</td>\n",
       "      <td>IELTS</td>\n",
       "      <td>03:00:00</td>\n",
       "      <td>05:42:00</td>\n",
       "      <td>06:07:00</td>\n",
       "      <td>25.0</td>\n",
       "      <td>✅</td>\n",
       "      <td>NaN</td>\n",
       "    </tr>\n",
       "    <tr>\n",
       "      <th>6417</th>\n",
       "      <td>2022-02-28</td>\n",
       "      <td>IELTS</td>\n",
       "      <td>02:00:00</td>\n",
       "      <td>05:05:00</td>\n",
       "      <td>05:30:00</td>\n",
       "      <td>25.0</td>\n",
       "      <td>✅</td>\n",
       "      <td>NaN</td>\n",
       "    </tr>\n",
       "    <tr>\n",
       "      <th>6418</th>\n",
       "      <td>2022-02-28</td>\n",
       "      <td>IELTS</td>\n",
       "      <td>01:00:00</td>\n",
       "      <td>04:25:00</td>\n",
       "      <td>04:50:00</td>\n",
       "      <td>25.0</td>\n",
       "      <td>✅</td>\n",
       "      <td>NaN</td>\n",
       "    </tr>\n",
       "  </tbody>\n",
       "</table>\n",
       "<p>3088 rows × 8 columns</p>\n",
       "</div>"
      ],
      "text/plain": [
       "            DATE         TASK    NUMBER     START       END  TIME FOCUSED  \\\n",
       "3     2023-01-22  first draft  03:00:00  15:35:00  16:00:00          25.0   \n",
       "4     2023-01-22  first draft  02:00:00  15:10:00  15:35:00          25.0   \n",
       "5     2023-01-22  first draft  01:00:00  14:09:00  14:46:00          25.0   \n",
       "11    2023-01-21          web  02:00:00  01:44:00  02:04:00          19.0   \n",
       "12    2023-01-21          web  01:00:00  01:19:00  01:44:00          25.0   \n",
       "...          ...          ...       ...       ...       ...           ...   \n",
       "6408  2022-02-28     PHYS 111  05:00:00  08:28:00  08:53:00          25.0   \n",
       "6412  2022-02-28     Workshop  04:00:00  06:43:00  07:08:00          25.0   \n",
       "6416  2022-02-28        IELTS  03:00:00  05:42:00  06:07:00          25.0   \n",
       "6417  2022-02-28        IELTS  02:00:00  05:05:00  05:30:00          25.0   \n",
       "6418  2022-02-28        IELTS  01:00:00  04:25:00  04:50:00          25.0   \n",
       "\n",
       "     COMPLETED  CHECKLIST  \n",
       "3            ✅        NaN  \n",
       "4            ✅        NaN  \n",
       "5            ✅        NaN  \n",
       "11           ❌        NaN  \n",
       "12           ✅        NaN  \n",
       "...        ...        ...  \n",
       "6408         ✅        NaN  \n",
       "6412         ✅        NaN  \n",
       "6416         ✅        NaN  \n",
       "6417         ✅        NaN  \n",
       "6418         ✅        NaN  \n",
       "\n",
       "[3088 rows x 8 columns]"
      ]
     },
     "execution_count": 100,
     "metadata": {},
     "output_type": "execute_result"
    }
   ],
   "source": [
    "df_copy['CHECKLIST'] = np.nan\n",
    "df_copy"
   ]
  },
  {
   "cell_type": "code",
   "execution_count": 101,
   "metadata": {},
   "outputs": [],
   "source": [
    "df_copy.loc[df_copy['TASK'].str.contains('Py|Numpy|Academy'), 'CHECKLIST'] = checklist[10]\n"
   ]
  },
  {
   "cell_type": "code",
   "execution_count": 102,
   "metadata": {},
   "outputs": [],
   "source": [
    "data = df_copy[['TIME FOCUSED', 'TASK', 'DATE']].copy()\n",
    "\n",
    "# convert the DATE column to Timestamp objects\n",
    "data['DATE'] = pd.to_datetime(data['DATE'],format='%Y %m %d ')\n",
    "\n",
    "# Filter the dataframe by the desired date range\n",
    "start_date = pd.Timestamp(input(str(\"type the start date like 2022-11-10 this format: \"))or '2022-02-28')\n",
    "end_date = pd.Timestamp(input(str(\"type the end date like 2023-01-10 this format: \"))or '2023-01-22')\n",
    "data = data[(data['DATE'] >= start_date) & (data['DATE'] <= end_date)]\n",
    "strf_start_date = start_date.strftime('%d %B %Y %a')\n",
    "strf_end_date = end_date.strftime('%d %B %Y %a')"
   ]
  },
  {
   "cell_type": "code",
   "execution_count": 103,
   "metadata": {},
   "outputs": [
    {
     "data": {
      "text/html": [
       "<div>\n",
       "<style scoped>\n",
       "    .dataframe tbody tr th:only-of-type {\n",
       "        vertical-align: middle;\n",
       "    }\n",
       "\n",
       "    .dataframe tbody tr th {\n",
       "        vertical-align: top;\n",
       "    }\n",
       "\n",
       "    .dataframe thead th {\n",
       "        text-align: right;\n",
       "    }\n",
       "</style>\n",
       "<table border=\"1\" class=\"dataframe\">\n",
       "  <thead>\n",
       "    <tr style=\"text-align: right;\">\n",
       "      <th></th>\n",
       "      <th>TIME FOCUSED</th>\n",
       "      <th>TASK</th>\n",
       "      <th>DATE</th>\n",
       "    </tr>\n",
       "  </thead>\n",
       "  <tbody>\n",
       "    <tr>\n",
       "      <th>3</th>\n",
       "      <td>25.0</td>\n",
       "      <td>first draft</td>\n",
       "      <td>2023-01-22</td>\n",
       "    </tr>\n",
       "    <tr>\n",
       "      <th>4</th>\n",
       "      <td>25.0</td>\n",
       "      <td>first draft</td>\n",
       "      <td>2023-01-22</td>\n",
       "    </tr>\n",
       "    <tr>\n",
       "      <th>5</th>\n",
       "      <td>25.0</td>\n",
       "      <td>first draft</td>\n",
       "      <td>2023-01-22</td>\n",
       "    </tr>\n",
       "    <tr>\n",
       "      <th>11</th>\n",
       "      <td>19.0</td>\n",
       "      <td>web</td>\n",
       "      <td>2023-01-21</td>\n",
       "    </tr>\n",
       "    <tr>\n",
       "      <th>12</th>\n",
       "      <td>25.0</td>\n",
       "      <td>web</td>\n",
       "      <td>2023-01-21</td>\n",
       "    </tr>\n",
       "    <tr>\n",
       "      <th>...</th>\n",
       "      <td>...</td>\n",
       "      <td>...</td>\n",
       "      <td>...</td>\n",
       "    </tr>\n",
       "    <tr>\n",
       "      <th>6408</th>\n",
       "      <td>25.0</td>\n",
       "      <td>PHYS 111</td>\n",
       "      <td>2022-02-28</td>\n",
       "    </tr>\n",
       "    <tr>\n",
       "      <th>6412</th>\n",
       "      <td>25.0</td>\n",
       "      <td>Workshop</td>\n",
       "      <td>2022-02-28</td>\n",
       "    </tr>\n",
       "    <tr>\n",
       "      <th>6416</th>\n",
       "      <td>25.0</td>\n",
       "      <td>IELTS</td>\n",
       "      <td>2022-02-28</td>\n",
       "    </tr>\n",
       "    <tr>\n",
       "      <th>6417</th>\n",
       "      <td>25.0</td>\n",
       "      <td>IELTS</td>\n",
       "      <td>2022-02-28</td>\n",
       "    </tr>\n",
       "    <tr>\n",
       "      <th>6418</th>\n",
       "      <td>25.0</td>\n",
       "      <td>IELTS</td>\n",
       "      <td>2022-02-28</td>\n",
       "    </tr>\n",
       "  </tbody>\n",
       "</table>\n",
       "<p>3088 rows × 3 columns</p>\n",
       "</div>"
      ],
      "text/plain": [
       "      TIME FOCUSED         TASK       DATE\n",
       "3             25.0  first draft 2023-01-22\n",
       "4             25.0  first draft 2023-01-22\n",
       "5             25.0  first draft 2023-01-22\n",
       "11            19.0          web 2023-01-21\n",
       "12            25.0          web 2023-01-21\n",
       "...            ...          ...        ...\n",
       "6408          25.0     PHYS 111 2022-02-28\n",
       "6412          25.0     Workshop 2022-02-28\n",
       "6416          25.0        IELTS 2022-02-28\n",
       "6417          25.0        IELTS 2022-02-28\n",
       "6418          25.0        IELTS 2022-02-28\n",
       "\n",
       "[3088 rows x 3 columns]"
      ]
     },
     "execution_count": 103,
     "metadata": {},
     "output_type": "execute_result"
    }
   ],
   "source": [
    "data"
   ]
  },
  {
   "attachments": {},
   "cell_type": "markdown",
   "metadata": {},
   "source": [
    "# Pie Chart "
   ]
  },
  {
   "attachments": {},
   "cell_type": "markdown",
   "metadata": {},
   "source": [
    "## Create Data for Pie Chart "
   ]
  },
  {
   "cell_type": "code",
   "execution_count": 104,
   "metadata": {},
   "outputs": [],
   "source": [
    "pie_df = data\n",
    "# Group the data by task and sum the time focused\n",
    "pie_df = pie_df.groupby('TASK')['TIME FOCUSED'].sum().reset_index()\n",
    "pie_df =  pie_df.sort_values(by='TIME FOCUSED',ascending= False ).reset_index().head()\n",
    "\n"
   ]
  },
  {
   "cell_type": "code",
   "execution_count": 105,
   "metadata": {},
   "outputs": [
    {
     "data": {
      "text/html": [
       "<div>\n",
       "<style scoped>\n",
       "    .dataframe tbody tr th:only-of-type {\n",
       "        vertical-align: middle;\n",
       "    }\n",
       "\n",
       "    .dataframe tbody tr th {\n",
       "        vertical-align: top;\n",
       "    }\n",
       "\n",
       "    .dataframe thead th {\n",
       "        text-align: right;\n",
       "    }\n",
       "</style>\n",
       "<table border=\"1\" class=\"dataframe\">\n",
       "  <thead>\n",
       "    <tr style=\"text-align: right;\">\n",
       "      <th></th>\n",
       "      <th>index</th>\n",
       "      <th>TASK</th>\n",
       "      <th>TIME FOCUSED</th>\n",
       "    </tr>\n",
       "  </thead>\n",
       "  <tbody>\n",
       "    <tr>\n",
       "      <th>0</th>\n",
       "      <td>35</td>\n",
       "      <td>PHYS 111</td>\n",
       "      <td>8489.0</td>\n",
       "    </tr>\n",
       "    <tr>\n",
       "      <th>1</th>\n",
       "      <td>41</td>\n",
       "      <td>React</td>\n",
       "      <td>7566.0</td>\n",
       "    </tr>\n",
       "    <tr>\n",
       "      <th>2</th>\n",
       "      <td>24</td>\n",
       "      <td>MATH 153</td>\n",
       "      <td>6653.0</td>\n",
       "    </tr>\n",
       "    <tr>\n",
       "      <th>3</th>\n",
       "      <td>68</td>\n",
       "      <td>firebase</td>\n",
       "      <td>6501.0</td>\n",
       "    </tr>\n",
       "    <tr>\n",
       "      <th>4</th>\n",
       "      <td>19</td>\n",
       "      <td>Javascript</td>\n",
       "      <td>4301.0</td>\n",
       "    </tr>\n",
       "  </tbody>\n",
       "</table>\n",
       "</div>"
      ],
      "text/plain": [
       "   index        TASK  TIME FOCUSED\n",
       "0     35    PHYS 111        8489.0\n",
       "1     41       React        7566.0\n",
       "2     24    MATH 153        6653.0\n",
       "3     68    firebase        6501.0\n",
       "4     19  Javascript        4301.0"
      ]
     },
     "execution_count": 105,
     "metadata": {},
     "output_type": "execute_result"
    }
   ],
   "source": [
    "pie_df"
   ]
  },
  {
   "cell_type": "code",
   "execution_count": 106,
   "metadata": {},
   "outputs": [
    {
     "data": {
      "text/html": [
       "<div>\n",
       "<style scoped>\n",
       "    .dataframe tbody tr th:only-of-type {\n",
       "        vertical-align: middle;\n",
       "    }\n",
       "\n",
       "    .dataframe tbody tr th {\n",
       "        vertical-align: top;\n",
       "    }\n",
       "\n",
       "    .dataframe thead th {\n",
       "        text-align: right;\n",
       "    }\n",
       "</style>\n",
       "<table border=\"1\" class=\"dataframe\">\n",
       "  <thead>\n",
       "    <tr style=\"text-align: right;\">\n",
       "      <th></th>\n",
       "      <th>index</th>\n",
       "      <th>TIME FOCUSED</th>\n",
       "    </tr>\n",
       "  </thead>\n",
       "  <tbody>\n",
       "    <tr>\n",
       "      <th>count</th>\n",
       "      <td>5.000000</td>\n",
       "      <td>5.000000</td>\n",
       "    </tr>\n",
       "    <tr>\n",
       "      <th>mean</th>\n",
       "      <td>37.400000</td>\n",
       "      <td>6702.000000</td>\n",
       "    </tr>\n",
       "    <tr>\n",
       "      <th>std</th>\n",
       "      <td>19.191144</td>\n",
       "      <td>1561.046764</td>\n",
       "    </tr>\n",
       "    <tr>\n",
       "      <th>min</th>\n",
       "      <td>19.000000</td>\n",
       "      <td>4301.000000</td>\n",
       "    </tr>\n",
       "    <tr>\n",
       "      <th>25%</th>\n",
       "      <td>24.000000</td>\n",
       "      <td>6501.000000</td>\n",
       "    </tr>\n",
       "    <tr>\n",
       "      <th>50%</th>\n",
       "      <td>35.000000</td>\n",
       "      <td>6653.000000</td>\n",
       "    </tr>\n",
       "    <tr>\n",
       "      <th>75%</th>\n",
       "      <td>41.000000</td>\n",
       "      <td>7566.000000</td>\n",
       "    </tr>\n",
       "    <tr>\n",
       "      <th>max</th>\n",
       "      <td>68.000000</td>\n",
       "      <td>8489.000000</td>\n",
       "    </tr>\n",
       "  </tbody>\n",
       "</table>\n",
       "</div>"
      ],
      "text/plain": [
       "           index  TIME FOCUSED\n",
       "count   5.000000      5.000000\n",
       "mean   37.400000   6702.000000\n",
       "std    19.191144   1561.046764\n",
       "min    19.000000   4301.000000\n",
       "25%    24.000000   6501.000000\n",
       "50%    35.000000   6653.000000\n",
       "75%    41.000000   7566.000000\n",
       "max    68.000000   8489.000000"
      ]
     },
     "execution_count": 106,
     "metadata": {},
     "output_type": "execute_result"
    }
   ],
   "source": [
    "pie_df.describe()"
   ]
  },
  {
   "attachments": {},
   "cell_type": "markdown",
   "metadata": {},
   "source": [
    "## Seaborn & matplotlib.pyplot codes"
   ]
  },
  {
   "cell_type": "code",
   "execution_count": 107,
   "metadata": {},
   "outputs": [
    {
     "data": {
      "image/png": "[encoded data removed]",
      "text/plain": [
       "<Figure size 1080x1080 with 1 Axes>"
      ]
     },
     "metadata": {},
     "output_type": "display_data"
    }
   ],
   "source": [
    "# create the pie chart using seaborn\n",
    "fig, ax = plt.subplots(figsize=(15, 15))\n",
    "wedges, labels, autopct = ax.pie(pie_df['TIME FOCUSED'], \n",
    "                                 labels=pie_df['TASK'], \n",
    "                                 autopct='', \n",
    "                                 textprops={'fontsize': 15})\n",
    "\n",
    "plt.setp(autopct, color='white', fontsize=15)\n",
    "\n",
    "# add percentage and sum values to labels\n",
    "sums = pie_df['TIME FOCUSED'].sum()\n",
    "for index, row in pie_df.iterrows():\n",
    "    task_time = row['TIME FOCUSED']\n",
    "    task_label = row['TASK']\n",
    "    label = autopct[index]\n",
    "    label.set_text(f\" {(task_time/sums)*100:.1f}% \\n\\n{int(task_time//60)} hours\\n {int(task_time%60)} minutes\")\n",
    "\n",
    "strf_start_date = start_date.strftime('%d %B %Y %a')\n",
    "strf_end_date = end_date.strftime('%d %B %Y %a')\n",
    "ax.set_title(f\"Time Focused by Task \\n between \\n {strf_start_date}  and {strf_end_date}\",\n",
    "             fontsize=15)\n",
    "\n",
    "\n",
    "plt.show()"
   ]
  },
  {
   "attachments": {},
   "cell_type": "markdown",
   "metadata": {},
   "source": [
    "# Time focused by date "
   ]
  },
  {
   "cell_type": "code",
   "execution_count": 108,
   "metadata": {},
   "outputs": [
    {
     "data": {
      "image/png": "[encoded data removed]",
      "text/plain": [
       "<Figure size 1080x1080 with 1 Axes>"
      ]
     },
     "metadata": {},
     "output_type": "display_data"
    }
   ],
   "source": [
    "sort_date = data\n",
    "# Group the data by task and sum the time focused\n",
    "sort_date = sort_date.groupby('DATE')['TIME FOCUSED'].sum().reset_index()\n",
    "sort_date =  sort_date.sort_values(by='TIME FOCUSED',ascending= False ).reset_index().head()\n",
    "# sort the dataframe by Time Focused in descending order\n",
    "\n",
    "\n",
    "    \n",
    "# create the pie chart using seaborn\n",
    "fig, ax = plt.subplots(figsize=(15, 15))\n",
    "wedges, labels, autopct = ax.pie(sort_date['TIME FOCUSED'], \n",
    "                                 labels=sort_date['DATE'].dt.strftime('%d %B %Y %a') , \n",
    "                                 autopct='', \n",
    "                                 textprops={'fontsize': 15})\n",
    "\n",
    "plt.setp(autopct, color='white', fontsize=15)\n",
    "\n",
    "# add percentage and sum values to labels\n",
    "sums = sort_date['TIME FOCUSED'].sum()\n",
    "for index, row in sort_date.iterrows():\n",
    "    task_time = row['TIME FOCUSED']\n",
    "    task_label = row['DATE']\n",
    "    label = autopct[index]\n",
    "    label.set_text(f\" {(task_time/sums)*100:.1f}% \\n\\n{int(task_time//60)} hours\\n {int(task_time%60)} minutes\")\n",
    "\n",
    "strf_start_date = start_date.strftime('%d %B %Y %a')\n",
    "strf_end_date = end_date.strftime('%d %B %Y %a')\n",
    "ax.set_title(f\"Top 5 days studied most \\n between \\n {strf_start_date}  and {strf_end_date}\",\n",
    "             fontsize=15)\n",
    "\n",
    "\n",
    "plt.show()"
   ]
  },
  {
   "cell_type": "code",
   "execution_count": 109,
   "metadata": {},
   "outputs": [
    {
     "data": {
      "text/html": [
       "<div>\n",
       "<style scoped>\n",
       "    .dataframe tbody tr th:only-of-type {\n",
       "        vertical-align: middle;\n",
       "    }\n",
       "\n",
       "    .dataframe tbody tr th {\n",
       "        vertical-align: top;\n",
       "    }\n",
       "\n",
       "    .dataframe thead th {\n",
       "        text-align: right;\n",
       "    }\n",
       "</style>\n",
       "<table border=\"1\" class=\"dataframe\">\n",
       "  <thead>\n",
       "    <tr style=\"text-align: right;\">\n",
       "      <th></th>\n",
       "      <th>DATE</th>\n",
       "      <th>TASK</th>\n",
       "      <th>START</th>\n",
       "      <th>END</th>\n",
       "      <th>TIME FOCUSED</th>\n",
       "    </tr>\n",
       "  </thead>\n",
       "  <tbody>\n",
       "    <tr>\n",
       "      <th>62</th>\n",
       "      <td>2022-08-07</td>\n",
       "      <td>React</td>\n",
       "      <td>07:29:00</td>\n",
       "      <td>09:39:00</td>\n",
       "      <td>6.0</td>\n",
       "    </tr>\n",
       "    <tr>\n",
       "      <th>63</th>\n",
       "      <td>2022-08-07</td>\n",
       "      <td>React</td>\n",
       "      <td>09:39:00</td>\n",
       "      <td>10:04:00</td>\n",
       "      <td>25.0</td>\n",
       "    </tr>\n",
       "    <tr>\n",
       "      <th>64</th>\n",
       "      <td>2022-08-07</td>\n",
       "      <td>React</td>\n",
       "      <td>11:40:00</td>\n",
       "      <td>12:05:00</td>\n",
       "      <td>25.0</td>\n",
       "    </tr>\n",
       "    <tr>\n",
       "      <th>65</th>\n",
       "      <td>2022-08-07</td>\n",
       "      <td>React</td>\n",
       "      <td>12:09:00</td>\n",
       "      <td>12:34:00</td>\n",
       "      <td>25.0</td>\n",
       "    </tr>\n",
       "    <tr>\n",
       "      <th>66</th>\n",
       "      <td>2022-08-07</td>\n",
       "      <td>React</td>\n",
       "      <td>12:50:00</td>\n",
       "      <td>13:58:00</td>\n",
       "      <td>25.0</td>\n",
       "    </tr>\n",
       "    <tr>\n",
       "      <th>67</th>\n",
       "      <td>2022-08-07</td>\n",
       "      <td>React</td>\n",
       "      <td>17:16:00</td>\n",
       "      <td>17:41:00</td>\n",
       "      <td>25.0</td>\n",
       "    </tr>\n",
       "    <tr>\n",
       "      <th>68</th>\n",
       "      <td>2022-08-07</td>\n",
       "      <td>React</td>\n",
       "      <td>17:41:00</td>\n",
       "      <td>18:15:00</td>\n",
       "      <td>25.0</td>\n",
       "    </tr>\n",
       "    <tr>\n",
       "      <th>69</th>\n",
       "      <td>2022-08-07</td>\n",
       "      <td>React</td>\n",
       "      <td>18:25:00</td>\n",
       "      <td>18:51:00</td>\n",
       "      <td>25.0</td>\n",
       "    </tr>\n",
       "    <tr>\n",
       "      <th>70</th>\n",
       "      <td>2022-08-07</td>\n",
       "      <td>React</td>\n",
       "      <td>18:51:00</td>\n",
       "      <td>19:16:00</td>\n",
       "      <td>25.0</td>\n",
       "    </tr>\n",
       "    <tr>\n",
       "      <th>71</th>\n",
       "      <td>2022-08-07</td>\n",
       "      <td>React</td>\n",
       "      <td>19:21:00</td>\n",
       "      <td>19:46:00</td>\n",
       "      <td>25.0</td>\n",
       "    </tr>\n",
       "    <tr>\n",
       "      <th>72</th>\n",
       "      <td>2022-08-07</td>\n",
       "      <td>React</td>\n",
       "      <td>20:00:00</td>\n",
       "      <td>20:25:00</td>\n",
       "      <td>25.0</td>\n",
       "    </tr>\n",
       "    <tr>\n",
       "      <th>73</th>\n",
       "      <td>2022-08-07</td>\n",
       "      <td>React</td>\n",
       "      <td>21:06:00</td>\n",
       "      <td>21:31:00</td>\n",
       "      <td>25.0</td>\n",
       "    </tr>\n",
       "    <tr>\n",
       "      <th>74</th>\n",
       "      <td>2022-08-07</td>\n",
       "      <td>Web- notion  Design</td>\n",
       "      <td>14:16:00</td>\n",
       "      <td>14:41:00</td>\n",
       "      <td>25.0</td>\n",
       "    </tr>\n",
       "    <tr>\n",
       "      <th>75</th>\n",
       "      <td>2022-08-19</td>\n",
       "      <td>firebase</td>\n",
       "      <td>08:11:00</td>\n",
       "      <td>08:36:00</td>\n",
       "      <td>25.0</td>\n",
       "    </tr>\n",
       "    <tr>\n",
       "      <th>76</th>\n",
       "      <td>2022-08-19</td>\n",
       "      <td>firebase</td>\n",
       "      <td>08:43:00</td>\n",
       "      <td>09:08:00</td>\n",
       "      <td>25.0</td>\n",
       "    </tr>\n",
       "    <tr>\n",
       "      <th>77</th>\n",
       "      <td>2022-08-19</td>\n",
       "      <td>firebase</td>\n",
       "      <td>09:19:00</td>\n",
       "      <td>09:35:00</td>\n",
       "      <td>25.0</td>\n",
       "    </tr>\n",
       "    <tr>\n",
       "      <th>78</th>\n",
       "      <td>2022-08-19</td>\n",
       "      <td>firebase</td>\n",
       "      <td>09:37:00</td>\n",
       "      <td>10:01:00</td>\n",
       "      <td>25.0</td>\n",
       "    </tr>\n",
       "    <tr>\n",
       "      <th>79</th>\n",
       "      <td>2022-08-19</td>\n",
       "      <td>firebase</td>\n",
       "      <td>10:29:00</td>\n",
       "      <td>10:54:00</td>\n",
       "      <td>25.0</td>\n",
       "    </tr>\n",
       "    <tr>\n",
       "      <th>80</th>\n",
       "      <td>2022-08-19</td>\n",
       "      <td>firebase</td>\n",
       "      <td>10:59:00</td>\n",
       "      <td>11:59:00</td>\n",
       "      <td>25.0</td>\n",
       "    </tr>\n",
       "    <tr>\n",
       "      <th>81</th>\n",
       "      <td>2022-08-19</td>\n",
       "      <td>firebase</td>\n",
       "      <td>12:01:00</td>\n",
       "      <td>12:25:00</td>\n",
       "      <td>25.0</td>\n",
       "    </tr>\n",
       "    <tr>\n",
       "      <th>82</th>\n",
       "      <td>2022-08-19</td>\n",
       "      <td>firebase</td>\n",
       "      <td>12:32:00</td>\n",
       "      <td>12:52:00</td>\n",
       "      <td>25.0</td>\n",
       "    </tr>\n",
       "    <tr>\n",
       "      <th>83</th>\n",
       "      <td>2022-08-19</td>\n",
       "      <td>firebase</td>\n",
       "      <td>13:36:00</td>\n",
       "      <td>14:09:00</td>\n",
       "      <td>25.0</td>\n",
       "    </tr>\n",
       "    <tr>\n",
       "      <th>84</th>\n",
       "      <td>2022-08-19</td>\n",
       "      <td>firebase</td>\n",
       "      <td>14:21:00</td>\n",
       "      <td>14:32:00</td>\n",
       "      <td>25.0</td>\n",
       "    </tr>\n",
       "    <tr>\n",
       "      <th>85</th>\n",
       "      <td>2022-08-19</td>\n",
       "      <td>firebase</td>\n",
       "      <td>14:42:00</td>\n",
       "      <td>15:07:00</td>\n",
       "      <td>25.0</td>\n",
       "    </tr>\n",
       "    <tr>\n",
       "      <th>86</th>\n",
       "      <td>2022-08-19</td>\n",
       "      <td>firebase</td>\n",
       "      <td>15:08:00</td>\n",
       "      <td>15:36:00</td>\n",
       "      <td>25.0</td>\n",
       "    </tr>\n",
       "    <tr>\n",
       "      <th>87</th>\n",
       "      <td>2022-08-19</td>\n",
       "      <td>firebase</td>\n",
       "      <td>15:36:00</td>\n",
       "      <td>16:01:00</td>\n",
       "      <td>25.0</td>\n",
       "    </tr>\n",
       "    <tr>\n",
       "      <th>88</th>\n",
       "      <td>2022-08-19</td>\n",
       "      <td>firebase</td>\n",
       "      <td>16:05:00</td>\n",
       "      <td>16:25:00</td>\n",
       "      <td>25.0</td>\n",
       "    </tr>\n",
       "    <tr>\n",
       "      <th>89</th>\n",
       "      <td>2022-08-19</td>\n",
       "      <td>firebase</td>\n",
       "      <td>16:33:00</td>\n",
       "      <td>17:58:00</td>\n",
       "      <td>25.0</td>\n",
       "    </tr>\n",
       "    <tr>\n",
       "      <th>90</th>\n",
       "      <td>2022-08-19</td>\n",
       "      <td>firebase</td>\n",
       "      <td>17:59:00</td>\n",
       "      <td>18:24:00</td>\n",
       "      <td>25.0</td>\n",
       "    </tr>\n",
       "    <tr>\n",
       "      <th>91</th>\n",
       "      <td>2022-08-19</td>\n",
       "      <td>firebase</td>\n",
       "      <td>18:52:00</td>\n",
       "      <td>18:52:00</td>\n",
       "      <td>25.0</td>\n",
       "    </tr>\n",
       "    <tr>\n",
       "      <th>92</th>\n",
       "      <td>2022-08-19</td>\n",
       "      <td>firebase</td>\n",
       "      <td>19:25:00</td>\n",
       "      <td>21:11:00</td>\n",
       "      <td>25.0</td>\n",
       "    </tr>\n",
       "    <tr>\n",
       "      <th>93</th>\n",
       "      <td>2022-08-19</td>\n",
       "      <td>firebase</td>\n",
       "      <td>21:12:00</td>\n",
       "      <td>21:37:00</td>\n",
       "      <td>25.0</td>\n",
       "    </tr>\n",
       "    <tr>\n",
       "      <th>94</th>\n",
       "      <td>2022-08-19</td>\n",
       "      <td>firebase</td>\n",
       "      <td>21:42:00</td>\n",
       "      <td>22:07:00</td>\n",
       "      <td>25.0</td>\n",
       "    </tr>\n",
       "    <tr>\n",
       "      <th>95</th>\n",
       "      <td>2022-08-19</td>\n",
       "      <td>firebase</td>\n",
       "      <td>22:00:00</td>\n",
       "      <td>08:11:00</td>\n",
       "      <td>20.0</td>\n",
       "    </tr>\n",
       "    <tr>\n",
       "      <th>96</th>\n",
       "      <td>2022-08-19</td>\n",
       "      <td>firebase</td>\n",
       "      <td>22:07:00</td>\n",
       "      <td>22:54:00</td>\n",
       "      <td>25.0</td>\n",
       "    </tr>\n",
       "    <tr>\n",
       "      <th>97</th>\n",
       "      <td>2022-09-14</td>\n",
       "      <td>Local storage</td>\n",
       "      <td>11:27:00</td>\n",
       "      <td>11:52:00</td>\n",
       "      <td>25.0</td>\n",
       "    </tr>\n",
       "    <tr>\n",
       "      <th>98</th>\n",
       "      <td>2022-09-14</td>\n",
       "      <td>Local storage</td>\n",
       "      <td>11:55:00</td>\n",
       "      <td>12:20:00</td>\n",
       "      <td>25.0</td>\n",
       "    </tr>\n",
       "    <tr>\n",
       "      <th>99</th>\n",
       "      <td>2022-09-14</td>\n",
       "      <td>Local storage</td>\n",
       "      <td>13:00:00</td>\n",
       "      <td>13:25:00</td>\n",
       "      <td>25.0</td>\n",
       "    </tr>\n",
       "    <tr>\n",
       "      <th>100</th>\n",
       "      <td>2022-09-14</td>\n",
       "      <td>Local storage</td>\n",
       "      <td>13:29:00</td>\n",
       "      <td>14:00:00</td>\n",
       "      <td>25.0</td>\n",
       "    </tr>\n",
       "    <tr>\n",
       "      <th>101</th>\n",
       "      <td>2022-09-14</td>\n",
       "      <td>Local storage</td>\n",
       "      <td>14:03:00</td>\n",
       "      <td>14:28:00</td>\n",
       "      <td>25.0</td>\n",
       "    </tr>\n",
       "    <tr>\n",
       "      <th>102</th>\n",
       "      <td>2022-09-14</td>\n",
       "      <td>Local storage</td>\n",
       "      <td>14:28:00</td>\n",
       "      <td>14:52:00</td>\n",
       "      <td>25.0</td>\n",
       "    </tr>\n",
       "    <tr>\n",
       "      <th>103</th>\n",
       "      <td>2022-09-14</td>\n",
       "      <td>rebuidling</td>\n",
       "      <td>07:13:00</td>\n",
       "      <td>07:38:00</td>\n",
       "      <td>25.0</td>\n",
       "    </tr>\n",
       "    <tr>\n",
       "      <th>104</th>\n",
       "      <td>2022-09-14</td>\n",
       "      <td>rebuidling</td>\n",
       "      <td>07:42:00</td>\n",
       "      <td>08:05:00</td>\n",
       "      <td>25.0</td>\n",
       "    </tr>\n",
       "    <tr>\n",
       "      <th>105</th>\n",
       "      <td>2022-09-14</td>\n",
       "      <td>rebuidling</td>\n",
       "      <td>08:05:00</td>\n",
       "      <td>08:30:00</td>\n",
       "      <td>25.0</td>\n",
       "    </tr>\n",
       "    <tr>\n",
       "      <th>106</th>\n",
       "      <td>2022-09-14</td>\n",
       "      <td>rebuidling</td>\n",
       "      <td>08:47:00</td>\n",
       "      <td>09:12:00</td>\n",
       "      <td>25.0</td>\n",
       "    </tr>\n",
       "    <tr>\n",
       "      <th>107</th>\n",
       "      <td>2022-09-14</td>\n",
       "      <td>rebuidling</td>\n",
       "      <td>09:15:00</td>\n",
       "      <td>09:40:00</td>\n",
       "      <td>25.0</td>\n",
       "    </tr>\n",
       "    <tr>\n",
       "      <th>108</th>\n",
       "      <td>2022-09-14</td>\n",
       "      <td>rebuidling</td>\n",
       "      <td>09:58:00</td>\n",
       "      <td>10:23:00</td>\n",
       "      <td>25.0</td>\n",
       "    </tr>\n",
       "    <tr>\n",
       "      <th>109</th>\n",
       "      <td>2022-09-14</td>\n",
       "      <td>rebuidling</td>\n",
       "      <td>10:28:00</td>\n",
       "      <td>11:27:00</td>\n",
       "      <td>25.0</td>\n",
       "    </tr>\n",
       "    <tr>\n",
       "      <th>110</th>\n",
       "      <td>2022-09-14</td>\n",
       "      <td>rebuidling</td>\n",
       "      <td>14:52:00</td>\n",
       "      <td>15:17:00</td>\n",
       "      <td>25.0</td>\n",
       "    </tr>\n",
       "    <tr>\n",
       "      <th>111</th>\n",
       "      <td>2022-09-14</td>\n",
       "      <td>rebuidling</td>\n",
       "      <td>15:18:00</td>\n",
       "      <td>15:42:00</td>\n",
       "      <td>25.0</td>\n",
       "    </tr>\n",
       "    <tr>\n",
       "      <th>112</th>\n",
       "      <td>2022-09-14</td>\n",
       "      <td>rebuidling</td>\n",
       "      <td>15:45:00</td>\n",
       "      <td>16:10:00</td>\n",
       "      <td>25.0</td>\n",
       "    </tr>\n",
       "    <tr>\n",
       "      <th>113</th>\n",
       "      <td>2022-09-14</td>\n",
       "      <td>rebuidling</td>\n",
       "      <td>17:16:00</td>\n",
       "      <td>19:33:00</td>\n",
       "      <td>25.0</td>\n",
       "    </tr>\n",
       "    <tr>\n",
       "      <th>114</th>\n",
       "      <td>2022-09-14</td>\n",
       "      <td>rebuidling</td>\n",
       "      <td>19:36:00</td>\n",
       "      <td>20:00:00</td>\n",
       "      <td>25.0</td>\n",
       "    </tr>\n",
       "    <tr>\n",
       "      <th>115</th>\n",
       "      <td>2022-09-14</td>\n",
       "      <td>rebuidling</td>\n",
       "      <td>20:17:00</td>\n",
       "      <td>20:42:00</td>\n",
       "      <td>25.0</td>\n",
       "    </tr>\n",
       "    <tr>\n",
       "      <th>116</th>\n",
       "      <td>2022-09-14</td>\n",
       "      <td>rebuidling</td>\n",
       "      <td>20:42:00</td>\n",
       "      <td>21:07:00</td>\n",
       "      <td>25.0</td>\n",
       "    </tr>\n",
       "    <tr>\n",
       "      <th>117</th>\n",
       "      <td>2022-09-14</td>\n",
       "      <td>rebuidling</td>\n",
       "      <td>21:22:00</td>\n",
       "      <td>21:47:00</td>\n",
       "      <td>25.0</td>\n",
       "    </tr>\n",
       "    <tr>\n",
       "      <th>118</th>\n",
       "      <td>2022-09-14</td>\n",
       "      <td>rebuidling</td>\n",
       "      <td>21:47:00</td>\n",
       "      <td>22:11:00</td>\n",
       "      <td>25.0</td>\n",
       "    </tr>\n",
       "    <tr>\n",
       "      <th>119</th>\n",
       "      <td>2022-09-14</td>\n",
       "      <td>rebuidling</td>\n",
       "      <td>21:53:00</td>\n",
       "      <td>07:13:00</td>\n",
       "      <td>5.0</td>\n",
       "    </tr>\n",
       "    <tr>\n",
       "      <th>120</th>\n",
       "      <td>2022-09-14</td>\n",
       "      <td>rebuidling</td>\n",
       "      <td>22:19:00</td>\n",
       "      <td>22:47:00</td>\n",
       "      <td>25.0</td>\n",
       "    </tr>\n",
       "    <tr>\n",
       "      <th>121</th>\n",
       "      <td>2022-09-14</td>\n",
       "      <td>rebuidling</td>\n",
       "      <td>22:48:00</td>\n",
       "      <td>23:12:00</td>\n",
       "      <td>25.0</td>\n",
       "    </tr>\n",
       "  </tbody>\n",
       "</table>\n",
       "</div>"
      ],
      "text/plain": [
       "          DATE                 TASK     START       END  TIME FOCUSED\n",
       "62  2022-08-07                React  07:29:00  09:39:00           6.0\n",
       "63  2022-08-07                React  09:39:00  10:04:00          25.0\n",
       "64  2022-08-07                React  11:40:00  12:05:00          25.0\n",
       "65  2022-08-07                React  12:09:00  12:34:00          25.0\n",
       "66  2022-08-07                React  12:50:00  13:58:00          25.0\n",
       "67  2022-08-07                React  17:16:00  17:41:00          25.0\n",
       "68  2022-08-07                React  17:41:00  18:15:00          25.0\n",
       "69  2022-08-07                React  18:25:00  18:51:00          25.0\n",
       "70  2022-08-07                React  18:51:00  19:16:00          25.0\n",
       "71  2022-08-07                React  19:21:00  19:46:00          25.0\n",
       "72  2022-08-07                React  20:00:00  20:25:00          25.0\n",
       "73  2022-08-07                React  21:06:00  21:31:00          25.0\n",
       "74  2022-08-07  Web- notion  Design  14:16:00  14:41:00          25.0\n",
       "75  2022-08-19             firebase  08:11:00  08:36:00          25.0\n",
       "76  2022-08-19             firebase  08:43:00  09:08:00          25.0\n",
       "77  2022-08-19             firebase  09:19:00  09:35:00          25.0\n",
       "78  2022-08-19             firebase  09:37:00  10:01:00          25.0\n",
       "79  2022-08-19             firebase  10:29:00  10:54:00          25.0\n",
       "80  2022-08-19             firebase  10:59:00  11:59:00          25.0\n",
       "81  2022-08-19             firebase  12:01:00  12:25:00          25.0\n",
       "82  2022-08-19             firebase  12:32:00  12:52:00          25.0\n",
       "83  2022-08-19             firebase  13:36:00  14:09:00          25.0\n",
       "84  2022-08-19             firebase  14:21:00  14:32:00          25.0\n",
       "85  2022-08-19             firebase  14:42:00  15:07:00          25.0\n",
       "86  2022-08-19             firebase  15:08:00  15:36:00          25.0\n",
       "87  2022-08-19             firebase  15:36:00  16:01:00          25.0\n",
       "88  2022-08-19             firebase  16:05:00  16:25:00          25.0\n",
       "89  2022-08-19             firebase  16:33:00  17:58:00          25.0\n",
       "90  2022-08-19             firebase  17:59:00  18:24:00          25.0\n",
       "91  2022-08-19             firebase  18:52:00  18:52:00          25.0\n",
       "92  2022-08-19             firebase  19:25:00  21:11:00          25.0\n",
       "93  2022-08-19             firebase  21:12:00  21:37:00          25.0\n",
       "94  2022-08-19             firebase  21:42:00  22:07:00          25.0\n",
       "95  2022-08-19             firebase  22:00:00  08:11:00          20.0\n",
       "96  2022-08-19             firebase  22:07:00  22:54:00          25.0\n",
       "97  2022-09-14        Local storage  11:27:00  11:52:00          25.0\n",
       "98  2022-09-14        Local storage  11:55:00  12:20:00          25.0\n",
       "99  2022-09-14        Local storage  13:00:00  13:25:00          25.0\n",
       "100 2022-09-14        Local storage  13:29:00  14:00:00          25.0\n",
       "101 2022-09-14        Local storage  14:03:00  14:28:00          25.0\n",
       "102 2022-09-14        Local storage  14:28:00  14:52:00          25.0\n",
       "103 2022-09-14           rebuidling  07:13:00  07:38:00          25.0\n",
       "104 2022-09-14           rebuidling  07:42:00  08:05:00          25.0\n",
       "105 2022-09-14           rebuidling  08:05:00  08:30:00          25.0\n",
       "106 2022-09-14           rebuidling  08:47:00  09:12:00          25.0\n",
       "107 2022-09-14           rebuidling  09:15:00  09:40:00          25.0\n",
       "108 2022-09-14           rebuidling  09:58:00  10:23:00          25.0\n",
       "109 2022-09-14           rebuidling  10:28:00  11:27:00          25.0\n",
       "110 2022-09-14           rebuidling  14:52:00  15:17:00          25.0\n",
       "111 2022-09-14           rebuidling  15:18:00  15:42:00          25.0\n",
       "112 2022-09-14           rebuidling  15:45:00  16:10:00          25.0\n",
       "113 2022-09-14           rebuidling  17:16:00  19:33:00          25.0\n",
       "114 2022-09-14           rebuidling  19:36:00  20:00:00          25.0\n",
       "115 2022-09-14           rebuidling  20:17:00  20:42:00          25.0\n",
       "116 2022-09-14           rebuidling  20:42:00  21:07:00          25.0\n",
       "117 2022-09-14           rebuidling  21:22:00  21:47:00          25.0\n",
       "118 2022-09-14           rebuidling  21:47:00  22:11:00          25.0\n",
       "119 2022-09-14           rebuidling  21:53:00  07:13:00           5.0\n",
       "120 2022-09-14           rebuidling  22:19:00  22:47:00          25.0\n",
       "121 2022-09-14           rebuidling  22:48:00  23:12:00          25.0"
      ]
     },
     "execution_count": 109,
     "metadata": {},
     "output_type": "execute_result"
    }
   ],
   "source": [
    "# show the dates in the 'data' which are the sort_date with loc\n",
    "data.loc[data['DATE'].isin(sort_date['DATE'])].groupby(['DATE','TASK'])['TIME FOCUSED'].sum().reset_index()\n",
    "new_data= df_copy\n",
    "new_data['DATE']= pd.to_datetime(new_data['DATE'],format='%Y %m %d ')\n",
    "new_data.loc[new_data['DATE'].isin(sort_date['DATE'])].groupby(['DATE','TASK'])['TIME FOCUSED'].sum().reset_index()\n",
    "# show 'START' and 'END'in this groupby\n",
    "new_data.loc[new_data['DATE'].isin(sort_date['DATE'])].groupby(['DATE','TASK','START','END'])['TIME FOCUSED'].sum().reset_index().tail(60)"
   ]
  },
  {
   "attachments": {},
   "cell_type": "markdown",
   "metadata": {},
   "source": [
    "### MultiIndex"
   ]
  },
  {
   "cell_type": "code",
   "execution_count": 110,
   "metadata": {},
   "outputs": [
    {
     "data": {
      "text/html": [
       "<div>\n",
       "<style scoped>\n",
       "    .dataframe tbody tr th:only-of-type {\n",
       "        vertical-align: middle;\n",
       "    }\n",
       "\n",
       "    .dataframe tbody tr th {\n",
       "        vertical-align: top;\n",
       "    }\n",
       "\n",
       "    .dataframe thead th {\n",
       "        text-align: right;\n",
       "    }\n",
       "</style>\n",
       "<table border=\"1\" class=\"dataframe\">\n",
       "  <thead>\n",
       "    <tr style=\"text-align: right;\">\n",
       "      <th></th>\n",
       "      <th>DATE</th>\n",
       "      <th>TASK</th>\n",
       "      <th>TIME FOCUSED</th>\n",
       "    </tr>\n",
       "  </thead>\n",
       "  <tbody>\n",
       "    <tr>\n",
       "      <th>0</th>\n",
       "      <td>2022-02-28</td>\n",
       "      <td>IELTS</td>\n",
       "      <td>114.0</td>\n",
       "    </tr>\n",
       "    <tr>\n",
       "      <th>1</th>\n",
       "      <td>2022-02-28</td>\n",
       "      <td>PHYS 111</td>\n",
       "      <td>25.0</td>\n",
       "    </tr>\n",
       "    <tr>\n",
       "      <th>2</th>\n",
       "      <td>2022-02-28</td>\n",
       "      <td>Study Reading</td>\n",
       "      <td>60.0</td>\n",
       "    </tr>\n",
       "    <tr>\n",
       "      <th>3</th>\n",
       "      <td>2022-02-28</td>\n",
       "      <td>Study Writing Task 1</td>\n",
       "      <td>15.0</td>\n",
       "    </tr>\n",
       "    <tr>\n",
       "      <th>4</th>\n",
       "      <td>2022-02-28</td>\n",
       "      <td>Study Writing Task 2</td>\n",
       "      <td>85.0</td>\n",
       "    </tr>\n",
       "    <tr>\n",
       "      <th>...</th>\n",
       "      <td>...</td>\n",
       "      <td>...</td>\n",
       "      <td>...</td>\n",
       "    </tr>\n",
       "    <tr>\n",
       "      <th>762</th>\n",
       "      <td>2023-01-17</td>\n",
       "      <td>Math 111</td>\n",
       "      <td>263.0</td>\n",
       "    </tr>\n",
       "    <tr>\n",
       "      <th>763</th>\n",
       "      <td>2023-01-18</td>\n",
       "      <td>ENG</td>\n",
       "      <td>6.0</td>\n",
       "    </tr>\n",
       "    <tr>\n",
       "      <th>764</th>\n",
       "      <td>2023-01-19</td>\n",
       "      <td>ENG</td>\n",
       "      <td>25.0</td>\n",
       "    </tr>\n",
       "    <tr>\n",
       "      <th>765</th>\n",
       "      <td>2023-01-21</td>\n",
       "      <td>web</td>\n",
       "      <td>44.0</td>\n",
       "    </tr>\n",
       "    <tr>\n",
       "      <th>766</th>\n",
       "      <td>2023-01-22</td>\n",
       "      <td>first draft</td>\n",
       "      <td>75.0</td>\n",
       "    </tr>\n",
       "  </tbody>\n",
       "</table>\n",
       "<p>767 rows × 3 columns</p>\n",
       "</div>"
      ],
      "text/plain": [
       "          DATE                  TASK  TIME FOCUSED\n",
       "0   2022-02-28                 IELTS         114.0\n",
       "1   2022-02-28              PHYS 111          25.0\n",
       "2   2022-02-28         Study Reading          60.0\n",
       "3   2022-02-28  Study Writing Task 1          15.0\n",
       "4   2022-02-28  Study Writing Task 2          85.0\n",
       "..         ...                   ...           ...\n",
       "762 2023-01-17              Math 111         263.0\n",
       "763 2023-01-18                   ENG           6.0\n",
       "764 2023-01-19                   ENG          25.0\n",
       "765 2023-01-21                   web          44.0\n",
       "766 2023-01-22           first draft          75.0\n",
       "\n",
       "[767 rows x 3 columns]"
      ]
     },
     "execution_count": 110,
     "metadata": {},
     "output_type": "execute_result"
    }
   ],
   "source": [
    "grpdf = data\n",
    "grpdf = grpdf.groupby(['DATE','TASK'])['TIME FOCUSED'].sum().reset_index()\n",
    "\n",
    "dates = grpdf['DATE']\n",
    "tasks = grpdf['TASK']\n",
    "times = grpdf['TIME FOCUSED'].values\n",
    "\n",
    "arrays= [\n",
    "    dates.to_numpy(),\n",
    "    tasks.to_numpy(),\n",
    "        ]\n",
    "index = pd.MultiIndex.from_arrays(arrays,\n",
    "                                  names=[\"date\",\"task\"])\n",
    "dtf = pd.Series(times,index=index)\n",
    "grpdf\n"
   ]
  },
  {
   "attachments": {},
   "cell_type": "markdown",
   "metadata": {},
   "source": [
    "Unstack"
   ]
  },
  {
   "cell_type": "code",
   "execution_count": 111,
   "metadata": {},
   "outputs": [
    {
     "data": {
      "text/html": [
       "<div>\n",
       "<style scoped>\n",
       "    .dataframe tbody tr th:only-of-type {\n",
       "        vertical-align: middle;\n",
       "    }\n",
       "\n",
       "    .dataframe tbody tr th {\n",
       "        vertical-align: top;\n",
       "    }\n",
       "\n",
       "    .dataframe thead th {\n",
       "        text-align: right;\n",
       "    }\n",
       "</style>\n",
       "<table border=\"1\" class=\"dataframe\">\n",
       "  <thead>\n",
       "    <tr style=\"text-align: right;\">\n",
       "      <th>task</th>\n",
       "      <th>A weird problem ..</th>\n",
       "      <th>B &amp; C</th>\n",
       "      <th>Bootstrap</th>\n",
       "      <th>CS885</th>\n",
       "      <th>Chinese</th>\n",
       "      <th>Data analysis</th>\n",
       "      <th>Documantation</th>\n",
       "      <th>Drone simulation</th>\n",
       "      <th>ENG</th>\n",
       "      <th>Excel</th>\n",
       "      <th>...</th>\n",
       "      <th>kuran</th>\n",
       "      <th>kurs</th>\n",
       "      <th>last day bc</th>\n",
       "      <th>lesson student</th>\n",
       "      <th>numberga.me</th>\n",
       "      <th>odtü</th>\n",
       "      <th>program</th>\n",
       "      <th>rebuidling</th>\n",
       "      <th>violin</th>\n",
       "      <th>web</th>\n",
       "    </tr>\n",
       "    <tr>\n",
       "      <th>date</th>\n",
       "      <th></th>\n",
       "      <th></th>\n",
       "      <th></th>\n",
       "      <th></th>\n",
       "      <th></th>\n",
       "      <th></th>\n",
       "      <th></th>\n",
       "      <th></th>\n",
       "      <th></th>\n",
       "      <th></th>\n",
       "      <th></th>\n",
       "      <th></th>\n",
       "      <th></th>\n",
       "      <th></th>\n",
       "      <th></th>\n",
       "      <th></th>\n",
       "      <th></th>\n",
       "      <th></th>\n",
       "      <th></th>\n",
       "      <th></th>\n",
       "      <th></th>\n",
       "    </tr>\n",
       "  </thead>\n",
       "  <tbody>\n",
       "    <tr>\n",
       "      <th>2022-02-28</th>\n",
       "      <td>0.0</td>\n",
       "      <td>0.0</td>\n",
       "      <td>0.0</td>\n",
       "      <td>0.0</td>\n",
       "      <td>0.0</td>\n",
       "      <td>0.0</td>\n",
       "      <td>0.0</td>\n",
       "      <td>0.0</td>\n",
       "      <td>0.0</td>\n",
       "      <td>0.0</td>\n",
       "      <td>...</td>\n",
       "      <td>0.0</td>\n",
       "      <td>0.0</td>\n",
       "      <td>0.0</td>\n",
       "      <td>0.0</td>\n",
       "      <td>0.0</td>\n",
       "      <td>0.0</td>\n",
       "      <td>0.0</td>\n",
       "      <td>0.0</td>\n",
       "      <td>0.0</td>\n",
       "      <td>0.0</td>\n",
       "    </tr>\n",
       "    <tr>\n",
       "      <th>2022-03-01</th>\n",
       "      <td>0.0</td>\n",
       "      <td>0.0</td>\n",
       "      <td>0.0</td>\n",
       "      <td>0.0</td>\n",
       "      <td>0.0</td>\n",
       "      <td>0.0</td>\n",
       "      <td>0.0</td>\n",
       "      <td>0.0</td>\n",
       "      <td>0.0</td>\n",
       "      <td>0.0</td>\n",
       "      <td>...</td>\n",
       "      <td>0.0</td>\n",
       "      <td>0.0</td>\n",
       "      <td>0.0</td>\n",
       "      <td>0.0</td>\n",
       "      <td>0.0</td>\n",
       "      <td>0.0</td>\n",
       "      <td>50.0</td>\n",
       "      <td>0.0</td>\n",
       "      <td>0.0</td>\n",
       "      <td>0.0</td>\n",
       "    </tr>\n",
       "    <tr>\n",
       "      <th>2022-03-02</th>\n",
       "      <td>0.0</td>\n",
       "      <td>0.0</td>\n",
       "      <td>0.0</td>\n",
       "      <td>0.0</td>\n",
       "      <td>25.0</td>\n",
       "      <td>0.0</td>\n",
       "      <td>0.0</td>\n",
       "      <td>0.0</td>\n",
       "      <td>0.0</td>\n",
       "      <td>0.0</td>\n",
       "      <td>...</td>\n",
       "      <td>0.0</td>\n",
       "      <td>0.0</td>\n",
       "      <td>0.0</td>\n",
       "      <td>0.0</td>\n",
       "      <td>0.0</td>\n",
       "      <td>0.0</td>\n",
       "      <td>30.0</td>\n",
       "      <td>0.0</td>\n",
       "      <td>0.0</td>\n",
       "      <td>0.0</td>\n",
       "    </tr>\n",
       "    <tr>\n",
       "      <th>2022-03-03</th>\n",
       "      <td>0.0</td>\n",
       "      <td>0.0</td>\n",
       "      <td>0.0</td>\n",
       "      <td>0.0</td>\n",
       "      <td>25.0</td>\n",
       "      <td>0.0</td>\n",
       "      <td>0.0</td>\n",
       "      <td>0.0</td>\n",
       "      <td>0.0</td>\n",
       "      <td>0.0</td>\n",
       "      <td>...</td>\n",
       "      <td>0.0</td>\n",
       "      <td>0.0</td>\n",
       "      <td>0.0</td>\n",
       "      <td>0.0</td>\n",
       "      <td>0.0</td>\n",
       "      <td>0.0</td>\n",
       "      <td>0.0</td>\n",
       "      <td>0.0</td>\n",
       "      <td>0.0</td>\n",
       "      <td>0.0</td>\n",
       "    </tr>\n",
       "    <tr>\n",
       "      <th>2022-03-04</th>\n",
       "      <td>0.0</td>\n",
       "      <td>0.0</td>\n",
       "      <td>0.0</td>\n",
       "      <td>0.0</td>\n",
       "      <td>25.0</td>\n",
       "      <td>0.0</td>\n",
       "      <td>0.0</td>\n",
       "      <td>0.0</td>\n",
       "      <td>0.0</td>\n",
       "      <td>0.0</td>\n",
       "      <td>...</td>\n",
       "      <td>0.0</td>\n",
       "      <td>0.0</td>\n",
       "      <td>0.0</td>\n",
       "      <td>0.0</td>\n",
       "      <td>0.0</td>\n",
       "      <td>0.0</td>\n",
       "      <td>0.0</td>\n",
       "      <td>0.0</td>\n",
       "      <td>0.0</td>\n",
       "      <td>0.0</td>\n",
       "    </tr>\n",
       "    <tr>\n",
       "      <th>...</th>\n",
       "      <td>...</td>\n",
       "      <td>...</td>\n",
       "      <td>...</td>\n",
       "      <td>...</td>\n",
       "      <td>...</td>\n",
       "      <td>...</td>\n",
       "      <td>...</td>\n",
       "      <td>...</td>\n",
       "      <td>...</td>\n",
       "      <td>...</td>\n",
       "      <td>...</td>\n",
       "      <td>...</td>\n",
       "      <td>...</td>\n",
       "      <td>...</td>\n",
       "      <td>...</td>\n",
       "      <td>...</td>\n",
       "      <td>...</td>\n",
       "      <td>...</td>\n",
       "      <td>...</td>\n",
       "      <td>...</td>\n",
       "      <td>...</td>\n",
       "    </tr>\n",
       "    <tr>\n",
       "      <th>2023-01-17</th>\n",
       "      <td>0.0</td>\n",
       "      <td>0.0</td>\n",
       "      <td>0.0</td>\n",
       "      <td>0.0</td>\n",
       "      <td>0.0</td>\n",
       "      <td>0.0</td>\n",
       "      <td>0.0</td>\n",
       "      <td>0.0</td>\n",
       "      <td>0.0</td>\n",
       "      <td>0.0</td>\n",
       "      <td>...</td>\n",
       "      <td>0.0</td>\n",
       "      <td>0.0</td>\n",
       "      <td>0.0</td>\n",
       "      <td>0.0</td>\n",
       "      <td>0.0</td>\n",
       "      <td>0.0</td>\n",
       "      <td>0.0</td>\n",
       "      <td>0.0</td>\n",
       "      <td>0.0</td>\n",
       "      <td>0.0</td>\n",
       "    </tr>\n",
       "    <tr>\n",
       "      <th>2023-01-18</th>\n",
       "      <td>0.0</td>\n",
       "      <td>0.0</td>\n",
       "      <td>0.0</td>\n",
       "      <td>0.0</td>\n",
       "      <td>0.0</td>\n",
       "      <td>0.0</td>\n",
       "      <td>0.0</td>\n",
       "      <td>0.0</td>\n",
       "      <td>6.0</td>\n",
       "      <td>0.0</td>\n",
       "      <td>...</td>\n",
       "      <td>0.0</td>\n",
       "      <td>0.0</td>\n",
       "      <td>0.0</td>\n",
       "      <td>0.0</td>\n",
       "      <td>0.0</td>\n",
       "      <td>0.0</td>\n",
       "      <td>0.0</td>\n",
       "      <td>0.0</td>\n",
       "      <td>0.0</td>\n",
       "      <td>0.0</td>\n",
       "    </tr>\n",
       "    <tr>\n",
       "      <th>2023-01-19</th>\n",
       "      <td>0.0</td>\n",
       "      <td>0.0</td>\n",
       "      <td>0.0</td>\n",
       "      <td>0.0</td>\n",
       "      <td>0.0</td>\n",
       "      <td>0.0</td>\n",
       "      <td>0.0</td>\n",
       "      <td>0.0</td>\n",
       "      <td>25.0</td>\n",
       "      <td>0.0</td>\n",
       "      <td>...</td>\n",
       "      <td>0.0</td>\n",
       "      <td>0.0</td>\n",
       "      <td>0.0</td>\n",
       "      <td>0.0</td>\n",
       "      <td>0.0</td>\n",
       "      <td>0.0</td>\n",
       "      <td>0.0</td>\n",
       "      <td>0.0</td>\n",
       "      <td>0.0</td>\n",
       "      <td>0.0</td>\n",
       "    </tr>\n",
       "    <tr>\n",
       "      <th>2023-01-21</th>\n",
       "      <td>0.0</td>\n",
       "      <td>0.0</td>\n",
       "      <td>0.0</td>\n",
       "      <td>0.0</td>\n",
       "      <td>0.0</td>\n",
       "      <td>0.0</td>\n",
       "      <td>0.0</td>\n",
       "      <td>0.0</td>\n",
       "      <td>0.0</td>\n",
       "      <td>0.0</td>\n",
       "      <td>...</td>\n",
       "      <td>0.0</td>\n",
       "      <td>0.0</td>\n",
       "      <td>0.0</td>\n",
       "      <td>0.0</td>\n",
       "      <td>0.0</td>\n",
       "      <td>0.0</td>\n",
       "      <td>0.0</td>\n",
       "      <td>0.0</td>\n",
       "      <td>0.0</td>\n",
       "      <td>44.0</td>\n",
       "    </tr>\n",
       "    <tr>\n",
       "      <th>2023-01-22</th>\n",
       "      <td>0.0</td>\n",
       "      <td>0.0</td>\n",
       "      <td>0.0</td>\n",
       "      <td>0.0</td>\n",
       "      <td>0.0</td>\n",
       "      <td>0.0</td>\n",
       "      <td>0.0</td>\n",
       "      <td>0.0</td>\n",
       "      <td>0.0</td>\n",
       "      <td>0.0</td>\n",
       "      <td>...</td>\n",
       "      <td>0.0</td>\n",
       "      <td>0.0</td>\n",
       "      <td>0.0</td>\n",
       "      <td>0.0</td>\n",
       "      <td>0.0</td>\n",
       "      <td>0.0</td>\n",
       "      <td>0.0</td>\n",
       "      <td>0.0</td>\n",
       "      <td>0.0</td>\n",
       "      <td>0.0</td>\n",
       "    </tr>\n",
       "  </tbody>\n",
       "</table>\n",
       "<p>291 rows × 80 columns</p>\n",
       "</div>"
      ],
      "text/plain": [
       "task        A weird problem ..  B & C  Bootstrap  CS885  Chinese  \\\n",
       "date                                                               \n",
       "2022-02-28                 0.0    0.0        0.0    0.0      0.0   \n",
       "2022-03-01                 0.0    0.0        0.0    0.0      0.0   \n",
       "2022-03-02                 0.0    0.0        0.0    0.0     25.0   \n",
       "2022-03-03                 0.0    0.0        0.0    0.0     25.0   \n",
       "2022-03-04                 0.0    0.0        0.0    0.0     25.0   \n",
       "...                        ...    ...        ...    ...      ...   \n",
       "2023-01-17                 0.0    0.0        0.0    0.0      0.0   \n",
       "2023-01-18                 0.0    0.0        0.0    0.0      0.0   \n",
       "2023-01-19                 0.0    0.0        0.0    0.0      0.0   \n",
       "2023-01-21                 0.0    0.0        0.0    0.0      0.0   \n",
       "2023-01-22                 0.0    0.0        0.0    0.0      0.0   \n",
       "\n",
       "task        Data analysis  Documantation  Drone simulation   ENG  Excel  ...  \\\n",
       "date                                                                     ...   \n",
       "2022-02-28            0.0            0.0               0.0   0.0    0.0  ...   \n",
       "2022-03-01            0.0            0.0               0.0   0.0    0.0  ...   \n",
       "2022-03-02            0.0            0.0               0.0   0.0    0.0  ...   \n",
       "2022-03-03            0.0            0.0               0.0   0.0    0.0  ...   \n",
       "2022-03-04            0.0            0.0               0.0   0.0    0.0  ...   \n",
       "...                   ...            ...               ...   ...    ...  ...   \n",
       "2023-01-17            0.0            0.0               0.0   0.0    0.0  ...   \n",
       "2023-01-18            0.0            0.0               0.0   6.0    0.0  ...   \n",
       "2023-01-19            0.0            0.0               0.0  25.0    0.0  ...   \n",
       "2023-01-21            0.0            0.0               0.0   0.0    0.0  ...   \n",
       "2023-01-22            0.0            0.0               0.0   0.0    0.0  ...   \n",
       "\n",
       "task        kuran  kurs  last day bc  lesson student  numberga.me  odtü  \\\n",
       "date                                                                      \n",
       "2022-02-28    0.0   0.0          0.0             0.0          0.0   0.0   \n",
       "2022-03-01    0.0   0.0          0.0             0.0          0.0   0.0   \n",
       "2022-03-02    0.0   0.0          0.0             0.0          0.0   0.0   \n",
       "2022-03-03    0.0   0.0          0.0             0.0          0.0   0.0   \n",
       "2022-03-04    0.0   0.0          0.0             0.0          0.0   0.0   \n",
       "...           ...   ...          ...             ...          ...   ...   \n",
       "2023-01-17    0.0   0.0          0.0             0.0          0.0   0.0   \n",
       "2023-01-18    0.0   0.0          0.0             0.0          0.0   0.0   \n",
       "2023-01-19    0.0   0.0          0.0             0.0          0.0   0.0   \n",
       "2023-01-21    0.0   0.0          0.0             0.0          0.0   0.0   \n",
       "2023-01-22    0.0   0.0          0.0             0.0          0.0   0.0   \n",
       "\n",
       "task        program  rebuidling  violin   web  \n",
       "date                                           \n",
       "2022-02-28      0.0         0.0     0.0   0.0  \n",
       "2022-03-01     50.0         0.0     0.0   0.0  \n",
       "2022-03-02     30.0         0.0     0.0   0.0  \n",
       "2022-03-03      0.0         0.0     0.0   0.0  \n",
       "2022-03-04      0.0         0.0     0.0   0.0  \n",
       "...             ...         ...     ...   ...  \n",
       "2023-01-17      0.0         0.0     0.0   0.0  \n",
       "2023-01-18      0.0         0.0     0.0   0.0  \n",
       "2023-01-19      0.0         0.0     0.0   0.0  \n",
       "2023-01-21      0.0         0.0     0.0  44.0  \n",
       "2023-01-22      0.0         0.0     0.0   0.0  \n",
       "\n",
       "[291 rows x 80 columns]"
      ]
     },
     "execution_count": 111,
     "metadata": {},
     "output_type": "execute_result"
    }
   ],
   "source": [
    "unstacked_df = dtf.unstack()\n",
    "\n",
    "unstacked_df =unstacked_df.fillna(0)\n",
    "unstacked_df\n",
    "\n",
    "\n"
   ]
  },
  {
   "attachments": {},
   "cell_type": "markdown",
   "metadata": {},
   "source": [
    "## seaborn bar chart\n"
   ]
  },
  {
   "cell_type": "code",
   "execution_count": 112,
   "metadata": {},
   "outputs": [
    {
     "data": {
      "image/png": "[encoded data removed]",
      "text/plain": [
       "<Figure size 1440x720 with 1 Axes>"
      ]
     },
     "metadata": {},
     "output_type": "display_data"
    }
   ],
   "source": [
    "\n",
    "sns_df = unstacked_df\n",
    "top_days = input() or 10\n",
    "\n",
    "max_dates = sns_df.sum(axis=1).nlargest(top_days).index\n",
    "get_max = sns_df.loc[max_dates]\n",
    "get_max = get_max.loc[:, (get_max != 0).any(axis=0)]\n",
    "get_max.index = get_max.index.strftime('%d %B %Y %a')\n",
    "sns.set(style='whitegrid')\n",
    "\n",
    "ax = get_max.plot(kind='bar', stacked=True, figsize=(20, 10))\n",
    "ax.set_xlabel('Date')\n",
    "ax.set_ylabel('Time')\n",
    "ax.legend(title='Task', bbox_to_anchor=(1.05, 1), loc='upper left')\n",
    "\n",
    "for patch in ax.patches:\n",
    "    x = patch.get_x() + patch.get_width() / 2\n",
    "    y = patch.get_y() + patch.get_height() / 2\n",
    "    value = f\"{patch.get_height():.0f}\"\n",
    "    if patch.get_height() != 0:\n",
    "        ax.text(x, y, value, ha='center', va='center', color='white')\n",
    "ax.set_title(f\"Top {len(max_dates)} days studied most \\n between \\n {strf_start_date}  and {strf_end_date}\",fontsize=30)\n",
    "\n",
    "plt.show()\n"
   ]
  },
  {
   "attachments": {},
   "cell_type": "markdown",
   "metadata": {},
   "source": [
    "add column \n"
   ]
  },
  {
   "cell_type": "code",
   "execution_count": 113,
   "metadata": {},
   "outputs": [
    {
     "data": {
      "text/html": [
       "<div>\n",
       "<style scoped>\n",
       "    .dataframe tbody tr th:only-of-type {\n",
       "        vertical-align: middle;\n",
       "    }\n",
       "\n",
       "    .dataframe tbody tr th {\n",
       "        vertical-align: top;\n",
       "    }\n",
       "\n",
       "    .dataframe thead th {\n",
       "        text-align: right;\n",
       "    }\n",
       "</style>\n",
       "<table border=\"1\" class=\"dataframe\">\n",
       "  <thead>\n",
       "    <tr style=\"text-align: right;\">\n",
       "      <th>task</th>\n",
       "      <th>date</th>\n",
       "      <th>total</th>\n",
       "      <th>A weird problem ..</th>\n",
       "      <th>B &amp; C</th>\n",
       "      <th>Bootstrap</th>\n",
       "      <th>CS885</th>\n",
       "      <th>Chinese</th>\n",
       "      <th>Data analysis</th>\n",
       "      <th>Documantation</th>\n",
       "      <th>Drone simulation</th>\n",
       "      <th>...</th>\n",
       "      <th>kuran</th>\n",
       "      <th>kurs</th>\n",
       "      <th>last day bc</th>\n",
       "      <th>lesson student</th>\n",
       "      <th>numberga.me</th>\n",
       "      <th>odtü</th>\n",
       "      <th>program</th>\n",
       "      <th>rebuidling</th>\n",
       "      <th>violin</th>\n",
       "      <th>web</th>\n",
       "    </tr>\n",
       "  </thead>\n",
       "  <tbody>\n",
       "    <tr>\n",
       "      <th>0</th>\n",
       "      <td>2022-09-14</td>\n",
       "      <td>605.0</td>\n",
       "      <td>0.0</td>\n",
       "      <td>0.0</td>\n",
       "      <td>0.0</td>\n",
       "      <td>0.0</td>\n",
       "      <td>0.0</td>\n",
       "      <td>0.0</td>\n",
       "      <td>0.0</td>\n",
       "      <td>0.0</td>\n",
       "      <td>...</td>\n",
       "      <td>0.0</td>\n",
       "      <td>0.0</td>\n",
       "      <td>0.0</td>\n",
       "      <td>0.0</td>\n",
       "      <td>0.0</td>\n",
       "      <td>0.0</td>\n",
       "      <td>0.0</td>\n",
       "      <td>455.0</td>\n",
       "      <td>0.0</td>\n",
       "      <td>0.0</td>\n",
       "    </tr>\n",
       "    <tr>\n",
       "      <th>1</th>\n",
       "      <td>2022-06-19</td>\n",
       "      <td>592.0</td>\n",
       "      <td>0.0</td>\n",
       "      <td>0.0</td>\n",
       "      <td>0.0</td>\n",
       "      <td>0.0</td>\n",
       "      <td>25.0</td>\n",
       "      <td>0.0</td>\n",
       "      <td>0.0</td>\n",
       "      <td>0.0</td>\n",
       "      <td>...</td>\n",
       "      <td>0.0</td>\n",
       "      <td>0.0</td>\n",
       "      <td>0.0</td>\n",
       "      <td>0.0</td>\n",
       "      <td>0.0</td>\n",
       "      <td>0.0</td>\n",
       "      <td>0.0</td>\n",
       "      <td>0.0</td>\n",
       "      <td>0.0</td>\n",
       "      <td>0.0</td>\n",
       "    </tr>\n",
       "    <tr>\n",
       "      <th>2</th>\n",
       "      <td>2022-07-24</td>\n",
       "      <td>573.0</td>\n",
       "      <td>0.0</td>\n",
       "      <td>273.0</td>\n",
       "      <td>0.0</td>\n",
       "      <td>0.0</td>\n",
       "      <td>0.0</td>\n",
       "      <td>0.0</td>\n",
       "      <td>0.0</td>\n",
       "      <td>0.0</td>\n",
       "      <td>...</td>\n",
       "      <td>0.0</td>\n",
       "      <td>0.0</td>\n",
       "      <td>0.0</td>\n",
       "      <td>0.0</td>\n",
       "      <td>0.0</td>\n",
       "      <td>0.0</td>\n",
       "      <td>0.0</td>\n",
       "      <td>0.0</td>\n",
       "      <td>0.0</td>\n",
       "      <td>0.0</td>\n",
       "    </tr>\n",
       "    <tr>\n",
       "      <th>3</th>\n",
       "      <td>2022-08-07</td>\n",
       "      <td>556.0</td>\n",
       "      <td>0.0</td>\n",
       "      <td>0.0</td>\n",
       "      <td>0.0</td>\n",
       "      <td>0.0</td>\n",
       "      <td>0.0</td>\n",
       "      <td>0.0</td>\n",
       "      <td>0.0</td>\n",
       "      <td>0.0</td>\n",
       "      <td>...</td>\n",
       "      <td>0.0</td>\n",
       "      <td>0.0</td>\n",
       "      <td>0.0</td>\n",
       "      <td>0.0</td>\n",
       "      <td>0.0</td>\n",
       "      <td>0.0</td>\n",
       "      <td>0.0</td>\n",
       "      <td>0.0</td>\n",
       "      <td>0.0</td>\n",
       "      <td>0.0</td>\n",
       "    </tr>\n",
       "    <tr>\n",
       "      <th>4</th>\n",
       "      <td>2022-08-19</td>\n",
       "      <td>545.0</td>\n",
       "      <td>0.0</td>\n",
       "      <td>0.0</td>\n",
       "      <td>0.0</td>\n",
       "      <td>0.0</td>\n",
       "      <td>0.0</td>\n",
       "      <td>0.0</td>\n",
       "      <td>0.0</td>\n",
       "      <td>0.0</td>\n",
       "      <td>...</td>\n",
       "      <td>0.0</td>\n",
       "      <td>0.0</td>\n",
       "      <td>0.0</td>\n",
       "      <td>0.0</td>\n",
       "      <td>0.0</td>\n",
       "      <td>0.0</td>\n",
       "      <td>0.0</td>\n",
       "      <td>0.0</td>\n",
       "      <td>0.0</td>\n",
       "      <td>0.0</td>\n",
       "    </tr>\n",
       "  </tbody>\n",
       "</table>\n",
       "<p>5 rows × 82 columns</p>\n",
       "</div>"
      ],
      "text/plain": [
       "task       date  total  A weird problem ..  B & C  Bootstrap  CS885  Chinese  \\\n",
       "0    2022-09-14  605.0                 0.0    0.0        0.0    0.0      0.0   \n",
       "1    2022-06-19  592.0                 0.0    0.0        0.0    0.0     25.0   \n",
       "2    2022-07-24  573.0                 0.0  273.0        0.0    0.0      0.0   \n",
       "3    2022-08-07  556.0                 0.0    0.0        0.0    0.0      0.0   \n",
       "4    2022-08-19  545.0                 0.0    0.0        0.0    0.0      0.0   \n",
       "\n",
       "task  Data analysis  Documantation  Drone simulation  ...  kuran  kurs  \\\n",
       "0               0.0            0.0               0.0  ...    0.0   0.0   \n",
       "1               0.0            0.0               0.0  ...    0.0   0.0   \n",
       "2               0.0            0.0               0.0  ...    0.0   0.0   \n",
       "3               0.0            0.0               0.0  ...    0.0   0.0   \n",
       "4               0.0            0.0               0.0  ...    0.0   0.0   \n",
       "\n",
       "task  last day bc  lesson student  numberga.me  odtü  program  rebuidling  \\\n",
       "0             0.0             0.0          0.0   0.0      0.0       455.0   \n",
       "1             0.0             0.0          0.0   0.0      0.0         0.0   \n",
       "2             0.0             0.0          0.0   0.0      0.0         0.0   \n",
       "3             0.0             0.0          0.0   0.0      0.0         0.0   \n",
       "4             0.0             0.0          0.0   0.0      0.0         0.0   \n",
       "\n",
       "task  violin  web  \n",
       "0        0.0  0.0  \n",
       "1        0.0  0.0  \n",
       "2        0.0  0.0  \n",
       "3        0.0  0.0  \n",
       "4        0.0  0.0  \n",
       "\n",
       "[5 rows x 82 columns]"
      ]
     },
     "execution_count": 113,
     "metadata": {},
     "output_type": "execute_result"
    }
   ],
   "source": [
    "\n",
    "unstacked_df['total'] =  unstacked_df.sum(axis=1)\n",
    "\n",
    "cols = unstacked_df.columns.tolist()\n",
    "\n",
    "cols = [cols[-1]] + cols[:-1]\n",
    "unstacked_df = unstacked_df[cols]\n",
    "unstacked_df.head(30)\n",
    "unstacked_df = unstacked_df.groupby(['total time'],\n",
    "                                  level='date').sum()\n",
    "unstacked_df= unstacked_df.sort_values(by='total',\n",
    "                                       ascending= False ).reset_index().head(5)\n",
    "unstacked_df"
   ]
  },
  {
   "attachments": {},
   "cell_type": "markdown",
   "metadata": {},
   "source": [
    "## classifying by day name \n"
   ]
  },
  {
   "cell_type": "code",
   "execution_count": 114,
   "metadata": {},
   "outputs": [],
   "source": [
    "days_df = data \n",
    "days_df['DATE'] = days_df['DATE'].dt.day_name()\n"
   ]
  },
  {
   "cell_type": "code",
   "execution_count": 115,
   "metadata": {},
   "outputs": [],
   "source": [
    "days_df= days_df.groupby(['DATE','TASK'])['TIME FOCUSED'].sum()"
   ]
  },
  {
   "cell_type": "code",
   "execution_count": 116,
   "metadata": {},
   "outputs": [
    {
     "data": {
      "text/plain": [
       "DATE    TASK                          \n",
       "Friday  B & C                              313.0\n",
       "        Chinese                            425.0\n",
       "        ENG                                175.0\n",
       "        Game css                           175.0\n",
       "        General                             25.0\n",
       "        HTML, CSS, Flexbox & Bootstrap     125.0\n",
       "        IELTS                               85.0\n",
       "        Javascript                         728.0\n",
       "        MATH 115                           100.0\n",
       "        MATH 153                          1129.0\n",
       "Name: TIME FOCUSED, dtype: float64"
      ]
     },
     "execution_count": 116,
     "metadata": {},
     "output_type": "execute_result"
    }
   ],
   "source": [
    "days_df.head(10)"
   ]
  },
  {
   "cell_type": "code",
   "execution_count": 117,
   "metadata": {},
   "outputs": [],
   "source": [
    "days_sns = days_df.unstack().fillna(0)"
   ]
  },
  {
   "cell_type": "code",
   "execution_count": 118,
   "metadata": {},
   "outputs": [
    {
     "data": {
      "image/png": "[encoded data removed]",
      "text/plain": [
       "<Figure size 1080x1080 with 1 Axes>"
      ]
     },
     "metadata": {},
     "output_type": "display_data"
    }
   ],
   "source": [
    "max_dates = days_sns.sum(axis=1).index\n",
    "\n",
    "get_max = days_sns.loc[max_dates]\n",
    "\n",
    "# get nonzero columns\n",
    "get_max = get_max.loc[:, (get_max != 0).any(axis=0)]\n",
    "#get_max.index = get_max.index.strftime('%d %B %Y %a')\n",
    "\n",
    "sns.set(style='whitegrid')\n",
    "\n",
    "ax = get_max.plot(kind='bar', stacked=True, figsize=(15, 15))\n",
    "ax.set_xlabel('days')\n",
    "ax.set_ylabel('Time')\n",
    "ax.legend(title='Task', bbox_to_anchor=(1.05, 1), loc='upper left')\n",
    "\n",
    "# Add values on each bar\n",
    "# for patch in ax.patches:\n",
    "#     x = patch.get_x() + patch.get_width() / 2\n",
    "#     y = patch.get_y() + patch.get_height() / 2\n",
    "#     value = f\"{patch.get_height():.0f}\"\n",
    "#     if patch.get_height() != 0:\n",
    "#         ax.text( x,y, value, ha='center', va='center', color='white')\n",
    "\n",
    "ax.set_title(f\"task distributions by days of week \\n between \\n {strf_start_date}  and {strf_end_date}\",\n",
    "             fontsize=15)\n",
    "# Show the plot\n",
    "plt.show()"
   ]
  },
  {
   "cell_type": "code",
   "execution_count": 119,
   "metadata": {},
   "outputs": [
    {
     "data": {
      "application/vnd.plotly.v1+json": {
       "config": {
        "plotlyServerURL": "https://plot.ly"
       },
       "data": [
        {
         "name": "A weird problem ..",
         "type": "bar",
         "x": [
          "Friday",
          "Monday",
          "Saturday",
          "Sunday",
          "Thursday",
          "Tuesday",
          "Wednesday"
         ],
         "y": [
          0,
          0,
          25,
          25,
          0,
          0,
          0
         ]
        },
        {
         "name": "B & C",
         "type": "bar",
         "x": [
          "Friday",
          "Monday",
          "Saturday",
          "Sunday",
          "Thursday",
          "Tuesday",
          "Wednesday"
         ],
         "y": [
          313,
          0,
          434,
          333,
          400,
          175,
          199
         ]
        },
        {
         "name": "Bootstrap",
         "type": "bar",
         "x": [
          "Friday",
          "Monday",
          "Saturday",
          "Sunday",
          "Thursday",
          "Tuesday",
          "Wednesday"
         ],
         "y": [
          0,
          0,
          0,
          0,
          25,
          0,
          0
         ]
        },
        {
         "name": "CS885",
         "type": "bar",
         "x": [
          "Friday",
          "Monday",
          "Saturday",
          "Sunday",
          "Thursday",
          "Tuesday",
          "Wednesday"
         ],
         "y": [
          0,
          35,
          475,
          227,
          0,
          189,
          0
         ]
        },
        {
         "name": "Chinese",
         "type": "bar",
         "x": [
          "Friday",
          "Monday",
          "Saturday",
          "Sunday",
          "Thursday",
          "Tuesday",
          "Wednesday"
         ],
         "y": [
          425,
          148,
          125,
          593,
          222,
          355,
          192
         ]
        },
        {
         "name": "Data analysis",
         "type": "bar",
         "x": [
          "Friday",
          "Monday",
          "Saturday",
          "Sunday",
          "Thursday",
          "Tuesday",
          "Wednesday"
         ],
         "y": [
          0,
          232,
          0,
          25,
          0,
          300,
          325
         ]
        },
        {
         "name": "Documantation",
         "type": "bar",
         "x": [
          "Friday",
          "Monday",
          "Saturday",
          "Sunday",
          "Thursday",
          "Tuesday",
          "Wednesday"
         ],
         "y": [
          0,
          58,
          163,
          95,
          251,
          0,
          166
         ]
        },
        {
         "name": "Drone simulation",
         "type": "bar",
         "x": [
          "Friday",
          "Monday",
          "Saturday",
          "Sunday",
          "Thursday",
          "Tuesday",
          "Wednesday"
         ],
         "y": [
          0,
          0,
          0,
          0,
          0,
          25,
          141
         ]
        },
        {
         "name": "ENG",
         "type": "bar",
         "x": [
          "Friday",
          "Monday",
          "Saturday",
          "Sunday",
          "Thursday",
          "Tuesday",
          "Wednesday"
         ],
         "y": [
          175,
          75,
          25,
          432,
          594,
          304,
          522
         ]
        },
        {
         "name": "Excel",
         "type": "bar",
         "x": [
          "Friday",
          "Monday",
          "Saturday",
          "Sunday",
          "Thursday",
          "Tuesday",
          "Wednesday"
         ],
         "y": [
          0,
          25,
          0,
          0,
          0,
          0,
          0
         ]
        },
        {
         "name": "Figma",
         "type": "bar",
         "x": [
          "Friday",
          "Monday",
          "Saturday",
          "Sunday",
          "Thursday",
          "Tuesday",
          "Wednesday"
         ],
         "y": [
          0,
          194,
          0,
          0,
          0,
          0,
          151
         ]
        },
        {
         "name": "Folder edit vs",
         "type": "bar",
         "x": [
          "Friday",
          "Monday",
          "Saturday",
          "Sunday",
          "Thursday",
          "Tuesday",
          "Wednesday"
         ],
         "y": [
          0,
          0,
          0,
          0,
          0,
          25,
          0
         ]
        },
        {
         "name": "Game css",
         "type": "bar",
         "x": [
          "Friday",
          "Monday",
          "Saturday",
          "Sunday",
          "Thursday",
          "Tuesday",
          "Wednesday"
         ],
         "y": [
          175,
          0,
          0,
          0,
          0,
          0,
          0
         ]
        },
        {
         "name": "General",
         "type": "bar",
         "x": [
          "Friday",
          "Monday",
          "Saturday",
          "Sunday",
          "Thursday",
          "Tuesday",
          "Wednesday"
         ],
         "y": [
          25,
          0,
          0,
          0,
          0,
          0,
          0
         ]
        },
        {
         "name": "HTML, CSS, Flexbox & Bootstrap",
         "type": "bar",
         "x": [
          "Friday",
          "Monday",
          "Saturday",
          "Sunday",
          "Thursday",
          "Tuesday",
          "Wednesday"
         ],
         "y": [
          125,
          163,
          325,
          400,
          0,
          125,
          3
         ]
        },
        {
         "name": "Handwriting",
         "type": "bar",
         "x": [
          "Friday",
          "Monday",
          "Saturday",
          "Sunday",
          "Thursday",
          "Tuesday",
          "Wednesday"
         ],
         "y": [
          0,
          0,
          25,
          0,
          0,
          0,
          0
         ]
        },
        {
         "name": "How I learn languages",
         "type": "bar",
         "x": [
          "Friday",
          "Monday",
          "Saturday",
          "Sunday",
          "Thursday",
          "Tuesday",
          "Wednesday"
         ],
         "y": [
          0,
          50,
          0,
          25,
          0,
          0,
          0
         ]
        },
        {
         "name": "IELTS",
         "type": "bar",
         "x": [
          "Friday",
          "Monday",
          "Saturday",
          "Sunday",
          "Thursday",
          "Tuesday",
          "Wednesday"
         ],
         "y": [
          85,
          227,
          202,
          0,
          133,
          275,
          125
         ]
        },
        {
         "name": "IELTS reading",
         "type": "bar",
         "x": [
          "Friday",
          "Monday",
          "Saturday",
          "Sunday",
          "Thursday",
          "Tuesday",
          "Wednesday"
         ],
         "y": [
          0,
          60,
          0,
          0,
          110,
          60,
          0
         ]
        },
        {
         "name": "Javascript",
         "type": "bar",
         "x": [
          "Friday",
          "Monday",
          "Saturday",
          "Sunday",
          "Thursday",
          "Tuesday",
          "Wednesday"
         ],
         "y": [
          728,
          473,
          364,
          976,
          550,
          705,
          505
         ]
        },
        {
         "name": "Khan Academy",
         "type": "bar",
         "x": [
          "Friday",
          "Monday",
          "Saturday",
          "Sunday",
          "Thursday",
          "Tuesday",
          "Wednesday"
         ],
         "y": [
          0,
          0,
          0,
          0,
          0,
          25,
          0
         ]
        },
        {
         "name": "Learn  HTML & CSS",
         "type": "bar",
         "x": [
          "Friday",
          "Monday",
          "Saturday",
          "Sunday",
          "Thursday",
          "Tuesday",
          "Wednesday"
         ],
         "y": [
          0,
          0,
          0,
          42,
          0,
          0,
          0
         ]
        },
        {
         "name": "Local storage",
         "type": "bar",
         "x": [
          "Friday",
          "Monday",
          "Saturday",
          "Sunday",
          "Thursday",
          "Tuesday",
          "Wednesday"
         ],
         "y": [
          0,
          0,
          0,
          0,
          0,
          0,
          150
         ]
        },
        {
         "name": "MATH 115",
         "type": "bar",
         "x": [
          "Friday",
          "Monday",
          "Saturday",
          "Sunday",
          "Thursday",
          "Tuesday",
          "Wednesday"
         ],
         "y": [
          100,
          165,
          164,
          169,
          100,
          357,
          225
         ]
        },
        {
         "name": "MATH 153",
         "type": "bar",
         "x": [
          "Friday",
          "Monday",
          "Saturday",
          "Sunday",
          "Thursday",
          "Tuesday",
          "Wednesday"
         ],
         "y": [
          1129,
          561,
          1329,
          1169,
          500,
          1719,
          246
         ]
        },
        {
         "name": "MATLAB Onramp",
         "type": "bar",
         "x": [
          "Friday",
          "Monday",
          "Saturday",
          "Sunday",
          "Thursday",
          "Tuesday",
          "Wednesday"
         ],
         "y": [
          26,
          0,
          25,
          0,
          34,
          25,
          106
         ]
        },
        {
         "name": "MTR-2",
         "type": "bar",
         "x": [
          "Friday",
          "Monday",
          "Saturday",
          "Sunday",
          "Thursday",
          "Tuesday",
          "Wednesday"
         ],
         "y": [
          150,
          150,
          91,
          100,
          327,
          100,
          200
         ]
        },
        {
         "name": "Math 111",
         "type": "bar",
         "x": [
          "Friday",
          "Monday",
          "Saturday",
          "Sunday",
          "Thursday",
          "Tuesday",
          "Wednesday"
         ],
         "y": [
          350,
          591,
          456,
          992,
          303,
          735,
          434
         ]
        },
        {
         "name": "Math problem",
         "type": "bar",
         "x": [
          "Friday",
          "Monday",
          "Saturday",
          "Sunday",
          "Thursday",
          "Tuesday",
          "Wednesday"
         ],
         "y": [
          25,
          0,
          0,
          0,
          0,
          0,
          0
         ]
        },
        {
         "name": "MathWorks",
         "type": "bar",
         "x": [
          "Friday",
          "Monday",
          "Saturday",
          "Sunday",
          "Thursday",
          "Tuesday",
          "Wednesday"
         ],
         "y": [
          50,
          0,
          0,
          0,
          50,
          0,
          0
         ]
        },
        {
         "name": "Medium",
         "type": "bar",
         "x": [
          "Friday",
          "Monday",
          "Saturday",
          "Sunday",
          "Thursday",
          "Tuesday",
          "Wednesday"
         ],
         "y": [
          25,
          25,
          0,
          0,
          0,
          25,
          0
         ]
        },
        {
         "name": "Mock Exam revision",
         "type": "bar",
         "x": [
          "Friday",
          "Monday",
          "Saturday",
          "Sunday",
          "Thursday",
          "Tuesday",
          "Wednesday"
         ],
         "y": [
          100,
          0,
          0,
          0,
          0,
          0,
          125
         ]
        },
        {
         "name": "Niyet mektubu",
         "type": "bar",
         "x": [
          "Friday",
          "Monday",
          "Saturday",
          "Sunday",
          "Thursday",
          "Tuesday",
          "Wednesday"
         ],
         "y": [
          0,
          75,
          0,
          50,
          0,
          0,
          0
         ]
        },
        {
         "name": "NoSql",
         "type": "bar",
         "x": [
          "Friday",
          "Monday",
          "Saturday",
          "Sunday",
          "Thursday",
          "Tuesday",
          "Wednesday"
         ],
         "y": [
          0,
          25,
          0,
          0,
          0,
          0,
          0
         ]
        },
        {
         "name": "Numpy",
         "type": "bar",
         "x": [
          "Friday",
          "Monday",
          "Saturday",
          "Sunday",
          "Thursday",
          "Tuesday",
          "Wednesday"
         ],
         "y": [
          0,
          75,
          25,
          0,
          42,
          0,
          0
         ]
        },
        {
         "name": "PHYS 111",
         "type": "bar",
         "x": [
          "Friday",
          "Monday",
          "Saturday",
          "Sunday",
          "Thursday",
          "Tuesday",
          "Wednesday"
         ],
         "y": [
          1054,
          1186,
          893,
          1665,
          990,
          1008,
          1693
         ]
        },
        {
         "name": "Page reload case",
         "type": "bar",
         "x": [
          "Friday",
          "Monday",
          "Saturday",
          "Sunday",
          "Thursday",
          "Tuesday",
          "Wednesday"
         ],
         "y": [
          100,
          25,
          250,
          486,
          0,
          225,
          450
         ]
        },
        {
         "name": "Personal statement",
         "type": "bar",
         "x": [
          "Friday",
          "Monday",
          "Saturday",
          "Sunday",
          "Thursday",
          "Tuesday",
          "Wednesday"
         ],
         "y": [
          56,
          0,
          0,
          50,
          0,
          90,
          50
         ]
        },
        {
         "name": "Preparing",
         "type": "bar",
         "x": [
          "Friday",
          "Monday",
          "Saturday",
          "Sunday",
          "Thursday",
          "Tuesday",
          "Wednesday"
         ],
         "y": [
          60,
          0,
          0,
          0,
          0,
          25,
          0
         ]
        },
        {
         "name": "Programming",
         "type": "bar",
         "x": [
          "Friday",
          "Monday",
          "Saturday",
          "Sunday",
          "Thursday",
          "Tuesday",
          "Wednesday"
         ],
         "y": [
          175,
          0,
          309,
          100,
          0,
          0,
          300
         ]
        },
        {
         "name": "Python",
         "type": "bar",
         "x": [
          "Friday",
          "Monday",
          "Saturday",
          "Sunday",
          "Thursday",
          "Tuesday",
          "Wednesday"
         ],
         "y": [
          191,
          214,
          6,
          267,
          281,
          162,
          229
         ]
        },
        {
         "name": "React",
         "type": "bar",
         "x": [
          "Friday",
          "Monday",
          "Saturday",
          "Sunday",
          "Thursday",
          "Tuesday",
          "Wednesday"
         ],
         "y": [
          1738,
          1167,
          376,
          1390,
          1444,
          575,
          876
         ]
        },
        {
         "name": "Read news",
         "type": "bar",
         "x": [
          "Friday",
          "Monday",
          "Saturday",
          "Sunday",
          "Thursday",
          "Tuesday",
          "Wednesday"
         ],
         "y": [
          0,
          0,
          0,
          25,
          0,
          25,
          0
         ]
        },
        {
         "name": "Reading",
         "type": "bar",
         "x": [
          "Friday",
          "Monday",
          "Saturday",
          "Sunday",
          "Thursday",
          "Tuesday",
          "Wednesday"
         ],
         "y": [
          255,
          155,
          50,
          85,
          195,
          175,
          175
         ]
        },
        {
         "name": "Router",
         "type": "bar",
         "x": [
          "Friday",
          "Monday",
          "Saturday",
          "Sunday",
          "Thursday",
          "Tuesday",
          "Wednesday"
         ],
         "y": [
          25,
          0,
          0,
          0,
          0,
          0,
          0
         ]
        },
        {
         "name": "SAP",
         "type": "bar",
         "x": [
          "Friday",
          "Monday",
          "Saturday",
          "Sunday",
          "Thursday",
          "Tuesday",
          "Wednesday"
         ],
         "y": [
          0,
          0,
          25,
          25,
          0,
          0,
          0
         ]
        },
        {
         "name": "Simulink",
         "type": "bar",
         "x": [
          "Friday",
          "Monday",
          "Saturday",
          "Sunday",
          "Thursday",
          "Tuesday",
          "Wednesday"
         ],
         "y": [
          100,
          0,
          150,
          10,
          0,
          77,
          0
         ]
        },
        {
         "name": "Stateflow",
         "type": "bar",
         "x": [
          "Friday",
          "Monday",
          "Saturday",
          "Sunday",
          "Thursday",
          "Tuesday",
          "Wednesday"
         ],
         "y": [
          0,
          0,
          0,
          0,
          0,
          324,
          0
         ]
        },
        {
         "name": "Study Reading",
         "type": "bar",
         "x": [
          "Friday",
          "Monday",
          "Saturday",
          "Sunday",
          "Thursday",
          "Tuesday",
          "Wednesday"
         ],
         "y": [
          80,
          160,
          70,
          0,
          50,
          60,
          90
         ]
        },
        {
         "name": "Study Speaking",
         "type": "bar",
         "x": [
          "Friday",
          "Monday",
          "Saturday",
          "Sunday",
          "Thursday",
          "Tuesday",
          "Wednesday"
         ],
         "y": [
          3,
          0,
          42,
          0,
          0,
          75,
          84
         ]
        },
        {
         "name": "Study Writing Task 1",
         "type": "bar",
         "x": [
          "Friday",
          "Monday",
          "Saturday",
          "Sunday",
          "Thursday",
          "Tuesday",
          "Wednesday"
         ],
         "y": [
          150,
          60,
          366,
          230,
          233,
          408,
          403
         ]
        },
        {
         "name": "Study Writing Task 2",
         "type": "bar",
         "x": [
          "Friday",
          "Monday",
          "Saturday",
          "Sunday",
          "Thursday",
          "Tuesday",
          "Wednesday"
         ],
         "y": [
          100,
          347,
          410,
          0,
          25,
          140,
          210
         ]
        },
        {
         "name": "Study paraphrase",
         "type": "bar",
         "x": [
          "Friday",
          "Monday",
          "Saturday",
          "Sunday",
          "Thursday",
          "Tuesday",
          "Wednesday"
         ],
         "y": [
          0,
          100,
          0,
          0,
          0,
          0,
          0
         ]
        },
        {
         "name": "Sudy Listening",
         "type": "bar",
         "x": [
          "Friday",
          "Monday",
          "Saturday",
          "Sunday",
          "Thursday",
          "Tuesday",
          "Wednesday"
         ],
         "y": [
          35,
          73,
          0,
          42,
          90,
          69,
          0
         ]
        },
        {
         "name": "Topoloji",
         "type": "bar",
         "x": [
          "Friday",
          "Monday",
          "Saturday",
          "Sunday",
          "Thursday",
          "Tuesday",
          "Wednesday"
         ],
         "y": [
          0,
          0,
          0,
          0,
          25,
          0,
          0
         ]
        },
        {
         "name": "Tree",
         "type": "bar",
         "x": [
          "Friday",
          "Monday",
          "Saturday",
          "Sunday",
          "Thursday",
          "Tuesday",
          "Wednesday"
         ],
         "y": [
          0,
          25,
          0,
          0,
          0,
          0,
          0
         ]
        },
        {
         "name": "Violin Course",
         "type": "bar",
         "x": [
          "Friday",
          "Monday",
          "Saturday",
          "Sunday",
          "Thursday",
          "Tuesday",
          "Wednesday"
         ],
         "y": [
          50,
          0,
          6,
          40,
          0,
          185,
          25
         ]
        },
        {
         "name": "Vocabulary",
         "type": "bar",
         "x": [
          "Friday",
          "Monday",
          "Saturday",
          "Sunday",
          "Thursday",
          "Tuesday",
          "Wednesday"
         ],
         "y": [
          0,
          0,
          0,
          0,
          0,
          25,
          0
         ]
        },
        {
         "name": "Web- notion  Design",
         "type": "bar",
         "x": [
          "Friday",
          "Monday",
          "Saturday",
          "Sunday",
          "Thursday",
          "Tuesday",
          "Wednesday"
         ],
         "y": [
          0,
          150,
          165,
          125,
          25,
          60,
          50
         ]
        },
        {
         "name": "Week 1",
         "type": "bar",
         "x": [
          "Friday",
          "Monday",
          "Saturday",
          "Sunday",
          "Thursday",
          "Tuesday",
          "Wednesday"
         ],
         "y": [
          0,
          0,
          0,
          25,
          0,
          0,
          0
         ]
        },
        {
         "name": "Workshop",
         "type": "bar",
         "x": [
          "Friday",
          "Monday",
          "Saturday",
          "Sunday",
          "Thursday",
          "Tuesday",
          "Wednesday"
         ],
         "y": [
          125,
          100,
          0,
          50,
          225,
          100,
          62
         ]
        },
        {
         "name": "Writing",
         "type": "bar",
         "x": [
          "Friday",
          "Monday",
          "Saturday",
          "Sunday",
          "Thursday",
          "Tuesday",
          "Wednesday"
         ],
         "y": [
          70,
          50,
          35,
          180,
          0,
          75,
          25
         ]
        },
        {
         "name": "Writing hasan abi",
         "type": "bar",
         "x": [
          "Friday",
          "Monday",
          "Saturday",
          "Sunday",
          "Thursday",
          "Tuesday",
          "Wednesday"
         ],
         "y": [
          50,
          242,
          175,
          325,
          0,
          311,
          167
         ]
        },
        {
         "name": "calendar",
         "type": "bar",
         "x": [
          "Friday",
          "Monday",
          "Saturday",
          "Sunday",
          "Thursday",
          "Tuesday",
          "Wednesday"
         ],
         "y": [
          0,
          0,
          0,
          25,
          0,
          0,
          0
         ]
        },
        {
         "name": "create note pj",
         "type": "bar",
         "x": [
          "Friday",
          "Monday",
          "Saturday",
          "Sunday",
          "Thursday",
          "Tuesday",
          "Wednesday"
         ],
         "y": [
          0,
          0,
          50,
          0,
          0,
          0,
          0
         ]
        },
        {
         "name": "data types and algorithms",
         "type": "bar",
         "x": [
          "Friday",
          "Monday",
          "Saturday",
          "Sunday",
          "Thursday",
          "Tuesday",
          "Wednesday"
         ],
         "y": [
          0,
          0,
          0,
          0,
          0,
          50,
          0
         ]
        },
        {
         "name": "dkn",
         "type": "bar",
         "x": [
          "Friday",
          "Monday",
          "Saturday",
          "Sunday",
          "Thursday",
          "Tuesday",
          "Wednesday"
         ],
         "y": [
          0,
          0,
          0,
          0,
          0,
          25,
          0
         ]
        },
        {
         "name": "english",
         "type": "bar",
         "x": [
          "Friday",
          "Monday",
          "Saturday",
          "Sunday",
          "Thursday",
          "Tuesday",
          "Wednesday"
         ],
         "y": [
          45,
          0,
          0,
          0,
          50,
          0,
          25
         ]
        },
        {
         "name": "firebase",
         "type": "bar",
         "x": [
          "Friday",
          "Monday",
          "Saturday",
          "Sunday",
          "Thursday",
          "Tuesday",
          "Wednesday"
         ],
         "y": [
          989,
          869,
          777,
          849,
          650,
          1125,
          1242
         ]
        },
        {
         "name": "first draft",
         "type": "bar",
         "x": [
          "Friday",
          "Monday",
          "Saturday",
          "Sunday",
          "Thursday",
          "Tuesday",
          "Wednesday"
         ],
         "y": [
          0,
          0,
          0,
          75,
          0,
          0,
          0
         ]
        },
        {
         "name": "kuran",
         "type": "bar",
         "x": [
          "Friday",
          "Monday",
          "Saturday",
          "Sunday",
          "Thursday",
          "Tuesday",
          "Wednesday"
         ],
         "y": [
          0,
          0,
          0,
          25,
          0,
          0,
          0
         ]
        },
        {
         "name": "kurs",
         "type": "bar",
         "x": [
          "Friday",
          "Monday",
          "Saturday",
          "Sunday",
          "Thursday",
          "Tuesday",
          "Wednesday"
         ],
         "y": [
          0,
          0,
          25,
          25,
          0,
          0,
          0
         ]
        },
        {
         "name": "last day bc",
         "type": "bar",
         "x": [
          "Friday",
          "Monday",
          "Saturday",
          "Sunday",
          "Thursday",
          "Tuesday",
          "Wednesday"
         ],
         "y": [
          0,
          0,
          0,
          0,
          162,
          0,
          0
         ]
        },
        {
         "name": "lesson student",
         "type": "bar",
         "x": [
          "Friday",
          "Monday",
          "Saturday",
          "Sunday",
          "Thursday",
          "Tuesday",
          "Wednesday"
         ],
         "y": [
          0,
          27,
          100,
          163,
          0,
          0,
          37
         ]
        },
        {
         "name": "numberga.me",
         "type": "bar",
         "x": [
          "Friday",
          "Monday",
          "Saturday",
          "Sunday",
          "Thursday",
          "Tuesday",
          "Wednesday"
         ],
         "y": [
          312,
          75,
          275,
          50,
          368,
          65,
          569
         ]
        },
        {
         "name": "odtü",
         "type": "bar",
         "x": [
          "Friday",
          "Monday",
          "Saturday",
          "Sunday",
          "Thursday",
          "Tuesday",
          "Wednesday"
         ],
         "y": [
          25,
          0,
          0,
          0,
          0,
          25,
          75
         ]
        },
        {
         "name": "program",
         "type": "bar",
         "x": [
          "Friday",
          "Monday",
          "Saturday",
          "Sunday",
          "Thursday",
          "Tuesday",
          "Wednesday"
         ],
         "y": [
          50,
          350,
          141,
          272,
          179,
          171,
          82
         ]
        },
        {
         "name": "rebuidling",
         "type": "bar",
         "x": [
          "Friday",
          "Monday",
          "Saturday",
          "Sunday",
          "Thursday",
          "Tuesday",
          "Wednesday"
         ],
         "y": [
          463,
          425,
          208,
          325,
          325,
          500,
          455
         ]
        },
        {
         "name": "violin",
         "type": "bar",
         "x": [
          "Friday",
          "Monday",
          "Saturday",
          "Sunday",
          "Thursday",
          "Tuesday",
          "Wednesday"
         ],
         "y": [
          25,
          0,
          0,
          0,
          0,
          0,
          0
         ]
        },
        {
         "name": "web",
         "type": "bar",
         "x": [
          "Friday",
          "Monday",
          "Saturday",
          "Sunday",
          "Thursday",
          "Tuesday",
          "Wednesday"
         ],
         "y": [
          0,
          0,
          44,
          0,
          0,
          0,
          0
         ]
        }
       ],
       "layout": {
        "barmode": "stack",
        "hovermode": "x unified",
        "template": {
         "data": {
          "bar": [
           {
            "error_x": {
             "color": "#2a3f5f"
            },
            "error_y": {
             "color": "#2a3f5f"
            },
            "marker": {
             "line": {
              "color": "#E5ECF6",
              "width": 0.5
             },
             "pattern": {
              "fillmode": "overlay",
              "size": 10,
              "solidity": 0.2
             }
            },
            "type": "bar"
           }
          ],
          "barpolar": [
           {
            "marker": {
             "line": {
              "color": "#E5ECF6",
              "width": 0.5
             },
             "pattern": {
              "fillmode": "overlay",
              "size": 10,
              "solidity": 0.2
             }
            },
            "type": "barpolar"
           }
          ],
          "carpet": [
           {
            "aaxis": {
             "endlinecolor": "#2a3f5f",
             "gridcolor": "white",
             "linecolor": "white",
             "minorgridcolor": "white",
             "startlinecolor": "#2a3f5f"
            },
            "baxis": {
             "endlinecolor": "#2a3f5f",
             "gridcolor": "white",
             "linecolor": "white",
             "minorgridcolor": "white",
             "startlinecolor": "#2a3f5f"
            },
            "type": "carpet"
           }
          ],
          "choropleth": [
           {
            "colorbar": {
             "outlinewidth": 0,
             "ticks": ""
            },
            "type": "choropleth"
           }
          ],
          "contour": [
           {
            "colorbar": {
             "outlinewidth": 0,
             "ticks": ""
            },
            "colorscale": [
             [
              0,
              "#0d0887"
             ],
             [
              0.1111111111111111,
              "#46039f"
             ],
             [
              0.2222222222222222,
              "#7201a8"
             ],
             [
              0.3333333333333333,
              "#9c179e"
             ],
             [
              0.4444444444444444,
              "#bd3786"
             ],
             [
              0.5555555555555556,
              "#d8576b"
             ],
             [
              0.6666666666666666,
              "#ed7953"
             ],
             [
              0.7777777777777778,
              "#fb9f3a"
             ],
             [
              0.8888888888888888,
              "#fdca26"
             ],
             [
              1,
              "#f0f921"
             ]
            ],
            "type": "contour"
           }
          ],
          "contourcarpet": [
           {
            "colorbar": {
             "outlinewidth": 0,
             "ticks": ""
            },
            "type": "contourcarpet"
           }
          ],
          "heatmap": [
           {
            "colorbar": {
             "outlinewidth": 0,
             "ticks": ""
            },
            "colorscale": [
             [
              0,
              "#0d0887"
             ],
             [
              0.1111111111111111,
              "#46039f"
             ],
             [
              0.2222222222222222,
              "#7201a8"
             ],
             [
              0.3333333333333333,
              "#9c179e"
             ],
             [
              0.4444444444444444,
              "#bd3786"
             ],
             [
              0.5555555555555556,
              "#d8576b"
             ],
             [
              0.6666666666666666,
              "#ed7953"
             ],
             [
              0.7777777777777778,
              "#fb9f3a"
             ],
             [
              0.8888888888888888,
              "#fdca26"
             ],
             [
              1,
              "#f0f921"
             ]
            ],
            "type": "heatmap"
           }
          ],
          "heatmapgl": [
           {
            "colorbar": {
             "outlinewidth": 0,
             "ticks": ""
            },
            "colorscale": [
             [
              0,
              "#0d0887"
             ],
             [
              0.1111111111111111,
              "#46039f"
             ],
             [
              0.2222222222222222,
              "#7201a8"
             ],
             [
              0.3333333333333333,
              "#9c179e"
             ],
             [
              0.4444444444444444,
              "#bd3786"
             ],
             [
              0.5555555555555556,
              "#d8576b"
             ],
             [
              0.6666666666666666,
              "#ed7953"
             ],
             [
              0.7777777777777778,
              "#fb9f3a"
             ],
             [
              0.8888888888888888,
              "#fdca26"
             ],
             [
              1,
              "#f0f921"
             ]
            ],
            "type": "heatmapgl"
           }
          ],
          "histogram": [
           {
            "marker": {
             "pattern": {
              "fillmode": "overlay",
              "size": 10,
              "solidity": 0.2
             }
            },
            "type": "histogram"
           }
          ],
          "histogram2d": [
           {
            "colorbar": {
             "outlinewidth": 0,
             "ticks": ""
            },
            "colorscale": [
             [
              0,
              "#0d0887"
             ],
             [
              0.1111111111111111,
              "#46039f"
             ],
             [
              0.2222222222222222,
              "#7201a8"
             ],
             [
              0.3333333333333333,
              "#9c179e"
             ],
             [
              0.4444444444444444,
              "#bd3786"
             ],
             [
              0.5555555555555556,
              "#d8576b"
             ],
             [
              0.6666666666666666,
              "#ed7953"
             ],
             [
              0.7777777777777778,
              "#fb9f3a"
             ],
             [
              0.8888888888888888,
              "#fdca26"
             ],
             [
              1,
              "#f0f921"
             ]
            ],
            "type": "histogram2d"
           }
          ],
          "histogram2dcontour": [
           {
            "colorbar": {
             "outlinewidth": 0,
             "ticks": ""
            },
            "colorscale": [
             [
              0,
              "#0d0887"
             ],
             [
              0.1111111111111111,
              "#46039f"
             ],
             [
              0.2222222222222222,
              "#7201a8"
             ],
             [
              0.3333333333333333,
              "#9c179e"
             ],
             [
              0.4444444444444444,
              "#bd3786"
             ],
             [
              0.5555555555555556,
              "#d8576b"
             ],
             [
              0.6666666666666666,
              "#ed7953"
             ],
             [
              0.7777777777777778,
              "#fb9f3a"
             ],
             [
              0.8888888888888888,
              "#fdca26"
             ],
             [
              1,
              "#f0f921"
             ]
            ],
            "type": "histogram2dcontour"
           }
          ],
          "mesh3d": [
           {
            "colorbar": {
             "outlinewidth": 0,
             "ticks": ""
            },
            "type": "mesh3d"
           }
          ],
          "parcoords": [
           {
            "line": {
             "colorbar": {
              "outlinewidth": 0,
              "ticks": ""
             }
            },
            "type": "parcoords"
           }
          ],
          "pie": [
           {
            "automargin": true,
            "type": "pie"
           }
          ],
          "scatter": [
           {
            "fillpattern": {
             "fillmode": "overlay",
             "size": 10,
             "solidity": 0.2
            },
            "type": "scatter"
           }
          ],
          "scatter3d": [
           {
            "line": {
             "colorbar": {
              "outlinewidth": 0,
              "ticks": ""
             }
            },
            "marker": {
             "colorbar": {
              "outlinewidth": 0,
              "ticks": ""
             }
            },
            "type": "scatter3d"
           }
          ],
          "scattercarpet": [
           {
            "marker": {
             "colorbar": {
              "outlinewidth": 0,
              "ticks": ""
             }
            },
            "type": "scattercarpet"
           }
          ],
          "scattergeo": [
           {
            "marker": {
             "colorbar": {
              "outlinewidth": 0,
              "ticks": ""
             }
            },
            "type": "scattergeo"
           }
          ],
          "scattergl": [
           {
            "marker": {
             "colorbar": {
              "outlinewidth": 0,
              "ticks": ""
             }
            },
            "type": "scattergl"
           }
          ],
          "scattermapbox": [
           {
            "marker": {
             "colorbar": {
              "outlinewidth": 0,
              "ticks": ""
             }
            },
            "type": "scattermapbox"
           }
          ],
          "scatterpolar": [
           {
            "marker": {
             "colorbar": {
              "outlinewidth": 0,
              "ticks": ""
             }
            },
            "type": "scatterpolar"
           }
          ],
          "scatterpolargl": [
           {
            "marker": {
             "colorbar": {
              "outlinewidth": 0,
              "ticks": ""
             }
            },
            "type": "scatterpolargl"
           }
          ],
          "scatterternary": [
           {
            "marker": {
             "colorbar": {
              "outlinewidth": 0,
              "ticks": ""
             }
            },
            "type": "scatterternary"
           }
          ],
          "surface": [
           {
            "colorbar": {
             "outlinewidth": 0,
             "ticks": ""
            },
            "colorscale": [
             [
              0,
              "#0d0887"
             ],
             [
              0.1111111111111111,
              "#46039f"
             ],
             [
              0.2222222222222222,
              "#7201a8"
             ],
             [
              0.3333333333333333,
              "#9c179e"
             ],
             [
              0.4444444444444444,
              "#bd3786"
             ],
             [
              0.5555555555555556,
              "#d8576b"
             ],
             [
              0.6666666666666666,
              "#ed7953"
             ],
             [
              0.7777777777777778,
              "#fb9f3a"
             ],
             [
              0.8888888888888888,
              "#fdca26"
             ],
             [
              1,
              "#f0f921"
             ]
            ],
            "type": "surface"
           }
          ],
          "table": [
           {
            "cells": {
             "fill": {
              "color": "#EBF0F8"
             },
             "line": {
              "color": "white"
             }
            },
            "header": {
             "fill": {
              "color": "#C8D4E3"
             },
             "line": {
              "color": "white"
             }
            },
            "type": "table"
           }
          ]
         },
         "layout": {
          "annotationdefaults": {
           "arrowcolor": "#2a3f5f",
           "arrowhead": 0,
           "arrowwidth": 1
          },
          "autotypenumbers": "strict",
          "coloraxis": {
           "colorbar": {
            "outlinewidth": 0,
            "ticks": ""
           }
          },
          "colorscale": {
           "diverging": [
            [
             0,
             "#8e0152"
            ],
            [
             0.1,
             "#c51b7d"
            ],
            [
             0.2,
             "#de77ae"
            ],
            [
             0.3,
             "#f1b6da"
            ],
            [
             0.4,
             "#fde0ef"
            ],
            [
             0.5,
             "#f7f7f7"
            ],
            [
             0.6,
             "#e6f5d0"
            ],
            [
             0.7,
             "#b8e186"
            ],
            [
             0.8,
             "#7fbc41"
            ],
            [
             0.9,
             "#4d9221"
            ],
            [
             1,
             "#276419"
            ]
           ],
           "sequential": [
            [
             0,
             "#0d0887"
            ],
            [
             0.1111111111111111,
             "#46039f"
            ],
            [
             0.2222222222222222,
             "#7201a8"
            ],
            [
             0.3333333333333333,
             "#9c179e"
            ],
            [
             0.4444444444444444,
             "#bd3786"
            ],
            [
             0.5555555555555556,
             "#d8576b"
            ],
            [
             0.6666666666666666,
             "#ed7953"
            ],
            [
             0.7777777777777778,
             "#fb9f3a"
            ],
            [
             0.8888888888888888,
             "#fdca26"
            ],
            [
             1,
             "#f0f921"
            ]
           ],
           "sequentialminus": [
            [
             0,
             "#0d0887"
            ],
            [
             0.1111111111111111,
             "#46039f"
            ],
            [
             0.2222222222222222,
             "#7201a8"
            ],
            [
             0.3333333333333333,
             "#9c179e"
            ],
            [
             0.4444444444444444,
             "#bd3786"
            ],
            [
             0.5555555555555556,
             "#d8576b"
            ],
            [
             0.6666666666666666,
             "#ed7953"
            ],
            [
             0.7777777777777778,
             "#fb9f3a"
            ],
            [
             0.8888888888888888,
             "#fdca26"
            ],
            [
             1,
             "#f0f921"
            ]
           ]
          },
          "colorway": [
           "#636efa",
           "#EF553B",
           "#00cc96",
           "#ab63fa",
           "#FFA15A",
           "#19d3f3",
           "#FF6692",
           "#B6E880",
           "#FF97FF",
           "#FECB52"
          ],
          "font": {
           "color": "#2a3f5f"
          },
          "geo": {
           "bgcolor": "white",
           "lakecolor": "white",
           "landcolor": "#E5ECF6",
           "showlakes": true,
           "showland": true,
           "subunitcolor": "white"
          },
          "hoverlabel": {
           "align": "left"
          },
          "hovermode": "closest",
          "mapbox": {
           "style": "light"
          },
          "paper_bgcolor": "white",
          "plot_bgcolor": "#E5ECF6",
          "polar": {
           "angularaxis": {
            "gridcolor": "white",
            "linecolor": "white",
            "ticks": ""
           },
           "bgcolor": "#E5ECF6",
           "radialaxis": {
            "gridcolor": "white",
            "linecolor": "white",
            "ticks": ""
           }
          },
          "scene": {
           "xaxis": {
            "backgroundcolor": "#E5ECF6",
            "gridcolor": "white",
            "gridwidth": 2,
            "linecolor": "white",
            "showbackground": true,
            "ticks": "",
            "zerolinecolor": "white"
           },
           "yaxis": {
            "backgroundcolor": "#E5ECF6",
            "gridcolor": "white",
            "gridwidth": 2,
            "linecolor": "white",
            "showbackground": true,
            "ticks": "",
            "zerolinecolor": "white"
           },
           "zaxis": {
            "backgroundcolor": "#E5ECF6",
            "gridcolor": "white",
            "gridwidth": 2,
            "linecolor": "white",
            "showbackground": true,
            "ticks": "",
            "zerolinecolor": "white"
           }
          },
          "shapedefaults": {
           "line": {
            "color": "#2a3f5f"
           }
          },
          "ternary": {
           "aaxis": {
            "gridcolor": "white",
            "linecolor": "white",
            "ticks": ""
           },
           "baxis": {
            "gridcolor": "white",
            "linecolor": "white",
            "ticks": ""
           },
           "bgcolor": "#E5ECF6",
           "caxis": {
            "gridcolor": "white",
            "linecolor": "white",
            "ticks": ""
           }
          },
          "title": {
           "x": 0.05
          },
          "xaxis": {
           "automargin": true,
           "gridcolor": "white",
           "linecolor": "white",
           "ticks": "",
           "title": {
            "standoff": 15
           },
           "zerolinecolor": "white",
           "zerolinewidth": 2
          },
          "yaxis": {
           "automargin": true,
           "gridcolor": "white",
           "linecolor": "white",
           "ticks": "",
           "title": {
            "standoff": 15
           },
           "zerolinecolor": "white",
           "zerolinewidth": 2
          }
         }
        },
        "title": {
         "text": "Task distributions by days of week between 28 February 2022 Mon and 22 January 2023 Sun"
        },
        "xaxis": {
         "title": {
          "text": "Days"
         }
        },
        "yaxis": {
         "title": {
          "text": "Time"
         }
        }
       }
      }
     },
     "metadata": {},
     "output_type": "display_data"
    }
   ],
   "source": [
    "\n",
    "\n",
    "max_dates = days_sns.sum(axis=1).index\n",
    "get_max = days_sns.loc[max_dates]\n",
    "get_max = get_max.loc[:, (get_max != 0).any(axis=0)]\n",
    "\n",
    "fig = go.Figure(data=[go.Bar(x=get_max.index, y=get_max[col], name=col) for col in get_max.columns])\n",
    "fig.update_layout(barmode='stack', xaxis_title='Days', yaxis_title='Time',\n",
    "                  title=f\"Task distributions by days of week between {strf_start_date} and {strf_end_date}\")\n",
    "fig.update_layout(hovermode='x unified')\n",
    "fig.show()"
   ]
  },
  {
   "cell_type": "code",
   "execution_count": null,
   "metadata": {},
   "outputs": [],
   "source": []
  }
 ],
 "metadata": {
  "kernelspec": {
   "display_name": "Python 3 (ipykernel)",
   "language": "python",
   "name": "python3"
  },
  "language_info": {
   "codemirror_mode": {
    "name": "ipython",
    "version": 3
   },
   "file_extension": ".py",
   "mimetype": "text/x-python",
   "name": "python",
   "nbconvert_exporter": "python",
   "pygments_lexer": "ipython3",
   "version": "3.9.7"
  }
 },
 "nbformat": 4,
 "nbformat_minor": 2
}
