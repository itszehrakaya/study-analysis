{
 "cells": [
  {
   "cell_type": "code",
   "execution_count": 93,
   "metadata": {},
   "outputs": [],
   "source": [
    "import pandas as pd\n",
    "import seaborn as sns\n",
    "import numpy as np\n",
    "import matplotlib.pyplot as plt\n",
    "import plotly.graph_objs as go\n",
    "from plotly.subplots import make_subplots"
   ]
  },
  {
   "cell_type": "code",
   "execution_count": 94,
   "metadata": {},
   "outputs": [],
   "source": [
    "df = pd.read_csv('/Users/zehrakaya/Documents/GitHub/study-analysis/data/STUDYLOG.csv')"
   ]
  },
  {
   "cell_type": "code",
   "execution_count": 95,
   "metadata": {},
   "outputs": [
    {
     "data": {
      "text/html": [
       "<div>\n",
       "<style scoped>\n",
       "    .dataframe tbody tr th:only-of-type {\n",
       "        vertical-align: middle;\n",
       "    }\n",
       "\n",
       "    .dataframe tbody tr th {\n",
       "        vertical-align: top;\n",
       "    }\n",
       "\n",
       "    .dataframe thead th {\n",
       "        text-align: right;\n",
       "    }\n",
       "</style>\n",
       "<table border=\"1\" class=\"dataframe\">\n",
       "  <thead>\n",
       "    <tr style=\"text-align: right;\">\n",
       "      <th></th>\n",
       "      <th>Name</th>\n",
       "      <th>Courses</th>\n",
       "      <th>Created time</th>\n",
       "      <th>Date</th>\n",
       "      <th>Day</th>\n",
       "      <th>Goal</th>\n",
       "      <th>Person</th>\n",
       "      <th>Progress</th>\n",
       "      <th>spent-hours</th>\n",
       "      <th>spent-minutes</th>\n",
       "      <th>what you did</th>\n",
       "    </tr>\n",
       "  </thead>\n",
       "  <tbody>\n",
       "    <tr>\n",
       "      <th>0</th>\n",
       "      <td>29 done</td>\n",
       "      <td>MATH 116</td>\n",
       "      <td>June 22, 2023 3:02 PM</td>\n",
       "      <td>June 22, 2023</td>\n",
       "      <td>NaN</td>\n",
       "      <td>NaN</td>\n",
       "      <td>Zehra</td>\n",
       "      <td>Done</td>\n",
       "      <td>7.000000</td>\n",
       "      <td>420.0</td>\n",
       "      <td>Prev exam questions</td>\n",
       "    </tr>\n",
       "    <tr>\n",
       "      <th>1</th>\n",
       "      <td>Recitation 2</td>\n",
       "      <td>Modern Physics</td>\n",
       "      <td>June 22, 2023 11:47 AM</td>\n",
       "      <td>June 22, 2023</td>\n",
       "      <td>NaN</td>\n",
       "      <td>NaN</td>\n",
       "      <td>Fatih</td>\n",
       "      <td>NaN</td>\n",
       "      <td>1.000000</td>\n",
       "      <td>60.0</td>\n",
       "      <td>NaN</td>\n",
       "    </tr>\n",
       "    <tr>\n",
       "      <th>2</th>\n",
       "      <td>28</td>\n",
       "      <td>MATH 116</td>\n",
       "      <td>June 22, 2023 3:00 PM</td>\n",
       "      <td>June 21, 2023</td>\n",
       "      <td>NaN</td>\n",
       "      <td>NaN</td>\n",
       "      <td>Zehra</td>\n",
       "      <td>Done</td>\n",
       "      <td>4.583333</td>\n",
       "      <td>275.0</td>\n",
       "      <td>NaN</td>\n",
       "    </tr>\n",
       "    <tr>\n",
       "      <th>3</th>\n",
       "      <td>Recitation</td>\n",
       "      <td>Modern Physics</td>\n",
       "      <td>June 21, 2023 6:53 PM</td>\n",
       "      <td>June 21, 2023</td>\n",
       "      <td>NaN</td>\n",
       "      <td>NaN</td>\n",
       "      <td>Fatih</td>\n",
       "      <td>NaN</td>\n",
       "      <td>1.250000</td>\n",
       "      <td>75.0</td>\n",
       "      <td>NaN</td>\n",
       "    </tr>\n",
       "    <tr>\n",
       "      <th>4</th>\n",
       "      <td>Project</td>\n",
       "      <td>Assessment</td>\n",
       "      <td>June 20, 2023 9:13 PM</td>\n",
       "      <td>June 20, 2023 → June 20, 2023</td>\n",
       "      <td>NaN</td>\n",
       "      <td>NaN</td>\n",
       "      <td>Fatih</td>\n",
       "      <td>NaN</td>\n",
       "      <td>0.666667</td>\n",
       "      <td>40.0</td>\n",
       "      <td>Project Part 2 İtem analysisi</td>\n",
       "    </tr>\n",
       "    <tr>\n",
       "      <th>...</th>\n",
       "      <td>...</td>\n",
       "      <td>...</td>\n",
       "      <td>...</td>\n",
       "      <td>...</td>\n",
       "      <td>...</td>\n",
       "      <td>...</td>\n",
       "      <td>...</td>\n",
       "      <td>...</td>\n",
       "      <td>...</td>\n",
       "      <td>...</td>\n",
       "      <td>...</td>\n",
       "    </tr>\n",
       "    <tr>\n",
       "      <th>133</th>\n",
       "      <td>0</td>\n",
       "      <td>MATH 112</td>\n",
       "      <td>April 5, 2023 10:58 AM</td>\n",
       "      <td>March 8, 2023</td>\n",
       "      <td>NaN</td>\n",
       "      <td>NaN</td>\n",
       "      <td>Zehra</td>\n",
       "      <td>Done</td>\n",
       "      <td>1.416667</td>\n",
       "      <td>85.0</td>\n",
       "      <td>NaN</td>\n",
       "    </tr>\n",
       "    <tr>\n",
       "      <th>134</th>\n",
       "      <td>DAY 0</td>\n",
       "      <td>PHYS 112</td>\n",
       "      <td>March 9, 2023 11:52 PM</td>\n",
       "      <td>March 8, 2023</td>\n",
       "      <td>NaN</td>\n",
       "      <td>NaN</td>\n",
       "      <td>Hosna Roufaida</td>\n",
       "      <td>Done</td>\n",
       "      <td>0.500000</td>\n",
       "      <td>30.0</td>\n",
       "      <td>NaN</td>\n",
       "    </tr>\n",
       "    <tr>\n",
       "      <th>135</th>\n",
       "      <td>NaN</td>\n",
       "      <td>NaN</td>\n",
       "      <td>May 31, 2023 1:35 AM</td>\n",
       "      <td>NaN</td>\n",
       "      <td>NaN</td>\n",
       "      <td>NaN</td>\n",
       "      <td>Hosna Roufaida, Zehra</td>\n",
       "      <td>NaN</td>\n",
       "      <td>0.000000</td>\n",
       "      <td>NaN</td>\n",
       "      <td>NaN</td>\n",
       "    </tr>\n",
       "    <tr>\n",
       "      <th>136</th>\n",
       "      <td>NaN</td>\n",
       "      <td>MATH 116</td>\n",
       "      <td>May 12, 2023 2:07 PM</td>\n",
       "      <td>NaN</td>\n",
       "      <td>NaN</td>\n",
       "      <td>NaN</td>\n",
       "      <td>Zehra</td>\n",
       "      <td>NaN</td>\n",
       "      <td>0.000000</td>\n",
       "      <td>NaN</td>\n",
       "      <td>NaN</td>\n",
       "    </tr>\n",
       "    <tr>\n",
       "      <th>137</th>\n",
       "      <td>NaN</td>\n",
       "      <td>MATH 112</td>\n",
       "      <td>April 10, 2023 3:35 PM</td>\n",
       "      <td>NaN</td>\n",
       "      <td>NaN</td>\n",
       "      <td>NaN</td>\n",
       "      <td>NaN</td>\n",
       "      <td>NaN</td>\n",
       "      <td>0.000000</td>\n",
       "      <td>NaN</td>\n",
       "      <td>NaN</td>\n",
       "    </tr>\n",
       "  </tbody>\n",
       "</table>\n",
       "<p>138 rows × 11 columns</p>\n",
       "</div>"
      ],
      "text/plain": [
       "             Name         Courses            Created time  \\\n",
       "0         29 done        MATH 116   June 22, 2023 3:02 PM   \n",
       "1    Recitation 2  Modern Physics  June 22, 2023 11:47 AM   \n",
       "2              28        MATH 116   June 22, 2023 3:00 PM   \n",
       "3      Recitation  Modern Physics   June 21, 2023 6:53 PM   \n",
       "4         Project      Assessment   June 20, 2023 9:13 PM   \n",
       "..            ...             ...                     ...   \n",
       "133             0        MATH 112  April 5, 2023 10:58 AM   \n",
       "134         DAY 0        PHYS 112  March 9, 2023 11:52 PM   \n",
       "135           NaN             NaN    May 31, 2023 1:35 AM   \n",
       "136           NaN        MATH 116    May 12, 2023 2:07 PM   \n",
       "137           NaN        MATH 112  April 10, 2023 3:35 PM   \n",
       "\n",
       "                              Date  Day  Goal                 Person  \\\n",
       "0                    June 22, 2023  NaN   NaN                  Zehra   \n",
       "1                    June 22, 2023  NaN   NaN                  Fatih   \n",
       "2                    June 21, 2023  NaN   NaN                  Zehra   \n",
       "3                    June 21, 2023  NaN   NaN                  Fatih   \n",
       "4    June 20, 2023 → June 20, 2023  NaN   NaN                  Fatih   \n",
       "..                             ...  ...   ...                    ...   \n",
       "133                  March 8, 2023  NaN   NaN                  Zehra   \n",
       "134                  March 8, 2023  NaN   NaN         Hosna Roufaida   \n",
       "135                            NaN  NaN   NaN  Hosna Roufaida, Zehra   \n",
       "136                            NaN  NaN   NaN                  Zehra   \n",
       "137                            NaN  NaN   NaN                    NaN   \n",
       "\n",
       "    Progress   spent-hours  spent-minutes                   what you did  \n",
       "0        Done     7.000000          420.0           Prev exam questions   \n",
       "1         NaN     1.000000           60.0                            NaN  \n",
       "2        Done     4.583333          275.0                            NaN  \n",
       "3         NaN     1.250000           75.0                            NaN  \n",
       "4         NaN     0.666667           40.0  Project Part 2 İtem analysisi  \n",
       "..        ...          ...            ...                            ...  \n",
       "133      Done     1.416667           85.0                            NaN  \n",
       "134      Done     0.500000           30.0                            NaN  \n",
       "135       NaN     0.000000            NaN                            NaN  \n",
       "136       NaN     0.000000            NaN                            NaN  \n",
       "137       NaN     0.000000            NaN                            NaN  \n",
       "\n",
       "[138 rows x 11 columns]"
      ]
     },
     "execution_count": 95,
     "metadata": {},
     "output_type": "execute_result"
    }
   ],
   "source": [
    "df"
   ]
  },
  {
   "cell_type": "code",
   "execution_count": 96,
   "metadata": {},
   "outputs": [],
   "source": [
    "# get only the Person Zehra's data \n",
    "zdf = df[df['Person'] == 'Zehra']\n"
   ]
  },
  {
   "cell_type": "code",
   "execution_count": 97,
   "metadata": {},
   "outputs": [
    {
     "data": {
      "text/html": [
       "<div>\n",
       "<style scoped>\n",
       "    .dataframe tbody tr th:only-of-type {\n",
       "        vertical-align: middle;\n",
       "    }\n",
       "\n",
       "    .dataframe tbody tr th {\n",
       "        vertical-align: top;\n",
       "    }\n",
       "\n",
       "    .dataframe thead th {\n",
       "        text-align: right;\n",
       "    }\n",
       "</style>\n",
       "<table border=\"1\" class=\"dataframe\">\n",
       "  <thead>\n",
       "    <tr style=\"text-align: right;\">\n",
       "      <th></th>\n",
       "      <th>Name</th>\n",
       "      <th>Courses</th>\n",
       "      <th>Created time</th>\n",
       "      <th>Date</th>\n",
       "      <th>Day</th>\n",
       "      <th>Goal</th>\n",
       "      <th>Person</th>\n",
       "      <th>Progress</th>\n",
       "      <th>spent-hours</th>\n",
       "      <th>spent-minutes</th>\n",
       "      <th>what you did</th>\n",
       "    </tr>\n",
       "  </thead>\n",
       "  <tbody>\n",
       "    <tr>\n",
       "      <th>0</th>\n",
       "      <td>29 done</td>\n",
       "      <td>MATH 116</td>\n",
       "      <td>June 22, 2023 3:02 PM</td>\n",
       "      <td>June 22, 2023</td>\n",
       "      <td>NaN</td>\n",
       "      <td>NaN</td>\n",
       "      <td>Zehra</td>\n",
       "      <td>Done</td>\n",
       "      <td>7.000000</td>\n",
       "      <td>420.0</td>\n",
       "      <td>Prev exam questions</td>\n",
       "    </tr>\n",
       "    <tr>\n",
       "      <th>2</th>\n",
       "      <td>28</td>\n",
       "      <td>MATH 116</td>\n",
       "      <td>June 22, 2023 3:00 PM</td>\n",
       "      <td>June 21, 2023</td>\n",
       "      <td>NaN</td>\n",
       "      <td>NaN</td>\n",
       "      <td>Zehra</td>\n",
       "      <td>Done</td>\n",
       "      <td>4.583333</td>\n",
       "      <td>275.0</td>\n",
       "      <td>NaN</td>\n",
       "    </tr>\n",
       "    <tr>\n",
       "      <th>5</th>\n",
       "      <td>27</td>\n",
       "      <td>MATH 116</td>\n",
       "      <td>June 20, 2023 3:31 PM</td>\n",
       "      <td>June 20, 2023</td>\n",
       "      <td>NaN</td>\n",
       "      <td>NaN</td>\n",
       "      <td>Zehra</td>\n",
       "      <td>Done</td>\n",
       "      <td>5.000000</td>\n",
       "      <td>300.0</td>\n",
       "      <td>PREV EXAM 2019</td>\n",
       "    </tr>\n",
       "    <tr>\n",
       "      <th>8</th>\n",
       "      <td>51 DONE</td>\n",
       "      <td>MATH 154</td>\n",
       "      <td>June 20, 2023 3:27 PM</td>\n",
       "      <td>June 19, 2023</td>\n",
       "      <td>NaN</td>\n",
       "      <td>NaN</td>\n",
       "      <td>Zehra</td>\n",
       "      <td>Done</td>\n",
       "      <td>3.333333</td>\n",
       "      <td>200.0</td>\n",
       "      <td>final exam</td>\n",
       "    </tr>\n",
       "    <tr>\n",
       "      <th>9</th>\n",
       "      <td>50</td>\n",
       "      <td>MATH 154</td>\n",
       "      <td>June 20, 2023 3:26 PM</td>\n",
       "      <td>June 18, 2023</td>\n",
       "      <td>NaN</td>\n",
       "      <td>NaN</td>\n",
       "      <td>Zehra</td>\n",
       "      <td>Done</td>\n",
       "      <td>3.750000</td>\n",
       "      <td>225.0</td>\n",
       "      <td>prev exam questions</td>\n",
       "    </tr>\n",
       "    <tr>\n",
       "      <th>...</th>\n",
       "      <td>...</td>\n",
       "      <td>...</td>\n",
       "      <td>...</td>\n",
       "      <td>...</td>\n",
       "      <td>...</td>\n",
       "      <td>...</td>\n",
       "      <td>...</td>\n",
       "      <td>...</td>\n",
       "      <td>...</td>\n",
       "      <td>...</td>\n",
       "      <td>...</td>\n",
       "    </tr>\n",
       "    <tr>\n",
       "      <th>129</th>\n",
       "      <td>2</td>\n",
       "      <td>MATH 116</td>\n",
       "      <td>March 11, 2023 4:05 PM</td>\n",
       "      <td>March 11, 2023</td>\n",
       "      <td>NaN</td>\n",
       "      <td>120.0</td>\n",
       "      <td>Zehra</td>\n",
       "      <td>Done</td>\n",
       "      <td>2.000000</td>\n",
       "      <td>120.0</td>\n",
       "      <td>NaN</td>\n",
       "    </tr>\n",
       "    <tr>\n",
       "      <th>131</th>\n",
       "      <td>1</td>\n",
       "      <td>MATH 154</td>\n",
       "      <td>March 10, 2023 1:15 PM</td>\n",
       "      <td>March 10, 2023</td>\n",
       "      <td>NaN</td>\n",
       "      <td>50.0</td>\n",
       "      <td>Zehra</td>\n",
       "      <td>Done</td>\n",
       "      <td>1.433333</td>\n",
       "      <td>86.0</td>\n",
       "      <td>NaN</td>\n",
       "    </tr>\n",
       "    <tr>\n",
       "      <th>132</th>\n",
       "      <td>1</td>\n",
       "      <td>MATH 116</td>\n",
       "      <td>March 9, 2023 11:32 PM</td>\n",
       "      <td>March 9, 2023</td>\n",
       "      <td>NaN</td>\n",
       "      <td>NaN</td>\n",
       "      <td>Zehra</td>\n",
       "      <td>Done</td>\n",
       "      <td>0.833333</td>\n",
       "      <td>50.0</td>\n",
       "      <td>NaN</td>\n",
       "    </tr>\n",
       "    <tr>\n",
       "      <th>133</th>\n",
       "      <td>0</td>\n",
       "      <td>MATH 112</td>\n",
       "      <td>April 5, 2023 10:58 AM</td>\n",
       "      <td>March 8, 2023</td>\n",
       "      <td>NaN</td>\n",
       "      <td>NaN</td>\n",
       "      <td>Zehra</td>\n",
       "      <td>Done</td>\n",
       "      <td>1.416667</td>\n",
       "      <td>85.0</td>\n",
       "      <td>NaN</td>\n",
       "    </tr>\n",
       "    <tr>\n",
       "      <th>136</th>\n",
       "      <td>NaN</td>\n",
       "      <td>MATH 116</td>\n",
       "      <td>May 12, 2023 2:07 PM</td>\n",
       "      <td>NaN</td>\n",
       "      <td>NaN</td>\n",
       "      <td>NaN</td>\n",
       "      <td>Zehra</td>\n",
       "      <td>NaN</td>\n",
       "      <td>0.000000</td>\n",
       "      <td>NaN</td>\n",
       "      <td>NaN</td>\n",
       "    </tr>\n",
       "  </tbody>\n",
       "</table>\n",
       "<p>118 rows × 11 columns</p>\n",
       "</div>"
      ],
      "text/plain": [
       "        Name   Courses            Created time            Date  Day   Goal  \\\n",
       "0    29 done  MATH 116   June 22, 2023 3:02 PM   June 22, 2023  NaN    NaN   \n",
       "2         28  MATH 116   June 22, 2023 3:00 PM   June 21, 2023  NaN    NaN   \n",
       "5         27  MATH 116   June 20, 2023 3:31 PM   June 20, 2023  NaN    NaN   \n",
       "8    51 DONE  MATH 154   June 20, 2023 3:27 PM   June 19, 2023  NaN    NaN   \n",
       "9         50  MATH 154   June 20, 2023 3:26 PM   June 18, 2023  NaN    NaN   \n",
       "..       ...       ...                     ...             ...  ...    ...   \n",
       "129        2  MATH 116  March 11, 2023 4:05 PM  March 11, 2023  NaN  120.0   \n",
       "131        1  MATH 154  March 10, 2023 1:15 PM  March 10, 2023  NaN   50.0   \n",
       "132        1  MATH 116  March 9, 2023 11:32 PM   March 9, 2023  NaN    NaN   \n",
       "133        0  MATH 112  April 5, 2023 10:58 AM   March 8, 2023  NaN    NaN   \n",
       "136      NaN  MATH 116    May 12, 2023 2:07 PM             NaN  NaN    NaN   \n",
       "\n",
       "    Person Progress   spent-hours  spent-minutes          what you did  \n",
       "0    Zehra      Done     7.000000          420.0  Prev exam questions   \n",
       "2    Zehra      Done     4.583333          275.0                   NaN  \n",
       "5    Zehra      Done     5.000000          300.0        PREV EXAM 2019  \n",
       "8    Zehra      Done     3.333333          200.0            final exam  \n",
       "9    Zehra      Done     3.750000          225.0   prev exam questions  \n",
       "..     ...       ...          ...            ...                   ...  \n",
       "129  Zehra      Done     2.000000          120.0                   NaN  \n",
       "131  Zehra      Done     1.433333           86.0                   NaN  \n",
       "132  Zehra      Done     0.833333           50.0                   NaN  \n",
       "133  Zehra      Done     1.416667           85.0                   NaN  \n",
       "136  Zehra       NaN     0.000000            NaN                   NaN  \n",
       "\n",
       "[118 rows x 11 columns]"
      ]
     },
     "execution_count": 97,
     "metadata": {},
     "output_type": "execute_result"
    }
   ],
   "source": [
    "zdf"
   ]
  },
  {
   "cell_type": "code",
   "execution_count": 98,
   "metadata": {},
   "outputs": [
    {
     "data": {
      "text/html": [
       "<div>\n",
       "<style scoped>\n",
       "    .dataframe tbody tr th:only-of-type {\n",
       "        vertical-align: middle;\n",
       "    }\n",
       "\n",
       "    .dataframe tbody tr th {\n",
       "        vertical-align: top;\n",
       "    }\n",
       "\n",
       "    .dataframe thead th {\n",
       "        text-align: right;\n",
       "    }\n",
       "</style>\n",
       "<table border=\"1\" class=\"dataframe\">\n",
       "  <thead>\n",
       "    <tr style=\"text-align: right;\">\n",
       "      <th></th>\n",
       "      <th>Name</th>\n",
       "      <th>Courses</th>\n",
       "      <th>Created time</th>\n",
       "      <th>Date</th>\n",
       "      <th>Goal</th>\n",
       "      <th>Person</th>\n",
       "      <th>Progress</th>\n",
       "      <th>spent-hours</th>\n",
       "      <th>spent-minutes</th>\n",
       "      <th>what you did</th>\n",
       "    </tr>\n",
       "  </thead>\n",
       "  <tbody>\n",
       "    <tr>\n",
       "      <th>0</th>\n",
       "      <td>29 done</td>\n",
       "      <td>MATH 116</td>\n",
       "      <td>June 22, 2023 3:02 PM</td>\n",
       "      <td>June 22, 2023</td>\n",
       "      <td>NaN</td>\n",
       "      <td>Zehra</td>\n",
       "      <td>Done</td>\n",
       "      <td>7.000000</td>\n",
       "      <td>420.0</td>\n",
       "      <td>Prev exam questions</td>\n",
       "    </tr>\n",
       "    <tr>\n",
       "      <th>2</th>\n",
       "      <td>28</td>\n",
       "      <td>MATH 116</td>\n",
       "      <td>June 22, 2023 3:00 PM</td>\n",
       "      <td>June 21, 2023</td>\n",
       "      <td>NaN</td>\n",
       "      <td>Zehra</td>\n",
       "      <td>Done</td>\n",
       "      <td>4.583333</td>\n",
       "      <td>275.0</td>\n",
       "      <td>NaN</td>\n",
       "    </tr>\n",
       "    <tr>\n",
       "      <th>5</th>\n",
       "      <td>27</td>\n",
       "      <td>MATH 116</td>\n",
       "      <td>June 20, 2023 3:31 PM</td>\n",
       "      <td>June 20, 2023</td>\n",
       "      <td>NaN</td>\n",
       "      <td>Zehra</td>\n",
       "      <td>Done</td>\n",
       "      <td>5.000000</td>\n",
       "      <td>300.0</td>\n",
       "      <td>PREV EXAM 2019</td>\n",
       "    </tr>\n",
       "    <tr>\n",
       "      <th>8</th>\n",
       "      <td>51 DONE</td>\n",
       "      <td>MATH 154</td>\n",
       "      <td>June 20, 2023 3:27 PM</td>\n",
       "      <td>June 19, 2023</td>\n",
       "      <td>NaN</td>\n",
       "      <td>Zehra</td>\n",
       "      <td>Done</td>\n",
       "      <td>3.333333</td>\n",
       "      <td>200.0</td>\n",
       "      <td>final exam</td>\n",
       "    </tr>\n",
       "    <tr>\n",
       "      <th>9</th>\n",
       "      <td>50</td>\n",
       "      <td>MATH 154</td>\n",
       "      <td>June 20, 2023 3:26 PM</td>\n",
       "      <td>June 18, 2023</td>\n",
       "      <td>NaN</td>\n",
       "      <td>Zehra</td>\n",
       "      <td>Done</td>\n",
       "      <td>3.750000</td>\n",
       "      <td>225.0</td>\n",
       "      <td>prev exam questions</td>\n",
       "    </tr>\n",
       "    <tr>\n",
       "      <th>...</th>\n",
       "      <td>...</td>\n",
       "      <td>...</td>\n",
       "      <td>...</td>\n",
       "      <td>...</td>\n",
       "      <td>...</td>\n",
       "      <td>...</td>\n",
       "      <td>...</td>\n",
       "      <td>...</td>\n",
       "      <td>...</td>\n",
       "      <td>...</td>\n",
       "    </tr>\n",
       "    <tr>\n",
       "      <th>129</th>\n",
       "      <td>2</td>\n",
       "      <td>MATH 116</td>\n",
       "      <td>March 11, 2023 4:05 PM</td>\n",
       "      <td>March 11, 2023</td>\n",
       "      <td>120.0</td>\n",
       "      <td>Zehra</td>\n",
       "      <td>Done</td>\n",
       "      <td>2.000000</td>\n",
       "      <td>120.0</td>\n",
       "      <td>NaN</td>\n",
       "    </tr>\n",
       "    <tr>\n",
       "      <th>131</th>\n",
       "      <td>1</td>\n",
       "      <td>MATH 154</td>\n",
       "      <td>March 10, 2023 1:15 PM</td>\n",
       "      <td>March 10, 2023</td>\n",
       "      <td>50.0</td>\n",
       "      <td>Zehra</td>\n",
       "      <td>Done</td>\n",
       "      <td>1.433333</td>\n",
       "      <td>86.0</td>\n",
       "      <td>NaN</td>\n",
       "    </tr>\n",
       "    <tr>\n",
       "      <th>132</th>\n",
       "      <td>1</td>\n",
       "      <td>MATH 116</td>\n",
       "      <td>March 9, 2023 11:32 PM</td>\n",
       "      <td>March 9, 2023</td>\n",
       "      <td>NaN</td>\n",
       "      <td>Zehra</td>\n",
       "      <td>Done</td>\n",
       "      <td>0.833333</td>\n",
       "      <td>50.0</td>\n",
       "      <td>NaN</td>\n",
       "    </tr>\n",
       "    <tr>\n",
       "      <th>133</th>\n",
       "      <td>0</td>\n",
       "      <td>MATH 112</td>\n",
       "      <td>April 5, 2023 10:58 AM</td>\n",
       "      <td>March 8, 2023</td>\n",
       "      <td>NaN</td>\n",
       "      <td>Zehra</td>\n",
       "      <td>Done</td>\n",
       "      <td>1.416667</td>\n",
       "      <td>85.0</td>\n",
       "      <td>NaN</td>\n",
       "    </tr>\n",
       "    <tr>\n",
       "      <th>136</th>\n",
       "      <td>NaN</td>\n",
       "      <td>MATH 116</td>\n",
       "      <td>May 12, 2023 2:07 PM</td>\n",
       "      <td>NaN</td>\n",
       "      <td>NaN</td>\n",
       "      <td>Zehra</td>\n",
       "      <td>NaN</td>\n",
       "      <td>0.000000</td>\n",
       "      <td>NaN</td>\n",
       "      <td>NaN</td>\n",
       "    </tr>\n",
       "  </tbody>\n",
       "</table>\n",
       "<p>118 rows × 10 columns</p>\n",
       "</div>"
      ],
      "text/plain": [
       "        Name   Courses            Created time            Date   Goal Person  \\\n",
       "0    29 done  MATH 116   June 22, 2023 3:02 PM   June 22, 2023    NaN  Zehra   \n",
       "2         28  MATH 116   June 22, 2023 3:00 PM   June 21, 2023    NaN  Zehra   \n",
       "5         27  MATH 116   June 20, 2023 3:31 PM   June 20, 2023    NaN  Zehra   \n",
       "8    51 DONE  MATH 154   June 20, 2023 3:27 PM   June 19, 2023    NaN  Zehra   \n",
       "9         50  MATH 154   June 20, 2023 3:26 PM   June 18, 2023    NaN  Zehra   \n",
       "..       ...       ...                     ...             ...    ...    ...   \n",
       "129        2  MATH 116  March 11, 2023 4:05 PM  March 11, 2023  120.0  Zehra   \n",
       "131        1  MATH 154  March 10, 2023 1:15 PM  March 10, 2023   50.0  Zehra   \n",
       "132        1  MATH 116  March 9, 2023 11:32 PM   March 9, 2023    NaN  Zehra   \n",
       "133        0  MATH 112  April 5, 2023 10:58 AM   March 8, 2023    NaN  Zehra   \n",
       "136      NaN  MATH 116    May 12, 2023 2:07 PM             NaN    NaN  Zehra   \n",
       "\n",
       "    Progress   spent-hours  spent-minutes          what you did  \n",
       "0        Done     7.000000          420.0  Prev exam questions   \n",
       "2        Done     4.583333          275.0                   NaN  \n",
       "5        Done     5.000000          300.0        PREV EXAM 2019  \n",
       "8        Done     3.333333          200.0            final exam  \n",
       "9        Done     3.750000          225.0   prev exam questions  \n",
       "..        ...          ...            ...                   ...  \n",
       "129      Done     2.000000          120.0                   NaN  \n",
       "131      Done     1.433333           86.0                   NaN  \n",
       "132      Done     0.833333           50.0                   NaN  \n",
       "133      Done     1.416667           85.0                   NaN  \n",
       "136       NaN     0.000000            NaN                   NaN  \n",
       "\n",
       "[118 rows x 10 columns]"
      ]
     },
     "execution_count": 98,
     "metadata": {},
     "output_type": "execute_result"
    }
   ],
   "source": [
    "# drop Day column\n",
    "zdf = zdf.drop(['Day'], axis=1)\n",
    "zdf"
   ]
  },
  {
   "cell_type": "code",
   "execution_count": 99,
   "metadata": {},
   "outputs": [
    {
     "data": {
      "text/html": [
       "<div>\n",
       "<style scoped>\n",
       "    .dataframe tbody tr th:only-of-type {\n",
       "        vertical-align: middle;\n",
       "    }\n",
       "\n",
       "    .dataframe tbody tr th {\n",
       "        vertical-align: top;\n",
       "    }\n",
       "\n",
       "    .dataframe thead th {\n",
       "        text-align: right;\n",
       "    }\n",
       "</style>\n",
       "<table border=\"1\" class=\"dataframe\">\n",
       "  <thead>\n",
       "    <tr style=\"text-align: right;\">\n",
       "      <th></th>\n",
       "      <th>Name</th>\n",
       "      <th>Courses</th>\n",
       "      <th>Created time</th>\n",
       "      <th>Date</th>\n",
       "      <th>Goal</th>\n",
       "      <th>Person</th>\n",
       "      <th>Progress</th>\n",
       "      <th>spent-hours</th>\n",
       "      <th>spent-minutes</th>\n",
       "      <th>what you did</th>\n",
       "    </tr>\n",
       "  </thead>\n",
       "  <tbody>\n",
       "    <tr>\n",
       "      <th>0</th>\n",
       "      <td>29 done</td>\n",
       "      <td>MATH 116</td>\n",
       "      <td>June 22, 2023 3:02 PM</td>\n",
       "      <td>June 22, 2023</td>\n",
       "      <td>NaN</td>\n",
       "      <td>Zehra</td>\n",
       "      <td>Done</td>\n",
       "      <td>7.000000</td>\n",
       "      <td>420.0</td>\n",
       "      <td>Prev exam questions</td>\n",
       "    </tr>\n",
       "    <tr>\n",
       "      <th>2</th>\n",
       "      <td>28</td>\n",
       "      <td>MATH 116</td>\n",
       "      <td>June 22, 2023 3:00 PM</td>\n",
       "      <td>June 21, 2023</td>\n",
       "      <td>NaN</td>\n",
       "      <td>Zehra</td>\n",
       "      <td>Done</td>\n",
       "      <td>4.583333</td>\n",
       "      <td>275.0</td>\n",
       "      <td>NaN</td>\n",
       "    </tr>\n",
       "    <tr>\n",
       "      <th>5</th>\n",
       "      <td>27</td>\n",
       "      <td>MATH 116</td>\n",
       "      <td>June 20, 2023 3:31 PM</td>\n",
       "      <td>June 20, 2023</td>\n",
       "      <td>NaN</td>\n",
       "      <td>Zehra</td>\n",
       "      <td>Done</td>\n",
       "      <td>5.000000</td>\n",
       "      <td>300.0</td>\n",
       "      <td>PREV EXAM 2019</td>\n",
       "    </tr>\n",
       "    <tr>\n",
       "      <th>8</th>\n",
       "      <td>51 DONE</td>\n",
       "      <td>MATH 154</td>\n",
       "      <td>June 20, 2023 3:27 PM</td>\n",
       "      <td>June 19, 2023</td>\n",
       "      <td>NaN</td>\n",
       "      <td>Zehra</td>\n",
       "      <td>Done</td>\n",
       "      <td>3.333333</td>\n",
       "      <td>200.0</td>\n",
       "      <td>final exam</td>\n",
       "    </tr>\n",
       "    <tr>\n",
       "      <th>9</th>\n",
       "      <td>50</td>\n",
       "      <td>MATH 154</td>\n",
       "      <td>June 20, 2023 3:26 PM</td>\n",
       "      <td>June 18, 2023</td>\n",
       "      <td>NaN</td>\n",
       "      <td>Zehra</td>\n",
       "      <td>Done</td>\n",
       "      <td>3.750000</td>\n",
       "      <td>225.0</td>\n",
       "      <td>prev exam questions</td>\n",
       "    </tr>\n",
       "    <tr>\n",
       "      <th>...</th>\n",
       "      <td>...</td>\n",
       "      <td>...</td>\n",
       "      <td>...</td>\n",
       "      <td>...</td>\n",
       "      <td>...</td>\n",
       "      <td>...</td>\n",
       "      <td>...</td>\n",
       "      <td>...</td>\n",
       "      <td>...</td>\n",
       "      <td>...</td>\n",
       "    </tr>\n",
       "    <tr>\n",
       "      <th>127</th>\n",
       "      <td>1</td>\n",
       "      <td>MATH 112</td>\n",
       "      <td>March 11, 2023 11:28 PM</td>\n",
       "      <td>March 11, 2023</td>\n",
       "      <td>NaN</td>\n",
       "      <td>Zehra</td>\n",
       "      <td>Done</td>\n",
       "      <td>1.250000</td>\n",
       "      <td>75.0</td>\n",
       "      <td>NaN</td>\n",
       "    </tr>\n",
       "    <tr>\n",
       "      <th>129</th>\n",
       "      <td>2</td>\n",
       "      <td>MATH 116</td>\n",
       "      <td>March 11, 2023 4:05 PM</td>\n",
       "      <td>March 11, 2023</td>\n",
       "      <td>120.0</td>\n",
       "      <td>Zehra</td>\n",
       "      <td>Done</td>\n",
       "      <td>2.000000</td>\n",
       "      <td>120.0</td>\n",
       "      <td>NaN</td>\n",
       "    </tr>\n",
       "    <tr>\n",
       "      <th>131</th>\n",
       "      <td>1</td>\n",
       "      <td>MATH 154</td>\n",
       "      <td>March 10, 2023 1:15 PM</td>\n",
       "      <td>March 10, 2023</td>\n",
       "      <td>50.0</td>\n",
       "      <td>Zehra</td>\n",
       "      <td>Done</td>\n",
       "      <td>1.433333</td>\n",
       "      <td>86.0</td>\n",
       "      <td>NaN</td>\n",
       "    </tr>\n",
       "    <tr>\n",
       "      <th>132</th>\n",
       "      <td>1</td>\n",
       "      <td>MATH 116</td>\n",
       "      <td>March 9, 2023 11:32 PM</td>\n",
       "      <td>March 9, 2023</td>\n",
       "      <td>NaN</td>\n",
       "      <td>Zehra</td>\n",
       "      <td>Done</td>\n",
       "      <td>0.833333</td>\n",
       "      <td>50.0</td>\n",
       "      <td>NaN</td>\n",
       "    </tr>\n",
       "    <tr>\n",
       "      <th>133</th>\n",
       "      <td>0</td>\n",
       "      <td>MATH 112</td>\n",
       "      <td>April 5, 2023 10:58 AM</td>\n",
       "      <td>March 8, 2023</td>\n",
       "      <td>NaN</td>\n",
       "      <td>Zehra</td>\n",
       "      <td>Done</td>\n",
       "      <td>1.416667</td>\n",
       "      <td>85.0</td>\n",
       "      <td>NaN</td>\n",
       "    </tr>\n",
       "  </tbody>\n",
       "</table>\n",
       "<p>113 rows × 10 columns</p>\n",
       "</div>"
      ],
      "text/plain": [
       "        Name   Courses             Created time            Date   Goal Person  \\\n",
       "0    29 done  MATH 116    June 22, 2023 3:02 PM   June 22, 2023    NaN  Zehra   \n",
       "2         28  MATH 116    June 22, 2023 3:00 PM   June 21, 2023    NaN  Zehra   \n",
       "5         27  MATH 116    June 20, 2023 3:31 PM   June 20, 2023    NaN  Zehra   \n",
       "8    51 DONE  MATH 154    June 20, 2023 3:27 PM   June 19, 2023    NaN  Zehra   \n",
       "9         50  MATH 154    June 20, 2023 3:26 PM   June 18, 2023    NaN  Zehra   \n",
       "..       ...       ...                      ...             ...    ...    ...   \n",
       "127        1  MATH 112  March 11, 2023 11:28 PM  March 11, 2023    NaN  Zehra   \n",
       "129        2  MATH 116   March 11, 2023 4:05 PM  March 11, 2023  120.0  Zehra   \n",
       "131        1  MATH 154   March 10, 2023 1:15 PM  March 10, 2023   50.0  Zehra   \n",
       "132        1  MATH 116   March 9, 2023 11:32 PM   March 9, 2023    NaN  Zehra   \n",
       "133        0  MATH 112   April 5, 2023 10:58 AM   March 8, 2023    NaN  Zehra   \n",
       "\n",
       "    Progress   spent-hours  spent-minutes          what you did  \n",
       "0        Done     7.000000          420.0  Prev exam questions   \n",
       "2        Done     4.583333          275.0                   NaN  \n",
       "5        Done     5.000000          300.0        PREV EXAM 2019  \n",
       "8        Done     3.333333          200.0            final exam  \n",
       "9        Done     3.750000          225.0   prev exam questions  \n",
       "..        ...          ...            ...                   ...  \n",
       "127      Done     1.250000           75.0                   NaN  \n",
       "129      Done     2.000000          120.0                   NaN  \n",
       "131      Done     1.433333           86.0                   NaN  \n",
       "132      Done     0.833333           50.0                   NaN  \n",
       "133      Done     1.416667           85.0                   NaN  \n",
       "\n",
       "[113 rows x 10 columns]"
      ]
     },
     "execution_count": 99,
     "metadata": {},
     "output_type": "execute_result"
    }
   ],
   "source": [
    "# if spent-hour is zero then drop it \n",
    "zdf = zdf[zdf['spent-hours'] != 0]\n",
    "zdf\n"
   ]
  },
  {
   "cell_type": "code",
   "execution_count": 100,
   "metadata": {},
   "outputs": [
    {
     "name": "stderr",
     "output_type": "stream",
     "text": [
      "/var/folders/dm/vlb3lrsn2kgg0bxkkw0vb53c0000gn/T/ipykernel_1540/2475995178.py:2: SettingWithCopyWarning:\n",
      "\n",
      "\n",
      "A value is trying to be set on a copy of a slice from a DataFrame.\n",
      "Try using .loc[row_indexer,col_indexer] = value instead\n",
      "\n",
      "See the caveats in the documentation: https://pandas.pydata.org/pandas-docs/stable/user_guide/indexing.html#returning-a-view-versus-a-copy\n",
      "\n"
     ]
    }
   ],
   "source": [
    "# dates to datetime\n",
    "zdf['Date'] = pd.to_datetime(zdf['Date'])\n",
    "\n"
   ]
  },
  {
   "cell_type": "code",
   "execution_count": 101,
   "metadata": {},
   "outputs": [
    {
     "data": {
      "text/plain": [
       "Index(['Name', 'Courses', 'Created time', 'Date', 'Goal', 'Person',\n",
       "       'Progress ', 'spent-hours', 'spent-minutes', 'what you did'],\n",
       "      dtype='object')"
      ]
     },
     "execution_count": 101,
     "metadata": {},
     "output_type": "execute_result"
    }
   ],
   "source": [
    "zdf.columns"
   ]
  },
  {
   "cell_type": "code",
   "execution_count": 102,
   "metadata": {},
   "outputs": [
    {
     "data": {
      "text/html": [
       "<div>\n",
       "<style scoped>\n",
       "    .dataframe tbody tr th:only-of-type {\n",
       "        vertical-align: middle;\n",
       "    }\n",
       "\n",
       "    .dataframe tbody tr th {\n",
       "        vertical-align: top;\n",
       "    }\n",
       "\n",
       "    .dataframe thead th {\n",
       "        text-align: right;\n",
       "    }\n",
       "</style>\n",
       "<table border=\"1\" class=\"dataframe\">\n",
       "  <thead>\n",
       "    <tr style=\"text-align: right;\">\n",
       "      <th></th>\n",
       "      <th>Name</th>\n",
       "      <th>Courses</th>\n",
       "      <th>Date</th>\n",
       "      <th>spent-hours</th>\n",
       "      <th>spent-minutes</th>\n",
       "      <th>what you did</th>\n",
       "    </tr>\n",
       "  </thead>\n",
       "  <tbody>\n",
       "    <tr>\n",
       "      <th>0</th>\n",
       "      <td>29 done</td>\n",
       "      <td>MATH 116</td>\n",
       "      <td>2023-06-22</td>\n",
       "      <td>7.000000</td>\n",
       "      <td>420.0</td>\n",
       "      <td>Prev exam questions</td>\n",
       "    </tr>\n",
       "    <tr>\n",
       "      <th>2</th>\n",
       "      <td>28</td>\n",
       "      <td>MATH 116</td>\n",
       "      <td>2023-06-21</td>\n",
       "      <td>4.583333</td>\n",
       "      <td>275.0</td>\n",
       "      <td>NaN</td>\n",
       "    </tr>\n",
       "    <tr>\n",
       "      <th>5</th>\n",
       "      <td>27</td>\n",
       "      <td>MATH 116</td>\n",
       "      <td>2023-06-20</td>\n",
       "      <td>5.000000</td>\n",
       "      <td>300.0</td>\n",
       "      <td>PREV EXAM 2019</td>\n",
       "    </tr>\n",
       "    <tr>\n",
       "      <th>8</th>\n",
       "      <td>51 DONE</td>\n",
       "      <td>MATH 154</td>\n",
       "      <td>2023-06-19</td>\n",
       "      <td>3.333333</td>\n",
       "      <td>200.0</td>\n",
       "      <td>final exam</td>\n",
       "    </tr>\n",
       "    <tr>\n",
       "      <th>9</th>\n",
       "      <td>50</td>\n",
       "      <td>MATH 154</td>\n",
       "      <td>2023-06-18</td>\n",
       "      <td>3.750000</td>\n",
       "      <td>225.0</td>\n",
       "      <td>prev exam questions</td>\n",
       "    </tr>\n",
       "    <tr>\n",
       "      <th>...</th>\n",
       "      <td>...</td>\n",
       "      <td>...</td>\n",
       "      <td>...</td>\n",
       "      <td>...</td>\n",
       "      <td>...</td>\n",
       "      <td>...</td>\n",
       "    </tr>\n",
       "    <tr>\n",
       "      <th>127</th>\n",
       "      <td>1</td>\n",
       "      <td>MATH 112</td>\n",
       "      <td>2023-03-11</td>\n",
       "      <td>1.250000</td>\n",
       "      <td>75.0</td>\n",
       "      <td>NaN</td>\n",
       "    </tr>\n",
       "    <tr>\n",
       "      <th>129</th>\n",
       "      <td>2</td>\n",
       "      <td>MATH 116</td>\n",
       "      <td>2023-03-11</td>\n",
       "      <td>2.000000</td>\n",
       "      <td>120.0</td>\n",
       "      <td>NaN</td>\n",
       "    </tr>\n",
       "    <tr>\n",
       "      <th>131</th>\n",
       "      <td>1</td>\n",
       "      <td>MATH 154</td>\n",
       "      <td>2023-03-10</td>\n",
       "      <td>1.433333</td>\n",
       "      <td>86.0</td>\n",
       "      <td>NaN</td>\n",
       "    </tr>\n",
       "    <tr>\n",
       "      <th>132</th>\n",
       "      <td>1</td>\n",
       "      <td>MATH 116</td>\n",
       "      <td>2023-03-09</td>\n",
       "      <td>0.833333</td>\n",
       "      <td>50.0</td>\n",
       "      <td>NaN</td>\n",
       "    </tr>\n",
       "    <tr>\n",
       "      <th>133</th>\n",
       "      <td>0</td>\n",
       "      <td>MATH 112</td>\n",
       "      <td>2023-03-08</td>\n",
       "      <td>1.416667</td>\n",
       "      <td>85.0</td>\n",
       "      <td>NaN</td>\n",
       "    </tr>\n",
       "  </tbody>\n",
       "</table>\n",
       "<p>113 rows × 6 columns</p>\n",
       "</div>"
      ],
      "text/plain": [
       "        Name   Courses       Date  spent-hours  spent-minutes  \\\n",
       "0    29 done  MATH 116 2023-06-22     7.000000          420.0   \n",
       "2         28  MATH 116 2023-06-21     4.583333          275.0   \n",
       "5         27  MATH 116 2023-06-20     5.000000          300.0   \n",
       "8    51 DONE  MATH 154 2023-06-19     3.333333          200.0   \n",
       "9         50  MATH 154 2023-06-18     3.750000          225.0   \n",
       "..       ...       ...        ...          ...            ...   \n",
       "127        1  MATH 112 2023-03-11     1.250000           75.0   \n",
       "129        2  MATH 116 2023-03-11     2.000000          120.0   \n",
       "131        1  MATH 154 2023-03-10     1.433333           86.0   \n",
       "132        1  MATH 116 2023-03-09     0.833333           50.0   \n",
       "133        0  MATH 112 2023-03-08     1.416667           85.0   \n",
       "\n",
       "             what you did  \n",
       "0    Prev exam questions   \n",
       "2                     NaN  \n",
       "5          PREV EXAM 2019  \n",
       "8              final exam  \n",
       "9     prev exam questions  \n",
       "..                    ...  \n",
       "127                   NaN  \n",
       "129                   NaN  \n",
       "131                   NaN  \n",
       "132                   NaN  \n",
       "133                   NaN  \n",
       "\n",
       "[113 rows x 6 columns]"
      ]
     },
     "execution_count": 102,
     "metadata": {},
     "output_type": "execute_result"
    }
   ],
   "source": [
    "# drop Created time, Goal, Person,Progress columns \n",
    "zdf = zdf.drop(['Created time', 'Goal', 'Person', 'Progress '], axis=1)\n",
    "zdf\n"
   ]
  },
  {
   "cell_type": "code",
   "execution_count": 103,
   "metadata": {},
   "outputs": [
    {
     "data": {
      "application/vnd.plotly.v1+json": {
       "config": {
        "plotlyServerURL": "https://plot.ly"
       },
       "data": [
        {
         "mode": "lines+markers",
         "name": "lines+markers",
         "type": "scatter",
         "x": [
          "2023-06-22T00:00:00",
          "2023-06-21T00:00:00",
          "2023-06-20T00:00:00",
          "2023-06-19T00:00:00",
          "2023-06-18T00:00:00",
          "2023-06-17T00:00:00",
          "2023-06-15T00:00:00",
          "2023-06-14T00:00:00",
          "2023-06-13T00:00:00",
          "2023-06-12T00:00:00",
          "2023-06-11T00:00:00",
          "2023-06-11T00:00:00",
          "2023-06-10T00:00:00",
          "2023-06-09T00:00:00",
          "2023-06-09T00:00:00",
          "2023-06-08T00:00:00",
          "2023-06-07T00:00:00",
          "2023-06-07T00:00:00",
          "2023-06-06T00:00:00",
          "2023-06-04T00:00:00",
          "2023-06-03T00:00:00",
          "2023-06-03T00:00:00",
          "2023-06-02T00:00:00",
          "2023-06-01T00:00:00",
          "2023-06-01T00:00:00",
          "2023-05-31T00:00:00",
          "2023-05-30T00:00:00",
          "2023-05-30T00:00:00",
          "2023-05-29T00:00:00",
          "2023-05-29T00:00:00",
          "2023-05-28T00:00:00",
          "2023-05-27T00:00:00",
          "2023-05-26T00:00:00",
          "2023-05-25T00:00:00",
          "2023-05-24T00:00:00",
          "2023-05-24T00:00:00",
          "2023-05-22T00:00:00",
          "2023-05-22T00:00:00",
          "2023-05-21T00:00:00",
          "2023-05-20T00:00:00",
          "2023-05-20T00:00:00",
          "2023-05-19T00:00:00",
          "2023-05-19T00:00:00",
          "2023-05-18T00:00:00",
          "2023-05-12T00:00:00",
          "2023-05-10T00:00:00",
          "2023-05-10T00:00:00",
          "2023-05-09T00:00:00",
          "2023-05-08T00:00:00",
          "2023-05-05T00:00:00",
          "2023-05-04T00:00:00",
          "2023-04-30T00:00:00",
          "2023-04-29T00:00:00",
          "2023-04-28T00:00:00",
          "2023-04-28T00:00:00",
          "2023-04-27T00:00:00",
          "2023-04-26T00:00:00",
          "2023-04-22T00:00:00",
          "2023-04-22T00:00:00",
          "2023-04-18T00:00:00",
          "2023-04-17T00:00:00",
          "2023-04-16T00:00:00",
          "2023-04-16T00:00:00",
          "2023-04-15T00:00:00",
          "2023-04-15T00:00:00",
          "2023-04-14T00:00:00",
          "2023-04-13T00:00:00",
          "2023-04-12T00:00:00",
          "2023-04-11T00:00:00",
          "2023-04-11T00:00:00",
          "2023-04-09T00:00:00",
          "2023-04-09T00:00:00",
          "2023-04-09T00:00:00",
          "2023-04-08T00:00:00",
          "2023-04-07T00:00:00",
          "2023-04-06T00:00:00",
          "2023-04-05T00:00:00",
          "2023-04-05T00:00:00",
          "2023-04-04T00:00:00",
          "2023-04-04T00:00:00",
          "2023-04-03T00:00:00",
          "2023-04-03T00:00:00",
          "2023-04-02T00:00:00",
          "2023-04-02T00:00:00",
          "2023-04-02T00:00:00",
          "2023-04-01T00:00:00",
          "2023-03-31T00:00:00",
          "2023-03-30T00:00:00",
          "2023-03-30T00:00:00",
          "2023-03-29T00:00:00",
          "2023-03-28T00:00:00",
          "2023-03-26T00:00:00",
          "2023-03-25T00:00:00",
          "2023-03-25T00:00:00",
          "2023-03-24T00:00:00",
          "2023-03-24T00:00:00",
          "2023-03-23T00:00:00",
          "2023-03-22T00:00:00",
          "2023-03-19T00:00:00",
          "2023-03-18T00:00:00",
          "2023-03-17T00:00:00",
          "2023-03-16T00:00:00",
          "2023-03-15T00:00:00",
          "2023-03-14T00:00:00",
          "2023-03-13T00:00:00",
          "2023-03-13T00:00:00",
          "2023-03-13T00:00:00",
          "2023-03-12T00:00:00",
          "2023-03-11T00:00:00",
          "2023-03-11T00:00:00",
          "2023-03-10T00:00:00",
          "2023-03-09T00:00:00",
          "2023-03-08T00:00:00"
         ],
         "y": [
          7,
          4.583333333333,
          5,
          3.333333333333,
          3.75,
          1.25,
          2.5,
          5.833333333333,
          0.666666666667,
          6.25,
          0.833333333333,
          2.916666666667,
          2.916666666667,
          1.25,
          1.416666666667,
          2.25,
          1.25,
          1.933333333333,
          1.25,
          3.75,
          2.083333333333,
          1.25,
          2,
          1.666666666667,
          0.416666666667,
          0.416666666667,
          2.916666666667,
          0.833333333333,
          0.833333333333,
          2.083333333333,
          3.333333333333,
          0.833333333333,
          2.5,
          3.333333333333,
          0.416666666667,
          1.666666666667,
          0.833333333333,
          2.5,
          0.833333333333,
          0.833333333333,
          0.416666666667,
          0.833333333333,
          4.166666666667,
          5.833333333333,
          2.5,
          0.833333333333,
          3.333333333333,
          1.5,
          2.083333333333,
          3.75,
          1.233333333333,
          1.666666666667,
          6.25,
          2.083333333333,
          0.833333333333,
          1.25,
          0.416666666667,
          1.666666666667,
          0.833333333333,
          1.25,
          0.416666666667,
          0.833333333333,
          4.166666666667,
          1.25,
          0.833333333333,
          3.333333333333,
          0.416666666667,
          2.916666666667,
          0.75,
          0.416666666667,
          1.666666666667,
          3.333333333333,
          1.666666666667,
          0.833333333333,
          0.833333333333,
          2.666666666667,
          1.25,
          0.833333333333,
          0.833333333333,
          0.416666666667,
          1.25,
          0.833333333333,
          3.333333333333,
          1.25,
          3.333333333333,
          1.25,
          2.083333333333,
          0.583333333333,
          3.333333333333,
          4.166666666667,
          2.5,
          2.5,
          2,
          1.25,
          0.833333333333,
          2.083333333333,
          1.666666666667,
          4.583333333333,
          3.333333333333,
          0.416666666667,
          0.833333333333,
          1.25,
          0.416666666667,
          0.416666666667,
          2.083333333333,
          0.416666666667,
          0.416666666667,
          3.333333333333,
          1.25,
          2,
          1.433333333333,
          0.833333333333,
          1.416666666667
         ]
        }
       ],
       "layout": {
        "template": {
         "data": {
          "bar": [
           {
            "error_x": {
             "color": "#2a3f5f"
            },
            "error_y": {
             "color": "#2a3f5f"
            },
            "marker": {
             "line": {
              "color": "#E5ECF6",
              "width": 0.5
             },
             "pattern": {
              "fillmode": "overlay",
              "size": 10,
              "solidity": 0.2
             }
            },
            "type": "bar"
           }
          ],
          "barpolar": [
           {
            "marker": {
             "line": {
              "color": "#E5ECF6",
              "width": 0.5
             },
             "pattern": {
              "fillmode": "overlay",
              "size": 10,
              "solidity": 0.2
             }
            },
            "type": "barpolar"
           }
          ],
          "carpet": [
           {
            "aaxis": {
             "endlinecolor": "#2a3f5f",
             "gridcolor": "white",
             "linecolor": "white",
             "minorgridcolor": "white",
             "startlinecolor": "#2a3f5f"
            },
            "baxis": {
             "endlinecolor": "#2a3f5f",
             "gridcolor": "white",
             "linecolor": "white",
             "minorgridcolor": "white",
             "startlinecolor": "#2a3f5f"
            },
            "type": "carpet"
           }
          ],
          "choropleth": [
           {
            "colorbar": {
             "outlinewidth": 0,
             "ticks": ""
            },
            "type": "choropleth"
           }
          ],
          "contour": [
           {
            "colorbar": {
             "outlinewidth": 0,
             "ticks": ""
            },
            "colorscale": [
             [
              0,
              "#0d0887"
             ],
             [
              0.1111111111111111,
              "#46039f"
             ],
             [
              0.2222222222222222,
              "#7201a8"
             ],
             [
              0.3333333333333333,
              "#9c179e"
             ],
             [
              0.4444444444444444,
              "#bd3786"
             ],
             [
              0.5555555555555556,
              "#d8576b"
             ],
             [
              0.6666666666666666,
              "#ed7953"
             ],
             [
              0.7777777777777778,
              "#fb9f3a"
             ],
             [
              0.8888888888888888,
              "#fdca26"
             ],
             [
              1,
              "#f0f921"
             ]
            ],
            "type": "contour"
           }
          ],
          "contourcarpet": [
           {
            "colorbar": {
             "outlinewidth": 0,
             "ticks": ""
            },
            "type": "contourcarpet"
           }
          ],
          "heatmap": [
           {
            "colorbar": {
             "outlinewidth": 0,
             "ticks": ""
            },
            "colorscale": [
             [
              0,
              "#0d0887"
             ],
             [
              0.1111111111111111,
              "#46039f"
             ],
             [
              0.2222222222222222,
              "#7201a8"
             ],
             [
              0.3333333333333333,
              "#9c179e"
             ],
             [
              0.4444444444444444,
              "#bd3786"
             ],
             [
              0.5555555555555556,
              "#d8576b"
             ],
             [
              0.6666666666666666,
              "#ed7953"
             ],
             [
              0.7777777777777778,
              "#fb9f3a"
             ],
             [
              0.8888888888888888,
              "#fdca26"
             ],
             [
              1,
              "#f0f921"
             ]
            ],
            "type": "heatmap"
           }
          ],
          "heatmapgl": [
           {
            "colorbar": {
             "outlinewidth": 0,
             "ticks": ""
            },
            "colorscale": [
             [
              0,
              "#0d0887"
             ],
             [
              0.1111111111111111,
              "#46039f"
             ],
             [
              0.2222222222222222,
              "#7201a8"
             ],
             [
              0.3333333333333333,
              "#9c179e"
             ],
             [
              0.4444444444444444,
              "#bd3786"
             ],
             [
              0.5555555555555556,
              "#d8576b"
             ],
             [
              0.6666666666666666,
              "#ed7953"
             ],
             [
              0.7777777777777778,
              "#fb9f3a"
             ],
             [
              0.8888888888888888,
              "#fdca26"
             ],
             [
              1,
              "#f0f921"
             ]
            ],
            "type": "heatmapgl"
           }
          ],
          "histogram": [
           {
            "marker": {
             "pattern": {
              "fillmode": "overlay",
              "size": 10,
              "solidity": 0.2
             }
            },
            "type": "histogram"
           }
          ],
          "histogram2d": [
           {
            "colorbar": {
             "outlinewidth": 0,
             "ticks": ""
            },
            "colorscale": [
             [
              0,
              "#0d0887"
             ],
             [
              0.1111111111111111,
              "#46039f"
             ],
             [
              0.2222222222222222,
              "#7201a8"
             ],
             [
              0.3333333333333333,
              "#9c179e"
             ],
             [
              0.4444444444444444,
              "#bd3786"
             ],
             [
              0.5555555555555556,
              "#d8576b"
             ],
             [
              0.6666666666666666,
              "#ed7953"
             ],
             [
              0.7777777777777778,
              "#fb9f3a"
             ],
             [
              0.8888888888888888,
              "#fdca26"
             ],
             [
              1,
              "#f0f921"
             ]
            ],
            "type": "histogram2d"
           }
          ],
          "histogram2dcontour": [
           {
            "colorbar": {
             "outlinewidth": 0,
             "ticks": ""
            },
            "colorscale": [
             [
              0,
              "#0d0887"
             ],
             [
              0.1111111111111111,
              "#46039f"
             ],
             [
              0.2222222222222222,
              "#7201a8"
             ],
             [
              0.3333333333333333,
              "#9c179e"
             ],
             [
              0.4444444444444444,
              "#bd3786"
             ],
             [
              0.5555555555555556,
              "#d8576b"
             ],
             [
              0.6666666666666666,
              "#ed7953"
             ],
             [
              0.7777777777777778,
              "#fb9f3a"
             ],
             [
              0.8888888888888888,
              "#fdca26"
             ],
             [
              1,
              "#f0f921"
             ]
            ],
            "type": "histogram2dcontour"
           }
          ],
          "mesh3d": [
           {
            "colorbar": {
             "outlinewidth": 0,
             "ticks": ""
            },
            "type": "mesh3d"
           }
          ],
          "parcoords": [
           {
            "line": {
             "colorbar": {
              "outlinewidth": 0,
              "ticks": ""
             }
            },
            "type": "parcoords"
           }
          ],
          "pie": [
           {
            "automargin": true,
            "type": "pie"
           }
          ],
          "scatter": [
           {
            "fillpattern": {
             "fillmode": "overlay",
             "size": 10,
             "solidity": 0.2
            },
            "type": "scatter"
           }
          ],
          "scatter3d": [
           {
            "line": {
             "colorbar": {
              "outlinewidth": 0,
              "ticks": ""
             }
            },
            "marker": {
             "colorbar": {
              "outlinewidth": 0,
              "ticks": ""
             }
            },
            "type": "scatter3d"
           }
          ],
          "scattercarpet": [
           {
            "marker": {
             "colorbar": {
              "outlinewidth": 0,
              "ticks": ""
             }
            },
            "type": "scattercarpet"
           }
          ],
          "scattergeo": [
           {
            "marker": {
             "colorbar": {
              "outlinewidth": 0,
              "ticks": ""
             }
            },
            "type": "scattergeo"
           }
          ],
          "scattergl": [
           {
            "marker": {
             "colorbar": {
              "outlinewidth": 0,
              "ticks": ""
             }
            },
            "type": "scattergl"
           }
          ],
          "scattermapbox": [
           {
            "marker": {
             "colorbar": {
              "outlinewidth": 0,
              "ticks": ""
             }
            },
            "type": "scattermapbox"
           }
          ],
          "scatterpolar": [
           {
            "marker": {
             "colorbar": {
              "outlinewidth": 0,
              "ticks": ""
             }
            },
            "type": "scatterpolar"
           }
          ],
          "scatterpolargl": [
           {
            "marker": {
             "colorbar": {
              "outlinewidth": 0,
              "ticks": ""
             }
            },
            "type": "scatterpolargl"
           }
          ],
          "scatterternary": [
           {
            "marker": {
             "colorbar": {
              "outlinewidth": 0,
              "ticks": ""
             }
            },
            "type": "scatterternary"
           }
          ],
          "surface": [
           {
            "colorbar": {
             "outlinewidth": 0,
             "ticks": ""
            },
            "colorscale": [
             [
              0,
              "#0d0887"
             ],
             [
              0.1111111111111111,
              "#46039f"
             ],
             [
              0.2222222222222222,
              "#7201a8"
             ],
             [
              0.3333333333333333,
              "#9c179e"
             ],
             [
              0.4444444444444444,
              "#bd3786"
             ],
             [
              0.5555555555555556,
              "#d8576b"
             ],
             [
              0.6666666666666666,
              "#ed7953"
             ],
             [
              0.7777777777777778,
              "#fb9f3a"
             ],
             [
              0.8888888888888888,
              "#fdca26"
             ],
             [
              1,
              "#f0f921"
             ]
            ],
            "type": "surface"
           }
          ],
          "table": [
           {
            "cells": {
             "fill": {
              "color": "#EBF0F8"
             },
             "line": {
              "color": "white"
             }
            },
            "header": {
             "fill": {
              "color": "#C8D4E3"
             },
             "line": {
              "color": "white"
             }
            },
            "type": "table"
           }
          ]
         },
         "layout": {
          "annotationdefaults": {
           "arrowcolor": "#2a3f5f",
           "arrowhead": 0,
           "arrowwidth": 1
          },
          "autotypenumbers": "strict",
          "coloraxis": {
           "colorbar": {
            "outlinewidth": 0,
            "ticks": ""
           }
          },
          "colorscale": {
           "diverging": [
            [
             0,
             "#8e0152"
            ],
            [
             0.1,
             "#c51b7d"
            ],
            [
             0.2,
             "#de77ae"
            ],
            [
             0.3,
             "#f1b6da"
            ],
            [
             0.4,
             "#fde0ef"
            ],
            [
             0.5,
             "#f7f7f7"
            ],
            [
             0.6,
             "#e6f5d0"
            ],
            [
             0.7,
             "#b8e186"
            ],
            [
             0.8,
             "#7fbc41"
            ],
            [
             0.9,
             "#4d9221"
            ],
            [
             1,
             "#276419"
            ]
           ],
           "sequential": [
            [
             0,
             "#0d0887"
            ],
            [
             0.1111111111111111,
             "#46039f"
            ],
            [
             0.2222222222222222,
             "#7201a8"
            ],
            [
             0.3333333333333333,
             "#9c179e"
            ],
            [
             0.4444444444444444,
             "#bd3786"
            ],
            [
             0.5555555555555556,
             "#d8576b"
            ],
            [
             0.6666666666666666,
             "#ed7953"
            ],
            [
             0.7777777777777778,
             "#fb9f3a"
            ],
            [
             0.8888888888888888,
             "#fdca26"
            ],
            [
             1,
             "#f0f921"
            ]
           ],
           "sequentialminus": [
            [
             0,
             "#0d0887"
            ],
            [
             0.1111111111111111,
             "#46039f"
            ],
            [
             0.2222222222222222,
             "#7201a8"
            ],
            [
             0.3333333333333333,
             "#9c179e"
            ],
            [
             0.4444444444444444,
             "#bd3786"
            ],
            [
             0.5555555555555556,
             "#d8576b"
            ],
            [
             0.6666666666666666,
             "#ed7953"
            ],
            [
             0.7777777777777778,
             "#fb9f3a"
            ],
            [
             0.8888888888888888,
             "#fdca26"
            ],
            [
             1,
             "#f0f921"
            ]
           ]
          },
          "colorway": [
           "#636efa",
           "#EF553B",
           "#00cc96",
           "#ab63fa",
           "#FFA15A",
           "#19d3f3",
           "#FF6692",
           "#B6E880",
           "#FF97FF",
           "#FECB52"
          ],
          "font": {
           "color": "#2a3f5f"
          },
          "geo": {
           "bgcolor": "white",
           "lakecolor": "white",
           "landcolor": "#E5ECF6",
           "showlakes": true,
           "showland": true,
           "subunitcolor": "white"
          },
          "hoverlabel": {
           "align": "left"
          },
          "hovermode": "closest",
          "mapbox": {
           "style": "light"
          },
          "paper_bgcolor": "white",
          "plot_bgcolor": "#E5ECF6",
          "polar": {
           "angularaxis": {
            "gridcolor": "white",
            "linecolor": "white",
            "ticks": ""
           },
           "bgcolor": "#E5ECF6",
           "radialaxis": {
            "gridcolor": "white",
            "linecolor": "white",
            "ticks": ""
           }
          },
          "scene": {
           "xaxis": {
            "backgroundcolor": "#E5ECF6",
            "gridcolor": "white",
            "gridwidth": 2,
            "linecolor": "white",
            "showbackground": true,
            "ticks": "",
            "zerolinecolor": "white"
           },
           "yaxis": {
            "backgroundcolor": "#E5ECF6",
            "gridcolor": "white",
            "gridwidth": 2,
            "linecolor": "white",
            "showbackground": true,
            "ticks": "",
            "zerolinecolor": "white"
           },
           "zaxis": {
            "backgroundcolor": "#E5ECF6",
            "gridcolor": "white",
            "gridwidth": 2,
            "linecolor": "white",
            "showbackground": true,
            "ticks": "",
            "zerolinecolor": "white"
           }
          },
          "shapedefaults": {
           "line": {
            "color": "#2a3f5f"
           }
          },
          "ternary": {
           "aaxis": {
            "gridcolor": "white",
            "linecolor": "white",
            "ticks": ""
           },
           "baxis": {
            "gridcolor": "white",
            "linecolor": "white",
            "ticks": ""
           },
           "bgcolor": "#E5ECF6",
           "caxis": {
            "gridcolor": "white",
            "linecolor": "white",
            "ticks": ""
           }
          },
          "title": {
           "x": 0.05
          },
          "xaxis": {
           "automargin": true,
           "gridcolor": "white",
           "linecolor": "white",
           "ticks": "",
           "title": {
            "standoff": 15
           },
           "zerolinecolor": "white",
           "zerolinewidth": 2
          },
          "yaxis": {
           "automargin": true,
           "gridcolor": "white",
           "linecolor": "white",
           "ticks": "",
           "title": {
            "standoff": 15
           },
           "zerolinecolor": "white",
           "zerolinewidth": 2
          }
         }
        }
       }
      }
     },
     "metadata": {},
     "output_type": "display_data"
    }
   ],
   "source": [
    "# create graph for spent-hours and date ascending\n",
    "fig = go.Figure()\n",
    "fig.add_trace(go.Scatter(x=zdf['Date'], y=zdf['spent-hours'],\n",
    "                    mode='lines+markers',\n",
    "                    name='lines+markers'))\n",
    "fig.show()\n"
   ]
  },
  {
   "cell_type": "code",
   "execution_count": 104,
   "metadata": {},
   "outputs": [],
   "source": [
    "# create graph for spent-hours and date for only MATH 116\t\n",
    "math116 = zdf[zdf['Courses'] == 'MATH 116']\n",
    "math154= zdf[zdf['Courses'] == 'MATH 154']\n",
    "math112= zdf[zdf['Courses'] == 'MATH 112']\n",
    "\n"
   ]
  },
  {
   "cell_type": "code",
   "execution_count": 105,
   "metadata": {},
   "outputs": [],
   "source": [
    "# sort dates \n",
    "math116 = math116.sort_values(by=['Date'])\n",
    "math154 = math154.sort_values(by=['Date'])\n",
    "math112 = math112.sort_values(by=['Date'])\n",
    "#sort zdf by dates\n",
    "zdf = zdf.sort_values(by=['Date'])"
   ]
  },
  {
   "cell_type": "code",
   "execution_count": 106,
   "metadata": {},
   "outputs": [
    {
     "data": {
      "application/vnd.plotly.v1+json": {
       "config": {
        "plotlyServerURL": "https://plot.ly"
       },
       "data": [
        {
         "mode": "lines+markers",
         "name": "total work time",
         "type": "scatter",
         "x": [
          "2023-03-08T00:00:00",
          "2023-03-09T00:00:00",
          "2023-03-10T00:00:00",
          "2023-03-11T00:00:00",
          "2023-03-11T00:00:00",
          "2023-03-12T00:00:00",
          "2023-03-13T00:00:00",
          "2023-03-13T00:00:00",
          "2023-03-13T00:00:00",
          "2023-03-14T00:00:00",
          "2023-03-15T00:00:00",
          "2023-03-16T00:00:00",
          "2023-03-17T00:00:00",
          "2023-03-18T00:00:00",
          "2023-03-19T00:00:00",
          "2023-03-22T00:00:00",
          "2023-03-23T00:00:00",
          "2023-03-24T00:00:00",
          "2023-03-24T00:00:00",
          "2023-03-25T00:00:00",
          "2023-03-25T00:00:00",
          "2023-03-26T00:00:00",
          "2023-03-28T00:00:00",
          "2023-03-29T00:00:00",
          "2023-03-30T00:00:00",
          "2023-03-30T00:00:00",
          "2023-03-31T00:00:00",
          "2023-04-01T00:00:00",
          "2023-04-02T00:00:00",
          "2023-04-02T00:00:00",
          "2023-04-02T00:00:00",
          "2023-04-03T00:00:00",
          "2023-04-03T00:00:00",
          "2023-04-04T00:00:00",
          "2023-04-04T00:00:00",
          "2023-04-05T00:00:00",
          "2023-04-05T00:00:00",
          "2023-04-06T00:00:00",
          "2023-04-07T00:00:00",
          "2023-04-08T00:00:00",
          "2023-04-09T00:00:00",
          "2023-04-09T00:00:00",
          "2023-04-09T00:00:00",
          "2023-04-11T00:00:00",
          "2023-04-11T00:00:00",
          "2023-04-12T00:00:00",
          "2023-04-13T00:00:00",
          "2023-04-14T00:00:00",
          "2023-04-15T00:00:00",
          "2023-04-15T00:00:00",
          "2023-04-16T00:00:00",
          "2023-04-16T00:00:00",
          "2023-04-17T00:00:00",
          "2023-04-18T00:00:00",
          "2023-04-22T00:00:00",
          "2023-04-22T00:00:00",
          "2023-04-26T00:00:00",
          "2023-04-27T00:00:00",
          "2023-04-28T00:00:00",
          "2023-04-28T00:00:00",
          "2023-04-29T00:00:00",
          "2023-04-30T00:00:00",
          "2023-05-04T00:00:00",
          "2023-05-05T00:00:00",
          "2023-05-08T00:00:00",
          "2023-05-09T00:00:00",
          "2023-05-10T00:00:00",
          "2023-05-10T00:00:00",
          "2023-05-12T00:00:00",
          "2023-05-18T00:00:00",
          "2023-05-19T00:00:00",
          "2023-05-19T00:00:00",
          "2023-05-20T00:00:00",
          "2023-05-20T00:00:00",
          "2023-05-21T00:00:00",
          "2023-05-22T00:00:00",
          "2023-05-22T00:00:00",
          "2023-05-24T00:00:00",
          "2023-05-24T00:00:00",
          "2023-05-25T00:00:00",
          "2023-05-26T00:00:00",
          "2023-05-27T00:00:00",
          "2023-05-28T00:00:00",
          "2023-05-29T00:00:00",
          "2023-05-29T00:00:00",
          "2023-05-30T00:00:00",
          "2023-05-30T00:00:00",
          "2023-05-31T00:00:00",
          "2023-06-01T00:00:00",
          "2023-06-01T00:00:00",
          "2023-06-02T00:00:00",
          "2023-06-03T00:00:00",
          "2023-06-03T00:00:00",
          "2023-06-04T00:00:00",
          "2023-06-06T00:00:00",
          "2023-06-07T00:00:00",
          "2023-06-07T00:00:00",
          "2023-06-08T00:00:00",
          "2023-06-09T00:00:00",
          "2023-06-09T00:00:00",
          "2023-06-10T00:00:00",
          "2023-06-11T00:00:00",
          "2023-06-11T00:00:00",
          "2023-06-12T00:00:00",
          "2023-06-13T00:00:00",
          "2023-06-14T00:00:00",
          "2023-06-15T00:00:00",
          "2023-06-17T00:00:00",
          "2023-06-18T00:00:00",
          "2023-06-19T00:00:00",
          "2023-06-20T00:00:00",
          "2023-06-21T00:00:00",
          "2023-06-22T00:00:00"
         ],
         "xaxis": "x",
         "y": [
          1.416666666667,
          0.833333333333,
          1.433333333333,
          2,
          1.25,
          3.333333333333,
          0.416666666667,
          0.416666666667,
          2.083333333333,
          0.416666666667,
          0.416666666667,
          1.25,
          0.833333333333,
          0.416666666667,
          3.333333333333,
          4.583333333333,
          1.666666666667,
          0.833333333333,
          2.083333333333,
          1.25,
          2,
          2.5,
          2.5,
          4.166666666667,
          3.333333333333,
          0.583333333333,
          2.083333333333,
          1.25,
          3.333333333333,
          1.25,
          3.333333333333,
          0.833333333333,
          1.25,
          0.416666666667,
          0.833333333333,
          0.833333333333,
          1.25,
          2.666666666667,
          0.833333333333,
          0.833333333333,
          1.666666666667,
          3.333333333333,
          1.666666666667,
          0.75,
          0.416666666667,
          2.916666666667,
          0.416666666667,
          3.333333333333,
          0.833333333333,
          1.25,
          4.166666666667,
          0.833333333333,
          0.416666666667,
          1.25,
          0.833333333333,
          1.666666666667,
          0.416666666667,
          1.25,
          0.833333333333,
          2.083333333333,
          6.25,
          1.666666666667,
          1.233333333333,
          3.75,
          2.083333333333,
          1.5,
          3.333333333333,
          0.833333333333,
          2.5,
          5.833333333333,
          0.833333333333,
          4.166666666667,
          0.833333333333,
          0.416666666667,
          0.833333333333,
          2.5,
          0.833333333333,
          1.666666666667,
          0.416666666667,
          3.333333333333,
          2.5,
          0.833333333333,
          3.333333333333,
          2.083333333333,
          0.833333333333,
          0.833333333333,
          2.916666666667,
          0.416666666667,
          0.416666666667,
          1.666666666667,
          2,
          1.25,
          2.083333333333,
          3.75,
          1.25,
          1.933333333333,
          1.25,
          2.25,
          1.416666666667,
          1.25,
          2.916666666667,
          0.833333333333,
          2.916666666667,
          6.25,
          0.666666666667,
          5.833333333333,
          2.5,
          1.25,
          3.75,
          3.333333333333,
          5,
          4.583333333333,
          7
         ],
         "yaxis": "y"
        },
        {
         "mode": "lines+markers",
         "name": "MATH 116",
         "type": "scatter",
         "x": [
          "2023-03-09T00:00:00",
          "2023-03-11T00:00:00",
          "2023-03-13T00:00:00",
          "2023-03-14T00:00:00",
          "2023-03-22T00:00:00",
          "2023-03-29T00:00:00",
          "2023-03-30T00:00:00",
          "2023-04-02T00:00:00",
          "2023-04-04T00:00:00",
          "2023-04-05T00:00:00",
          "2023-04-09T00:00:00",
          "2023-04-11T00:00:00",
          "2023-04-13T00:00:00",
          "2023-04-18T00:00:00",
          "2023-04-22T00:00:00",
          "2023-04-28T00:00:00",
          "2023-05-04T00:00:00",
          "2023-05-05T00:00:00",
          "2023-05-08T00:00:00",
          "2023-05-09T00:00:00",
          "2023-05-10T00:00:00",
          "2023-05-12T00:00:00",
          "2023-05-18T00:00:00",
          "2023-05-19T00:00:00",
          "2023-05-20T00:00:00",
          "2023-06-01T00:00:00",
          "2023-06-20T00:00:00",
          "2023-06-21T00:00:00",
          "2023-06-22T00:00:00"
         ],
         "xaxis": "x3",
         "y": [
          0.833333333333,
          2,
          0.416666666667,
          0.416666666667,
          4.583333333333,
          4.166666666667,
          3.333333333333,
          1.25,
          0.833333333333,
          1.25,
          3.333333333333,
          0.75,
          0.416666666667,
          1.25,
          0.833333333333,
          2.083333333333,
          1.233333333333,
          3.75,
          2.083333333333,
          1.5,
          3.333333333333,
          2.5,
          5.833333333333,
          4.166666666667,
          0.416666666667,
          0.416666666667,
          5,
          4.583333333333,
          7
         ],
         "yaxis": "y3"
        },
        {
         "mode": "lines+markers",
         "name": "MATH 154",
         "type": "scatter",
         "x": [
          "2023-03-10T00:00:00",
          "2023-03-12T00:00:00",
          "2023-03-13T00:00:00",
          "2023-03-16T00:00:00",
          "2023-03-18T00:00:00",
          "2023-03-19T00:00:00",
          "2023-03-23T00:00:00",
          "2023-03-24T00:00:00",
          "2023-03-25T00:00:00",
          "2023-03-26T00:00:00",
          "2023-03-28T00:00:00",
          "2023-03-30T00:00:00",
          "2023-04-01T00:00:00",
          "2023-04-02T00:00:00",
          "2023-04-03T00:00:00",
          "2023-04-04T00:00:00",
          "2023-04-06T00:00:00",
          "2023-04-07T00:00:00",
          "2023-04-11T00:00:00",
          "2023-04-14T00:00:00",
          "2023-04-15T00:00:00",
          "2023-04-16T00:00:00",
          "2023-04-22T00:00:00",
          "2023-04-26T00:00:00",
          "2023-04-28T00:00:00",
          "2023-04-29T00:00:00",
          "2023-04-30T00:00:00",
          "2023-05-10T00:00:00",
          "2023-05-19T00:00:00",
          "2023-05-22T00:00:00",
          "2023-05-24T00:00:00",
          "2023-05-25T00:00:00",
          "2023-05-26T00:00:00",
          "2023-05-27T00:00:00",
          "2023-05-28T00:00:00",
          "2023-05-29T00:00:00",
          "2023-05-30T00:00:00",
          "2023-05-31T00:00:00",
          "2023-06-01T00:00:00",
          "2023-06-02T00:00:00",
          "2023-06-03T00:00:00",
          "2023-06-06T00:00:00",
          "2023-06-07T00:00:00",
          "2023-06-08T00:00:00",
          "2023-06-09T00:00:00",
          "2023-06-11T00:00:00",
          "2023-06-14T00:00:00",
          "2023-06-15T00:00:00",
          "2023-06-17T00:00:00",
          "2023-06-18T00:00:00",
          "2023-06-19T00:00:00"
         ],
         "xaxis": "x2",
         "y": [
          1.433333333333,
          3.333333333333,
          0.416666666667,
          1.25,
          0.416666666667,
          3.333333333333,
          1.666666666667,
          2.083333333333,
          2,
          2.5,
          2.5,
          0.583333333333,
          1.25,
          3.333333333333,
          0.833333333333,
          0.416666666667,
          2.666666666667,
          0.833333333333,
          0.416666666667,
          3.333333333333,
          1.25,
          0.833333333333,
          1.666666666667,
          0.416666666667,
          0.833333333333,
          6.25,
          1.666666666667,
          0.833333333333,
          0.833333333333,
          0.833333333333,
          1.666666666667,
          3.333333333333,
          2.5,
          0.833333333333,
          3.333333333333,
          2.083333333333,
          2.916666666667,
          0.416666666667,
          1.666666666667,
          2,
          1.25,
          1.25,
          1.933333333333,
          2.25,
          1.416666666667,
          0.833333333333,
          5.833333333333,
          2.5,
          1.25,
          3.75,
          3.333333333333
         ],
         "yaxis": "y2"
        },
        {
         "mode": "lines+markers",
         "name": "MATH 112",
         "type": "scatter",
         "x": [
          "2023-03-08T00:00:00",
          "2023-03-11T00:00:00",
          "2023-03-13T00:00:00",
          "2023-03-15T00:00:00",
          "2023-03-17T00:00:00",
          "2023-03-24T00:00:00",
          "2023-03-25T00:00:00",
          "2023-03-31T00:00:00",
          "2023-04-02T00:00:00",
          "2023-04-03T00:00:00",
          "2023-04-05T00:00:00",
          "2023-04-08T00:00:00",
          "2023-04-09T00:00:00",
          "2023-04-12T00:00:00",
          "2023-04-15T00:00:00",
          "2023-04-16T00:00:00",
          "2023-04-17T00:00:00",
          "2023-05-20T00:00:00",
          "2023-05-21T00:00:00",
          "2023-05-22T00:00:00",
          "2023-05-24T00:00:00",
          "2023-05-29T00:00:00",
          "2023-05-30T00:00:00",
          "2023-06-03T00:00:00",
          "2023-06-07T00:00:00",
          "2023-06-09T00:00:00",
          "2023-06-10T00:00:00",
          "2023-06-11T00:00:00",
          "2023-06-12T00:00:00",
          "2023-06-13T00:00:00"
         ],
         "xaxis": "x4",
         "y": [
          1.416666666667,
          1.25,
          2.083333333333,
          0.416666666667,
          0.833333333333,
          0.833333333333,
          1.25,
          2.083333333333,
          3.333333333333,
          1.25,
          0.833333333333,
          0.833333333333,
          1.666666666667,
          2.916666666667,
          0.833333333333,
          4.166666666667,
          0.416666666667,
          0.833333333333,
          0.833333333333,
          2.5,
          0.416666666667,
          0.833333333333,
          0.833333333333,
          2.083333333333,
          1.25,
          1.25,
          2.916666666667,
          2.916666666667,
          6.25,
          0.666666666667
         ],
         "yaxis": "y4"
        }
       ],
       "layout": {
        "height": 1300,
        "template": {
         "data": {
          "bar": [
           {
            "error_x": {
             "color": "#2a3f5f"
            },
            "error_y": {
             "color": "#2a3f5f"
            },
            "marker": {
             "line": {
              "color": "#E5ECF6",
              "width": 0.5
             },
             "pattern": {
              "fillmode": "overlay",
              "size": 10,
              "solidity": 0.2
             }
            },
            "type": "bar"
           }
          ],
          "barpolar": [
           {
            "marker": {
             "line": {
              "color": "#E5ECF6",
              "width": 0.5
             },
             "pattern": {
              "fillmode": "overlay",
              "size": 10,
              "solidity": 0.2
             }
            },
            "type": "barpolar"
           }
          ],
          "carpet": [
           {
            "aaxis": {
             "endlinecolor": "#2a3f5f",
             "gridcolor": "white",
             "linecolor": "white",
             "minorgridcolor": "white",
             "startlinecolor": "#2a3f5f"
            },
            "baxis": {
             "endlinecolor": "#2a3f5f",
             "gridcolor": "white",
             "linecolor": "white",
             "minorgridcolor": "white",
             "startlinecolor": "#2a3f5f"
            },
            "type": "carpet"
           }
          ],
          "choropleth": [
           {
            "colorbar": {
             "outlinewidth": 0,
             "ticks": ""
            },
            "type": "choropleth"
           }
          ],
          "contour": [
           {
            "colorbar": {
             "outlinewidth": 0,
             "ticks": ""
            },
            "colorscale": [
             [
              0,
              "#0d0887"
             ],
             [
              0.1111111111111111,
              "#46039f"
             ],
             [
              0.2222222222222222,
              "#7201a8"
             ],
             [
              0.3333333333333333,
              "#9c179e"
             ],
             [
              0.4444444444444444,
              "#bd3786"
             ],
             [
              0.5555555555555556,
              "#d8576b"
             ],
             [
              0.6666666666666666,
              "#ed7953"
             ],
             [
              0.7777777777777778,
              "#fb9f3a"
             ],
             [
              0.8888888888888888,
              "#fdca26"
             ],
             [
              1,
              "#f0f921"
             ]
            ],
            "type": "contour"
           }
          ],
          "contourcarpet": [
           {
            "colorbar": {
             "outlinewidth": 0,
             "ticks": ""
            },
            "type": "contourcarpet"
           }
          ],
          "heatmap": [
           {
            "colorbar": {
             "outlinewidth": 0,
             "ticks": ""
            },
            "colorscale": [
             [
              0,
              "#0d0887"
             ],
             [
              0.1111111111111111,
              "#46039f"
             ],
             [
              0.2222222222222222,
              "#7201a8"
             ],
             [
              0.3333333333333333,
              "#9c179e"
             ],
             [
              0.4444444444444444,
              "#bd3786"
             ],
             [
              0.5555555555555556,
              "#d8576b"
             ],
             [
              0.6666666666666666,
              "#ed7953"
             ],
             [
              0.7777777777777778,
              "#fb9f3a"
             ],
             [
              0.8888888888888888,
              "#fdca26"
             ],
             [
              1,
              "#f0f921"
             ]
            ],
            "type": "heatmap"
           }
          ],
          "heatmapgl": [
           {
            "colorbar": {
             "outlinewidth": 0,
             "ticks": ""
            },
            "colorscale": [
             [
              0,
              "#0d0887"
             ],
             [
              0.1111111111111111,
              "#46039f"
             ],
             [
              0.2222222222222222,
              "#7201a8"
             ],
             [
              0.3333333333333333,
              "#9c179e"
             ],
             [
              0.4444444444444444,
              "#bd3786"
             ],
             [
              0.5555555555555556,
              "#d8576b"
             ],
             [
              0.6666666666666666,
              "#ed7953"
             ],
             [
              0.7777777777777778,
              "#fb9f3a"
             ],
             [
              0.8888888888888888,
              "#fdca26"
             ],
             [
              1,
              "#f0f921"
             ]
            ],
            "type": "heatmapgl"
           }
          ],
          "histogram": [
           {
            "marker": {
             "pattern": {
              "fillmode": "overlay",
              "size": 10,
              "solidity": 0.2
             }
            },
            "type": "histogram"
           }
          ],
          "histogram2d": [
           {
            "colorbar": {
             "outlinewidth": 0,
             "ticks": ""
            },
            "colorscale": [
             [
              0,
              "#0d0887"
             ],
             [
              0.1111111111111111,
              "#46039f"
             ],
             [
              0.2222222222222222,
              "#7201a8"
             ],
             [
              0.3333333333333333,
              "#9c179e"
             ],
             [
              0.4444444444444444,
              "#bd3786"
             ],
             [
              0.5555555555555556,
              "#d8576b"
             ],
             [
              0.6666666666666666,
              "#ed7953"
             ],
             [
              0.7777777777777778,
              "#fb9f3a"
             ],
             [
              0.8888888888888888,
              "#fdca26"
             ],
             [
              1,
              "#f0f921"
             ]
            ],
            "type": "histogram2d"
           }
          ],
          "histogram2dcontour": [
           {
            "colorbar": {
             "outlinewidth": 0,
             "ticks": ""
            },
            "colorscale": [
             [
              0,
              "#0d0887"
             ],
             [
              0.1111111111111111,
              "#46039f"
             ],
             [
              0.2222222222222222,
              "#7201a8"
             ],
             [
              0.3333333333333333,
              "#9c179e"
             ],
             [
              0.4444444444444444,
              "#bd3786"
             ],
             [
              0.5555555555555556,
              "#d8576b"
             ],
             [
              0.6666666666666666,
              "#ed7953"
             ],
             [
              0.7777777777777778,
              "#fb9f3a"
             ],
             [
              0.8888888888888888,
              "#fdca26"
             ],
             [
              1,
              "#f0f921"
             ]
            ],
            "type": "histogram2dcontour"
           }
          ],
          "mesh3d": [
           {
            "colorbar": {
             "outlinewidth": 0,
             "ticks": ""
            },
            "type": "mesh3d"
           }
          ],
          "parcoords": [
           {
            "line": {
             "colorbar": {
              "outlinewidth": 0,
              "ticks": ""
             }
            },
            "type": "parcoords"
           }
          ],
          "pie": [
           {
            "automargin": true,
            "type": "pie"
           }
          ],
          "scatter": [
           {
            "fillpattern": {
             "fillmode": "overlay",
             "size": 10,
             "solidity": 0.2
            },
            "type": "scatter"
           }
          ],
          "scatter3d": [
           {
            "line": {
             "colorbar": {
              "outlinewidth": 0,
              "ticks": ""
             }
            },
            "marker": {
             "colorbar": {
              "outlinewidth": 0,
              "ticks": ""
             }
            },
            "type": "scatter3d"
           }
          ],
          "scattercarpet": [
           {
            "marker": {
             "colorbar": {
              "outlinewidth": 0,
              "ticks": ""
             }
            },
            "type": "scattercarpet"
           }
          ],
          "scattergeo": [
           {
            "marker": {
             "colorbar": {
              "outlinewidth": 0,
              "ticks": ""
             }
            },
            "type": "scattergeo"
           }
          ],
          "scattergl": [
           {
            "marker": {
             "colorbar": {
              "outlinewidth": 0,
              "ticks": ""
             }
            },
            "type": "scattergl"
           }
          ],
          "scattermapbox": [
           {
            "marker": {
             "colorbar": {
              "outlinewidth": 0,
              "ticks": ""
             }
            },
            "type": "scattermapbox"
           }
          ],
          "scatterpolar": [
           {
            "marker": {
             "colorbar": {
              "outlinewidth": 0,
              "ticks": ""
             }
            },
            "type": "scatterpolar"
           }
          ],
          "scatterpolargl": [
           {
            "marker": {
             "colorbar": {
              "outlinewidth": 0,
              "ticks": ""
             }
            },
            "type": "scatterpolargl"
           }
          ],
          "scatterternary": [
           {
            "marker": {
             "colorbar": {
              "outlinewidth": 0,
              "ticks": ""
             }
            },
            "type": "scatterternary"
           }
          ],
          "surface": [
           {
            "colorbar": {
             "outlinewidth": 0,
             "ticks": ""
            },
            "colorscale": [
             [
              0,
              "#0d0887"
             ],
             [
              0.1111111111111111,
              "#46039f"
             ],
             [
              0.2222222222222222,
              "#7201a8"
             ],
             [
              0.3333333333333333,
              "#9c179e"
             ],
             [
              0.4444444444444444,
              "#bd3786"
             ],
             [
              0.5555555555555556,
              "#d8576b"
             ],
             [
              0.6666666666666666,
              "#ed7953"
             ],
             [
              0.7777777777777778,
              "#fb9f3a"
             ],
             [
              0.8888888888888888,
              "#fdca26"
             ],
             [
              1,
              "#f0f921"
             ]
            ],
            "type": "surface"
           }
          ],
          "table": [
           {
            "cells": {
             "fill": {
              "color": "#EBF0F8"
             },
             "line": {
              "color": "white"
             }
            },
            "header": {
             "fill": {
              "color": "#C8D4E3"
             },
             "line": {
              "color": "white"
             }
            },
            "type": "table"
           }
          ]
         },
         "layout": {
          "annotationdefaults": {
           "arrowcolor": "#2a3f5f",
           "arrowhead": 0,
           "arrowwidth": 1
          },
          "autotypenumbers": "strict",
          "coloraxis": {
           "colorbar": {
            "outlinewidth": 0,
            "ticks": ""
           }
          },
          "colorscale": {
           "diverging": [
            [
             0,
             "#8e0152"
            ],
            [
             0.1,
             "#c51b7d"
            ],
            [
             0.2,
             "#de77ae"
            ],
            [
             0.3,
             "#f1b6da"
            ],
            [
             0.4,
             "#fde0ef"
            ],
            [
             0.5,
             "#f7f7f7"
            ],
            [
             0.6,
             "#e6f5d0"
            ],
            [
             0.7,
             "#b8e186"
            ],
            [
             0.8,
             "#7fbc41"
            ],
            [
             0.9,
             "#4d9221"
            ],
            [
             1,
             "#276419"
            ]
           ],
           "sequential": [
            [
             0,
             "#0d0887"
            ],
            [
             0.1111111111111111,
             "#46039f"
            ],
            [
             0.2222222222222222,
             "#7201a8"
            ],
            [
             0.3333333333333333,
             "#9c179e"
            ],
            [
             0.4444444444444444,
             "#bd3786"
            ],
            [
             0.5555555555555556,
             "#d8576b"
            ],
            [
             0.6666666666666666,
             "#ed7953"
            ],
            [
             0.7777777777777778,
             "#fb9f3a"
            ],
            [
             0.8888888888888888,
             "#fdca26"
            ],
            [
             1,
             "#f0f921"
            ]
           ],
           "sequentialminus": [
            [
             0,
             "#0d0887"
            ],
            [
             0.1111111111111111,
             "#46039f"
            ],
            [
             0.2222222222222222,
             "#7201a8"
            ],
            [
             0.3333333333333333,
             "#9c179e"
            ],
            [
             0.4444444444444444,
             "#bd3786"
            ],
            [
             0.5555555555555556,
             "#d8576b"
            ],
            [
             0.6666666666666666,
             "#ed7953"
            ],
            [
             0.7777777777777778,
             "#fb9f3a"
            ],
            [
             0.8888888888888888,
             "#fdca26"
            ],
            [
             1,
             "#f0f921"
            ]
           ]
          },
          "colorway": [
           "#636efa",
           "#EF553B",
           "#00cc96",
           "#ab63fa",
           "#FFA15A",
           "#19d3f3",
           "#FF6692",
           "#B6E880",
           "#FF97FF",
           "#FECB52"
          ],
          "font": {
           "color": "#2a3f5f"
          },
          "geo": {
           "bgcolor": "white",
           "lakecolor": "white",
           "landcolor": "#E5ECF6",
           "showlakes": true,
           "showland": true,
           "subunitcolor": "white"
          },
          "hoverlabel": {
           "align": "left"
          },
          "hovermode": "closest",
          "mapbox": {
           "style": "light"
          },
          "paper_bgcolor": "white",
          "plot_bgcolor": "#E5ECF6",
          "polar": {
           "angularaxis": {
            "gridcolor": "white",
            "linecolor": "white",
            "ticks": ""
           },
           "bgcolor": "#E5ECF6",
           "radialaxis": {
            "gridcolor": "white",
            "linecolor": "white",
            "ticks": ""
           }
          },
          "scene": {
           "xaxis": {
            "backgroundcolor": "#E5ECF6",
            "gridcolor": "white",
            "gridwidth": 2,
            "linecolor": "white",
            "showbackground": true,
            "ticks": "",
            "zerolinecolor": "white"
           },
           "yaxis": {
            "backgroundcolor": "#E5ECF6",
            "gridcolor": "white",
            "gridwidth": 2,
            "linecolor": "white",
            "showbackground": true,
            "ticks": "",
            "zerolinecolor": "white"
           },
           "zaxis": {
            "backgroundcolor": "#E5ECF6",
            "gridcolor": "white",
            "gridwidth": 2,
            "linecolor": "white",
            "showbackground": true,
            "ticks": "",
            "zerolinecolor": "white"
           }
          },
          "shapedefaults": {
           "line": {
            "color": "#2a3f5f"
           }
          },
          "ternary": {
           "aaxis": {
            "gridcolor": "white",
            "linecolor": "white",
            "ticks": ""
           },
           "baxis": {
            "gridcolor": "white",
            "linecolor": "white",
            "ticks": ""
           },
           "bgcolor": "#E5ECF6",
           "caxis": {
            "gridcolor": "white",
            "linecolor": "white",
            "ticks": ""
           }
          },
          "title": {
           "x": 0.05
          },
          "xaxis": {
           "automargin": true,
           "gridcolor": "white",
           "linecolor": "white",
           "ticks": "",
           "title": {
            "standoff": 15
           },
           "zerolinecolor": "white",
           "zerolinewidth": 2
          },
          "yaxis": {
           "automargin": true,
           "gridcolor": "white",
           "linecolor": "white",
           "ticks": "",
           "title": {
            "standoff": 15
           },
           "zerolinecolor": "white",
           "zerolinewidth": 2
          }
         }
        },
        "title": {
         "text": " distribution of spent-hours for each course"
        },
        "width": 1300,
        "xaxis": {
         "anchor": "y",
         "domain": [
          0,
          0.45
         ]
        },
        "xaxis2": {
         "anchor": "y2",
         "domain": [
          0.55,
          1
         ]
        },
        "xaxis3": {
         "anchor": "y3",
         "domain": [
          0,
          0.45
         ]
        },
        "xaxis4": {
         "anchor": "y4",
         "domain": [
          0.55,
          1
         ]
        },
        "yaxis": {
         "anchor": "x",
         "domain": [
          0.575,
          1
         ]
        },
        "yaxis2": {
         "anchor": "x2",
         "domain": [
          0.575,
          1
         ]
        },
        "yaxis3": {
         "anchor": "x3",
         "domain": [
          0,
          0.425
         ]
        },
        "yaxis4": {
         "anchor": "x4",
         "domain": [
          0,
          0.425
         ]
        }
       }
      }
     },
     "metadata": {},
     "output_type": "display_data"
    }
   ],
   "source": [
    "# create subgraphs in different graphs for each course\n",
    "from plotly.subplots import make_subplots\n",
    "fig = go.Figure()\n",
    "fig = make_subplots(rows=2, cols=2)\n",
    "\n",
    "fig.append_trace(go.Scatter(x=zdf['Date'], y=zdf['spent-hours'],\n",
    "                    mode='lines+markers',\n",
    "                    name='total work time'),row=1, col=1)\n",
    "fig.append_trace(go.Scatter(x=math116['Date'], y=math116['spent-hours'],\n",
    "                    mode='lines+markers',\n",
    "                    name='MATH 116'), row=2, col=1)\n",
    "fig.append_trace(go.Scatter(x=math154['Date'], y=math154['spent-hours'],\n",
    "                    mode='lines+markers',\n",
    "                    name='MATH 154'), row=1, col=2)\n",
    "fig.append_trace(go.Scatter(x=math112['Date'], y=math112['spent-hours'],\n",
    "                    mode='lines+markers',\n",
    "                    name='MATH 112'), row=2, col=2)\n",
    "fig.update_layout(height=1300, width=1300, title_text=\" distribution of spent-hours for each course\")\n",
    "\n",
    "fig.show()"
   ]
  },
  {
   "cell_type": "code",
   "execution_count": null,
   "metadata": {},
   "outputs": [],
   "source": [
    "# calculate average spent-hours for each course\n",
    "math116['spent-hours'].mean()\n",
    "math154['spent-hours'].mean()\n",
    "math112['spent-hours'].mean()\n"
   ]
  }
 ],
 "metadata": {
  "kernelspec": {
   "display_name": "base",
   "language": "python",
   "name": "python3"
  },
  "language_info": {
   "codemirror_mode": {
    "name": "ipython",
    "version": 3
   },
   "file_extension": ".py",
   "mimetype": "text/x-python",
   "name": "python",
   "nbconvert_exporter": "python",
   "pygments_lexer": "ipython3",
   "version": "3.9.7"
  },
  "orig_nbformat": 4
 },
 "nbformat": 4,
 "nbformat_minor": 2
}
