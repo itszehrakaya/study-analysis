{
 "cells": [
  {
   "cell_type": "code",
   "execution_count": 454,
   "metadata": {},
   "outputs": [],
   "source": [
    "import pandas as pd\n",
    "import seaborn as sns\n",
    "import numpy as np\n",
    "import matplotlib.pyplot as plt\n",
    "import plotly.graph_objs as go\n",
    "from plotly.subplots import make_subplots"
   ]
  },
  {
   "cell_type": "code",
   "execution_count": 455,
   "metadata": {},
   "outputs": [],
   "source": [
    "df = pd.read_csv('/Users/zehrakaya/Documents/GitHub/study-analysis/data/STUDYLOG.csv')"
   ]
  },
  {
   "cell_type": "code",
   "execution_count": 456,
   "metadata": {},
   "outputs": [
    {
     "data": {
      "text/html": [
       "<div>\n",
       "<style scoped>\n",
       "    .dataframe tbody tr th:only-of-type {\n",
       "        vertical-align: middle;\n",
       "    }\n",
       "\n",
       "    .dataframe tbody tr th {\n",
       "        vertical-align: top;\n",
       "    }\n",
       "\n",
       "    .dataframe thead th {\n",
       "        text-align: right;\n",
       "    }\n",
       "</style>\n",
       "<table border=\"1\" class=\"dataframe\">\n",
       "  <thead>\n",
       "    <tr style=\"text-align: right;\">\n",
       "      <th></th>\n",
       "      <th>Name</th>\n",
       "      <th>Courses</th>\n",
       "      <th>Date</th>\n",
       "      <th>Created time</th>\n",
       "      <th>Person</th>\n",
       "      <th>Progress</th>\n",
       "      <th>Day</th>\n",
       "      <th>Goal</th>\n",
       "      <th>spent-minutes</th>\n",
       "      <th>what you did</th>\n",
       "      <th>spent-hours</th>\n",
       "    </tr>\n",
       "  </thead>\n",
       "  <tbody>\n",
       "    <tr>\n",
       "      <th>0</th>\n",
       "      <td>1</td>\n",
       "      <td>MATH 116</td>\n",
       "      <td>March 9, 2023</td>\n",
       "      <td>March 9, 2023 11:32 PM</td>\n",
       "      <td>Zehra</td>\n",
       "      <td>Done</td>\n",
       "      <td>NaN</td>\n",
       "      <td>NaN</td>\n",
       "      <td>50.0</td>\n",
       "      <td>NaN</td>\n",
       "      <td>0.833333</td>\n",
       "    </tr>\n",
       "    <tr>\n",
       "      <th>1</th>\n",
       "      <td>DAY 0</td>\n",
       "      <td>PHYS 112</td>\n",
       "      <td>March 8, 2023</td>\n",
       "      <td>March 9, 2023 11:52 PM</td>\n",
       "      <td>Hosna Roufaida</td>\n",
       "      <td>Done</td>\n",
       "      <td>NaN</td>\n",
       "      <td>NaN</td>\n",
       "      <td>30.0</td>\n",
       "      <td>NaN</td>\n",
       "      <td>0.500000</td>\n",
       "    </tr>\n",
       "    <tr>\n",
       "      <th>2</th>\n",
       "      <td>1</td>\n",
       "      <td>MATH 154</td>\n",
       "      <td>March 10, 2023</td>\n",
       "      <td>March 10, 2023 1:15 PM</td>\n",
       "      <td>Zehra</td>\n",
       "      <td>Done</td>\n",
       "      <td>NaN</td>\n",
       "      <td>50.0</td>\n",
       "      <td>86.0</td>\n",
       "      <td>NaN</td>\n",
       "      <td>1.433333</td>\n",
       "    </tr>\n",
       "    <tr>\n",
       "      <th>3</th>\n",
       "      <td>Day 1</td>\n",
       "      <td>PHYS 112</td>\n",
       "      <td>March 10, 2023</td>\n",
       "      <td>March 10, 2023 4:57 PM</td>\n",
       "      <td>Hosna Roufaida</td>\n",
       "      <td>Done</td>\n",
       "      <td>NaN</td>\n",
       "      <td>NaN</td>\n",
       "      <td>55.0</td>\n",
       "      <td>NaN</td>\n",
       "      <td>0.916667</td>\n",
       "    </tr>\n",
       "    <tr>\n",
       "      <th>4</th>\n",
       "      <td>2</td>\n",
       "      <td>MATH 116</td>\n",
       "      <td>March 11, 2023</td>\n",
       "      <td>March 11, 2023 4:05 PM</td>\n",
       "      <td>Zehra</td>\n",
       "      <td>Done</td>\n",
       "      <td>NaN</td>\n",
       "      <td>120.0</td>\n",
       "      <td>120.0</td>\n",
       "      <td>NaN</td>\n",
       "      <td>2.000000</td>\n",
       "    </tr>\n",
       "    <tr>\n",
       "      <th>...</th>\n",
       "      <td>...</td>\n",
       "      <td>...</td>\n",
       "      <td>...</td>\n",
       "      <td>...</td>\n",
       "      <td>...</td>\n",
       "      <td>...</td>\n",
       "      <td>...</td>\n",
       "      <td>...</td>\n",
       "      <td>...</td>\n",
       "      <td>...</td>\n",
       "      <td>...</td>\n",
       "    </tr>\n",
       "    <tr>\n",
       "      <th>144</th>\n",
       "      <td>9</td>\n",
       "      <td>ENG 102</td>\n",
       "      <td>May 13, 2023</td>\n",
       "      <td>July 13, 2023 3:51 PM</td>\n",
       "      <td>Zehra</td>\n",
       "      <td>Done</td>\n",
       "      <td>NaN</td>\n",
       "      <td>NaN</td>\n",
       "      <td>265.0</td>\n",
       "      <td>NaN</td>\n",
       "      <td>4.416667</td>\n",
       "    </tr>\n",
       "    <tr>\n",
       "      <th>145</th>\n",
       "      <td>10</td>\n",
       "      <td>ENG 102</td>\n",
       "      <td>May 26, 2023</td>\n",
       "      <td>July 13, 2023 3:51 PM</td>\n",
       "      <td>Zehra</td>\n",
       "      <td>Done</td>\n",
       "      <td>NaN</td>\n",
       "      <td>NaN</td>\n",
       "      <td>85.0</td>\n",
       "      <td>NaN</td>\n",
       "      <td>1.416667</td>\n",
       "    </tr>\n",
       "    <tr>\n",
       "      <th>146</th>\n",
       "      <td>11</td>\n",
       "      <td>ENG 102</td>\n",
       "      <td>June 3, 2023</td>\n",
       "      <td>July 13, 2023 3:53 PM</td>\n",
       "      <td>Zehra</td>\n",
       "      <td>Done</td>\n",
       "      <td>NaN</td>\n",
       "      <td>NaN</td>\n",
       "      <td>50.0</td>\n",
       "      <td>NaN</td>\n",
       "      <td>0.833333</td>\n",
       "    </tr>\n",
       "    <tr>\n",
       "      <th>147</th>\n",
       "      <td>13</td>\n",
       "      <td>ENG 102</td>\n",
       "      <td>June 6, 2023</td>\n",
       "      <td>July 13, 2023 3:55 PM</td>\n",
       "      <td>Zehra</td>\n",
       "      <td>Done</td>\n",
       "      <td>NaN</td>\n",
       "      <td>NaN</td>\n",
       "      <td>250.0</td>\n",
       "      <td>NaN</td>\n",
       "      <td>4.166667</td>\n",
       "    </tr>\n",
       "    <tr>\n",
       "      <th>148</th>\n",
       "      <td>14</td>\n",
       "      <td>ENG 102</td>\n",
       "      <td>June 10, 2023</td>\n",
       "      <td>July 13, 2023 3:56 PM</td>\n",
       "      <td>Zehra</td>\n",
       "      <td>Done</td>\n",
       "      <td>NaN</td>\n",
       "      <td>NaN</td>\n",
       "      <td>25.0</td>\n",
       "      <td>NaN</td>\n",
       "      <td>0.416667</td>\n",
       "    </tr>\n",
       "  </tbody>\n",
       "</table>\n",
       "<p>149 rows × 11 columns</p>\n",
       "</div>"
      ],
      "text/plain": [
       "      Name   Courses            Date            Created time          Person  \\\n",
       "0        1  MATH 116   March 9, 2023  March 9, 2023 11:32 PM           Zehra   \n",
       "1    DAY 0  PHYS 112   March 8, 2023  March 9, 2023 11:52 PM  Hosna Roufaida   \n",
       "2        1  MATH 154  March 10, 2023  March 10, 2023 1:15 PM           Zehra   \n",
       "3    Day 1  PHYS 112  March 10, 2023  March 10, 2023 4:57 PM  Hosna Roufaida   \n",
       "4        2  MATH 116  March 11, 2023  March 11, 2023 4:05 PM           Zehra   \n",
       "..     ...       ...             ...                     ...             ...   \n",
       "144      9   ENG 102    May 13, 2023   July 13, 2023 3:51 PM           Zehra   \n",
       "145     10   ENG 102    May 26, 2023   July 13, 2023 3:51 PM           Zehra   \n",
       "146     11   ENG 102    June 3, 2023   July 13, 2023 3:53 PM           Zehra   \n",
       "147     13   ENG 102    June 6, 2023   July 13, 2023 3:55 PM           Zehra   \n",
       "148     14   ENG 102   June 10, 2023   July 13, 2023 3:56 PM           Zehra   \n",
       "\n",
       "    Progress   Day   Goal  spent-minutes what you did  spent-hours  \n",
       "0        Done  NaN    NaN           50.0          NaN     0.833333  \n",
       "1        Done  NaN    NaN           30.0          NaN     0.500000  \n",
       "2        Done  NaN   50.0           86.0          NaN     1.433333  \n",
       "3        Done  NaN    NaN           55.0          NaN     0.916667  \n",
       "4        Done  NaN  120.0          120.0          NaN     2.000000  \n",
       "..        ...  ...    ...            ...          ...          ...  \n",
       "144      Done  NaN    NaN          265.0          NaN     4.416667  \n",
       "145      Done  NaN    NaN           85.0          NaN     1.416667  \n",
       "146      Done  NaN    NaN           50.0          NaN     0.833333  \n",
       "147      Done  NaN    NaN          250.0          NaN     4.166667  \n",
       "148      Done  NaN    NaN           25.0          NaN     0.416667  \n",
       "\n",
       "[149 rows x 11 columns]"
      ]
     },
     "execution_count": 456,
     "metadata": {},
     "output_type": "execute_result"
    }
   ],
   "source": [
    "df"
   ]
  },
  {
   "cell_type": "code",
   "execution_count": 457,
   "metadata": {},
   "outputs": [],
   "source": [
    "# get only the Person Zehra's data \n",
    "zdf = df[df['Person'] == 'Zehra']\n"
   ]
  },
  {
   "cell_type": "code",
   "execution_count": 458,
   "metadata": {},
   "outputs": [
    {
     "data": {
      "text/html": [
       "<div>\n",
       "<style scoped>\n",
       "    .dataframe tbody tr th:only-of-type {\n",
       "        vertical-align: middle;\n",
       "    }\n",
       "\n",
       "    .dataframe tbody tr th {\n",
       "        vertical-align: top;\n",
       "    }\n",
       "\n",
       "    .dataframe thead th {\n",
       "        text-align: right;\n",
       "    }\n",
       "</style>\n",
       "<table border=\"1\" class=\"dataframe\">\n",
       "  <thead>\n",
       "    <tr style=\"text-align: right;\">\n",
       "      <th></th>\n",
       "      <th>Name</th>\n",
       "      <th>Courses</th>\n",
       "      <th>Date</th>\n",
       "      <th>Created time</th>\n",
       "      <th>Person</th>\n",
       "      <th>Progress</th>\n",
       "      <th>Day</th>\n",
       "      <th>Goal</th>\n",
       "      <th>spent-minutes</th>\n",
       "      <th>what you did</th>\n",
       "      <th>spent-hours</th>\n",
       "    </tr>\n",
       "  </thead>\n",
       "  <tbody>\n",
       "    <tr>\n",
       "      <th>0</th>\n",
       "      <td>1</td>\n",
       "      <td>MATH 116</td>\n",
       "      <td>March 9, 2023</td>\n",
       "      <td>March 9, 2023 11:32 PM</td>\n",
       "      <td>Zehra</td>\n",
       "      <td>Done</td>\n",
       "      <td>NaN</td>\n",
       "      <td>NaN</td>\n",
       "      <td>50.0</td>\n",
       "      <td>NaN</td>\n",
       "      <td>0.833333</td>\n",
       "    </tr>\n",
       "    <tr>\n",
       "      <th>2</th>\n",
       "      <td>1</td>\n",
       "      <td>MATH 154</td>\n",
       "      <td>March 10, 2023</td>\n",
       "      <td>March 10, 2023 1:15 PM</td>\n",
       "      <td>Zehra</td>\n",
       "      <td>Done</td>\n",
       "      <td>NaN</td>\n",
       "      <td>50.0</td>\n",
       "      <td>86.0</td>\n",
       "      <td>NaN</td>\n",
       "      <td>1.433333</td>\n",
       "    </tr>\n",
       "    <tr>\n",
       "      <th>4</th>\n",
       "      <td>2</td>\n",
       "      <td>MATH 116</td>\n",
       "      <td>March 11, 2023</td>\n",
       "      <td>March 11, 2023 4:05 PM</td>\n",
       "      <td>Zehra</td>\n",
       "      <td>Done</td>\n",
       "      <td>NaN</td>\n",
       "      <td>120.0</td>\n",
       "      <td>120.0</td>\n",
       "      <td>NaN</td>\n",
       "      <td>2.000000</td>\n",
       "    </tr>\n",
       "    <tr>\n",
       "      <th>6</th>\n",
       "      <td>1</td>\n",
       "      <td>MATH 112</td>\n",
       "      <td>March 11, 2023</td>\n",
       "      <td>March 11, 2023 11:28 PM</td>\n",
       "      <td>Zehra</td>\n",
       "      <td>Done</td>\n",
       "      <td>NaN</td>\n",
       "      <td>NaN</td>\n",
       "      <td>75.0</td>\n",
       "      <td>NaN</td>\n",
       "      <td>1.250000</td>\n",
       "    </tr>\n",
       "    <tr>\n",
       "      <th>7</th>\n",
       "      <td>2</td>\n",
       "      <td>MATH 154</td>\n",
       "      <td>March 12, 2023</td>\n",
       "      <td>March 12, 2023 5:01 AM</td>\n",
       "      <td>Zehra</td>\n",
       "      <td>Done</td>\n",
       "      <td>NaN</td>\n",
       "      <td>NaN</td>\n",
       "      <td>200.0</td>\n",
       "      <td>NaN</td>\n",
       "      <td>3.333333</td>\n",
       "    </tr>\n",
       "    <tr>\n",
       "      <th>...</th>\n",
       "      <td>...</td>\n",
       "      <td>...</td>\n",
       "      <td>...</td>\n",
       "      <td>...</td>\n",
       "      <td>...</td>\n",
       "      <td>...</td>\n",
       "      <td>...</td>\n",
       "      <td>...</td>\n",
       "      <td>...</td>\n",
       "      <td>...</td>\n",
       "      <td>...</td>\n",
       "    </tr>\n",
       "    <tr>\n",
       "      <th>144</th>\n",
       "      <td>9</td>\n",
       "      <td>ENG 102</td>\n",
       "      <td>May 13, 2023</td>\n",
       "      <td>July 13, 2023 3:51 PM</td>\n",
       "      <td>Zehra</td>\n",
       "      <td>Done</td>\n",
       "      <td>NaN</td>\n",
       "      <td>NaN</td>\n",
       "      <td>265.0</td>\n",
       "      <td>NaN</td>\n",
       "      <td>4.416667</td>\n",
       "    </tr>\n",
       "    <tr>\n",
       "      <th>145</th>\n",
       "      <td>10</td>\n",
       "      <td>ENG 102</td>\n",
       "      <td>May 26, 2023</td>\n",
       "      <td>July 13, 2023 3:51 PM</td>\n",
       "      <td>Zehra</td>\n",
       "      <td>Done</td>\n",
       "      <td>NaN</td>\n",
       "      <td>NaN</td>\n",
       "      <td>85.0</td>\n",
       "      <td>NaN</td>\n",
       "      <td>1.416667</td>\n",
       "    </tr>\n",
       "    <tr>\n",
       "      <th>146</th>\n",
       "      <td>11</td>\n",
       "      <td>ENG 102</td>\n",
       "      <td>June 3, 2023</td>\n",
       "      <td>July 13, 2023 3:53 PM</td>\n",
       "      <td>Zehra</td>\n",
       "      <td>Done</td>\n",
       "      <td>NaN</td>\n",
       "      <td>NaN</td>\n",
       "      <td>50.0</td>\n",
       "      <td>NaN</td>\n",
       "      <td>0.833333</td>\n",
       "    </tr>\n",
       "    <tr>\n",
       "      <th>147</th>\n",
       "      <td>13</td>\n",
       "      <td>ENG 102</td>\n",
       "      <td>June 6, 2023</td>\n",
       "      <td>July 13, 2023 3:55 PM</td>\n",
       "      <td>Zehra</td>\n",
       "      <td>Done</td>\n",
       "      <td>NaN</td>\n",
       "      <td>NaN</td>\n",
       "      <td>250.0</td>\n",
       "      <td>NaN</td>\n",
       "      <td>4.166667</td>\n",
       "    </tr>\n",
       "    <tr>\n",
       "      <th>148</th>\n",
       "      <td>14</td>\n",
       "      <td>ENG 102</td>\n",
       "      <td>June 10, 2023</td>\n",
       "      <td>July 13, 2023 3:56 PM</td>\n",
       "      <td>Zehra</td>\n",
       "      <td>Done</td>\n",
       "      <td>NaN</td>\n",
       "      <td>NaN</td>\n",
       "      <td>25.0</td>\n",
       "      <td>NaN</td>\n",
       "      <td>0.416667</td>\n",
       "    </tr>\n",
       "  </tbody>\n",
       "</table>\n",
       "<p>129 rows × 11 columns</p>\n",
       "</div>"
      ],
      "text/plain": [
       "    Name   Courses            Date             Created time Person Progress   \\\n",
       "0      1  MATH 116   March 9, 2023   March 9, 2023 11:32 PM  Zehra      Done   \n",
       "2      1  MATH 154  March 10, 2023   March 10, 2023 1:15 PM  Zehra      Done   \n",
       "4      2  MATH 116  March 11, 2023   March 11, 2023 4:05 PM  Zehra      Done   \n",
       "6      1  MATH 112  March 11, 2023  March 11, 2023 11:28 PM  Zehra      Done   \n",
       "7      2  MATH 154  March 12, 2023   March 12, 2023 5:01 AM  Zehra      Done   \n",
       "..   ...       ...             ...                      ...    ...       ...   \n",
       "144    9   ENG 102    May 13, 2023    July 13, 2023 3:51 PM  Zehra      Done   \n",
       "145   10   ENG 102    May 26, 2023    July 13, 2023 3:51 PM  Zehra      Done   \n",
       "146   11   ENG 102    June 3, 2023    July 13, 2023 3:53 PM  Zehra      Done   \n",
       "147   13   ENG 102    June 6, 2023    July 13, 2023 3:55 PM  Zehra      Done   \n",
       "148   14   ENG 102   June 10, 2023    July 13, 2023 3:56 PM  Zehra      Done   \n",
       "\n",
       "     Day   Goal  spent-minutes what you did  spent-hours  \n",
       "0    NaN    NaN           50.0          NaN     0.833333  \n",
       "2    NaN   50.0           86.0          NaN     1.433333  \n",
       "4    NaN  120.0          120.0          NaN     2.000000  \n",
       "6    NaN    NaN           75.0          NaN     1.250000  \n",
       "7    NaN    NaN          200.0          NaN     3.333333  \n",
       "..   ...    ...            ...          ...          ...  \n",
       "144  NaN    NaN          265.0          NaN     4.416667  \n",
       "145  NaN    NaN           85.0          NaN     1.416667  \n",
       "146  NaN    NaN           50.0          NaN     0.833333  \n",
       "147  NaN    NaN          250.0          NaN     4.166667  \n",
       "148  NaN    NaN           25.0          NaN     0.416667  \n",
       "\n",
       "[129 rows x 11 columns]"
      ]
     },
     "execution_count": 458,
     "metadata": {},
     "output_type": "execute_result"
    }
   ],
   "source": [
    "zdf"
   ]
  },
  {
   "cell_type": "code",
   "execution_count": 459,
   "metadata": {},
   "outputs": [
    {
     "data": {
      "text/html": [
       "<div>\n",
       "<style scoped>\n",
       "    .dataframe tbody tr th:only-of-type {\n",
       "        vertical-align: middle;\n",
       "    }\n",
       "\n",
       "    .dataframe tbody tr th {\n",
       "        vertical-align: top;\n",
       "    }\n",
       "\n",
       "    .dataframe thead th {\n",
       "        text-align: right;\n",
       "    }\n",
       "</style>\n",
       "<table border=\"1\" class=\"dataframe\">\n",
       "  <thead>\n",
       "    <tr style=\"text-align: right;\">\n",
       "      <th></th>\n",
       "      <th>Name</th>\n",
       "      <th>Courses</th>\n",
       "      <th>Date</th>\n",
       "      <th>Created time</th>\n",
       "      <th>Person</th>\n",
       "      <th>Progress</th>\n",
       "      <th>Goal</th>\n",
       "      <th>spent-minutes</th>\n",
       "      <th>what you did</th>\n",
       "      <th>spent-hours</th>\n",
       "    </tr>\n",
       "  </thead>\n",
       "  <tbody>\n",
       "    <tr>\n",
       "      <th>0</th>\n",
       "      <td>1</td>\n",
       "      <td>MATH 116</td>\n",
       "      <td>March 9, 2023</td>\n",
       "      <td>March 9, 2023 11:32 PM</td>\n",
       "      <td>Zehra</td>\n",
       "      <td>Done</td>\n",
       "      <td>NaN</td>\n",
       "      <td>50.0</td>\n",
       "      <td>NaN</td>\n",
       "      <td>0.833333</td>\n",
       "    </tr>\n",
       "    <tr>\n",
       "      <th>2</th>\n",
       "      <td>1</td>\n",
       "      <td>MATH 154</td>\n",
       "      <td>March 10, 2023</td>\n",
       "      <td>March 10, 2023 1:15 PM</td>\n",
       "      <td>Zehra</td>\n",
       "      <td>Done</td>\n",
       "      <td>50.0</td>\n",
       "      <td>86.0</td>\n",
       "      <td>NaN</td>\n",
       "      <td>1.433333</td>\n",
       "    </tr>\n",
       "    <tr>\n",
       "      <th>4</th>\n",
       "      <td>2</td>\n",
       "      <td>MATH 116</td>\n",
       "      <td>March 11, 2023</td>\n",
       "      <td>March 11, 2023 4:05 PM</td>\n",
       "      <td>Zehra</td>\n",
       "      <td>Done</td>\n",
       "      <td>120.0</td>\n",
       "      <td>120.0</td>\n",
       "      <td>NaN</td>\n",
       "      <td>2.000000</td>\n",
       "    </tr>\n",
       "    <tr>\n",
       "      <th>6</th>\n",
       "      <td>1</td>\n",
       "      <td>MATH 112</td>\n",
       "      <td>March 11, 2023</td>\n",
       "      <td>March 11, 2023 11:28 PM</td>\n",
       "      <td>Zehra</td>\n",
       "      <td>Done</td>\n",
       "      <td>NaN</td>\n",
       "      <td>75.0</td>\n",
       "      <td>NaN</td>\n",
       "      <td>1.250000</td>\n",
       "    </tr>\n",
       "    <tr>\n",
       "      <th>7</th>\n",
       "      <td>2</td>\n",
       "      <td>MATH 154</td>\n",
       "      <td>March 12, 2023</td>\n",
       "      <td>March 12, 2023 5:01 AM</td>\n",
       "      <td>Zehra</td>\n",
       "      <td>Done</td>\n",
       "      <td>NaN</td>\n",
       "      <td>200.0</td>\n",
       "      <td>NaN</td>\n",
       "      <td>3.333333</td>\n",
       "    </tr>\n",
       "    <tr>\n",
       "      <th>...</th>\n",
       "      <td>...</td>\n",
       "      <td>...</td>\n",
       "      <td>...</td>\n",
       "      <td>...</td>\n",
       "      <td>...</td>\n",
       "      <td>...</td>\n",
       "      <td>...</td>\n",
       "      <td>...</td>\n",
       "      <td>...</td>\n",
       "      <td>...</td>\n",
       "    </tr>\n",
       "    <tr>\n",
       "      <th>144</th>\n",
       "      <td>9</td>\n",
       "      <td>ENG 102</td>\n",
       "      <td>May 13, 2023</td>\n",
       "      <td>July 13, 2023 3:51 PM</td>\n",
       "      <td>Zehra</td>\n",
       "      <td>Done</td>\n",
       "      <td>NaN</td>\n",
       "      <td>265.0</td>\n",
       "      <td>NaN</td>\n",
       "      <td>4.416667</td>\n",
       "    </tr>\n",
       "    <tr>\n",
       "      <th>145</th>\n",
       "      <td>10</td>\n",
       "      <td>ENG 102</td>\n",
       "      <td>May 26, 2023</td>\n",
       "      <td>July 13, 2023 3:51 PM</td>\n",
       "      <td>Zehra</td>\n",
       "      <td>Done</td>\n",
       "      <td>NaN</td>\n",
       "      <td>85.0</td>\n",
       "      <td>NaN</td>\n",
       "      <td>1.416667</td>\n",
       "    </tr>\n",
       "    <tr>\n",
       "      <th>146</th>\n",
       "      <td>11</td>\n",
       "      <td>ENG 102</td>\n",
       "      <td>June 3, 2023</td>\n",
       "      <td>July 13, 2023 3:53 PM</td>\n",
       "      <td>Zehra</td>\n",
       "      <td>Done</td>\n",
       "      <td>NaN</td>\n",
       "      <td>50.0</td>\n",
       "      <td>NaN</td>\n",
       "      <td>0.833333</td>\n",
       "    </tr>\n",
       "    <tr>\n",
       "      <th>147</th>\n",
       "      <td>13</td>\n",
       "      <td>ENG 102</td>\n",
       "      <td>June 6, 2023</td>\n",
       "      <td>July 13, 2023 3:55 PM</td>\n",
       "      <td>Zehra</td>\n",
       "      <td>Done</td>\n",
       "      <td>NaN</td>\n",
       "      <td>250.0</td>\n",
       "      <td>NaN</td>\n",
       "      <td>4.166667</td>\n",
       "    </tr>\n",
       "    <tr>\n",
       "      <th>148</th>\n",
       "      <td>14</td>\n",
       "      <td>ENG 102</td>\n",
       "      <td>June 10, 2023</td>\n",
       "      <td>July 13, 2023 3:56 PM</td>\n",
       "      <td>Zehra</td>\n",
       "      <td>Done</td>\n",
       "      <td>NaN</td>\n",
       "      <td>25.0</td>\n",
       "      <td>NaN</td>\n",
       "      <td>0.416667</td>\n",
       "    </tr>\n",
       "  </tbody>\n",
       "</table>\n",
       "<p>129 rows × 10 columns</p>\n",
       "</div>"
      ],
      "text/plain": [
       "    Name   Courses            Date             Created time Person Progress   \\\n",
       "0      1  MATH 116   March 9, 2023   March 9, 2023 11:32 PM  Zehra      Done   \n",
       "2      1  MATH 154  March 10, 2023   March 10, 2023 1:15 PM  Zehra      Done   \n",
       "4      2  MATH 116  March 11, 2023   March 11, 2023 4:05 PM  Zehra      Done   \n",
       "6      1  MATH 112  March 11, 2023  March 11, 2023 11:28 PM  Zehra      Done   \n",
       "7      2  MATH 154  March 12, 2023   March 12, 2023 5:01 AM  Zehra      Done   \n",
       "..   ...       ...             ...                      ...    ...       ...   \n",
       "144    9   ENG 102    May 13, 2023    July 13, 2023 3:51 PM  Zehra      Done   \n",
       "145   10   ENG 102    May 26, 2023    July 13, 2023 3:51 PM  Zehra      Done   \n",
       "146   11   ENG 102    June 3, 2023    July 13, 2023 3:53 PM  Zehra      Done   \n",
       "147   13   ENG 102    June 6, 2023    July 13, 2023 3:55 PM  Zehra      Done   \n",
       "148   14   ENG 102   June 10, 2023    July 13, 2023 3:56 PM  Zehra      Done   \n",
       "\n",
       "      Goal  spent-minutes what you did  spent-hours  \n",
       "0      NaN           50.0          NaN     0.833333  \n",
       "2     50.0           86.0          NaN     1.433333  \n",
       "4    120.0          120.0          NaN     2.000000  \n",
       "6      NaN           75.0          NaN     1.250000  \n",
       "7      NaN          200.0          NaN     3.333333  \n",
       "..     ...            ...          ...          ...  \n",
       "144    NaN          265.0          NaN     4.416667  \n",
       "145    NaN           85.0          NaN     1.416667  \n",
       "146    NaN           50.0          NaN     0.833333  \n",
       "147    NaN          250.0          NaN     4.166667  \n",
       "148    NaN           25.0          NaN     0.416667  \n",
       "\n",
       "[129 rows x 10 columns]"
      ]
     },
     "execution_count": 459,
     "metadata": {},
     "output_type": "execute_result"
    }
   ],
   "source": [
    "# drop Day column\n",
    "zdf = zdf.drop(['Day'], axis=1)\n",
    "zdf"
   ]
  },
  {
   "cell_type": "code",
   "execution_count": 460,
   "metadata": {},
   "outputs": [
    {
     "data": {
      "text/html": [
       "<div>\n",
       "<style scoped>\n",
       "    .dataframe tbody tr th:only-of-type {\n",
       "        vertical-align: middle;\n",
       "    }\n",
       "\n",
       "    .dataframe tbody tr th {\n",
       "        vertical-align: top;\n",
       "    }\n",
       "\n",
       "    .dataframe thead th {\n",
       "        text-align: right;\n",
       "    }\n",
       "</style>\n",
       "<table border=\"1\" class=\"dataframe\">\n",
       "  <thead>\n",
       "    <tr style=\"text-align: right;\">\n",
       "      <th></th>\n",
       "      <th>Name</th>\n",
       "      <th>Courses</th>\n",
       "      <th>Date</th>\n",
       "      <th>Created time</th>\n",
       "      <th>Person</th>\n",
       "      <th>Progress</th>\n",
       "      <th>Goal</th>\n",
       "      <th>spent-minutes</th>\n",
       "      <th>what you did</th>\n",
       "      <th>spent-hours</th>\n",
       "    </tr>\n",
       "  </thead>\n",
       "  <tbody>\n",
       "    <tr>\n",
       "      <th>0</th>\n",
       "      <td>1</td>\n",
       "      <td>MATH 116</td>\n",
       "      <td>March 9, 2023</td>\n",
       "      <td>March 9, 2023 11:32 PM</td>\n",
       "      <td>Zehra</td>\n",
       "      <td>Done</td>\n",
       "      <td>NaN</td>\n",
       "      <td>50.0</td>\n",
       "      <td>NaN</td>\n",
       "      <td>0.833333</td>\n",
       "    </tr>\n",
       "    <tr>\n",
       "      <th>2</th>\n",
       "      <td>1</td>\n",
       "      <td>MATH 154</td>\n",
       "      <td>March 10, 2023</td>\n",
       "      <td>March 10, 2023 1:15 PM</td>\n",
       "      <td>Zehra</td>\n",
       "      <td>Done</td>\n",
       "      <td>50.0</td>\n",
       "      <td>86.0</td>\n",
       "      <td>NaN</td>\n",
       "      <td>1.433333</td>\n",
       "    </tr>\n",
       "    <tr>\n",
       "      <th>4</th>\n",
       "      <td>2</td>\n",
       "      <td>MATH 116</td>\n",
       "      <td>March 11, 2023</td>\n",
       "      <td>March 11, 2023 4:05 PM</td>\n",
       "      <td>Zehra</td>\n",
       "      <td>Done</td>\n",
       "      <td>120.0</td>\n",
       "      <td>120.0</td>\n",
       "      <td>NaN</td>\n",
       "      <td>2.000000</td>\n",
       "    </tr>\n",
       "    <tr>\n",
       "      <th>6</th>\n",
       "      <td>1</td>\n",
       "      <td>MATH 112</td>\n",
       "      <td>March 11, 2023</td>\n",
       "      <td>March 11, 2023 11:28 PM</td>\n",
       "      <td>Zehra</td>\n",
       "      <td>Done</td>\n",
       "      <td>NaN</td>\n",
       "      <td>75.0</td>\n",
       "      <td>NaN</td>\n",
       "      <td>1.250000</td>\n",
       "    </tr>\n",
       "    <tr>\n",
       "      <th>7</th>\n",
       "      <td>2</td>\n",
       "      <td>MATH 154</td>\n",
       "      <td>March 12, 2023</td>\n",
       "      <td>March 12, 2023 5:01 AM</td>\n",
       "      <td>Zehra</td>\n",
       "      <td>Done</td>\n",
       "      <td>NaN</td>\n",
       "      <td>200.0</td>\n",
       "      <td>NaN</td>\n",
       "      <td>3.333333</td>\n",
       "    </tr>\n",
       "    <tr>\n",
       "      <th>...</th>\n",
       "      <td>...</td>\n",
       "      <td>...</td>\n",
       "      <td>...</td>\n",
       "      <td>...</td>\n",
       "      <td>...</td>\n",
       "      <td>...</td>\n",
       "      <td>...</td>\n",
       "      <td>...</td>\n",
       "      <td>...</td>\n",
       "      <td>...</td>\n",
       "    </tr>\n",
       "    <tr>\n",
       "      <th>144</th>\n",
       "      <td>9</td>\n",
       "      <td>ENG 102</td>\n",
       "      <td>May 13, 2023</td>\n",
       "      <td>July 13, 2023 3:51 PM</td>\n",
       "      <td>Zehra</td>\n",
       "      <td>Done</td>\n",
       "      <td>NaN</td>\n",
       "      <td>265.0</td>\n",
       "      <td>NaN</td>\n",
       "      <td>4.416667</td>\n",
       "    </tr>\n",
       "    <tr>\n",
       "      <th>145</th>\n",
       "      <td>10</td>\n",
       "      <td>ENG 102</td>\n",
       "      <td>May 26, 2023</td>\n",
       "      <td>July 13, 2023 3:51 PM</td>\n",
       "      <td>Zehra</td>\n",
       "      <td>Done</td>\n",
       "      <td>NaN</td>\n",
       "      <td>85.0</td>\n",
       "      <td>NaN</td>\n",
       "      <td>1.416667</td>\n",
       "    </tr>\n",
       "    <tr>\n",
       "      <th>146</th>\n",
       "      <td>11</td>\n",
       "      <td>ENG 102</td>\n",
       "      <td>June 3, 2023</td>\n",
       "      <td>July 13, 2023 3:53 PM</td>\n",
       "      <td>Zehra</td>\n",
       "      <td>Done</td>\n",
       "      <td>NaN</td>\n",
       "      <td>50.0</td>\n",
       "      <td>NaN</td>\n",
       "      <td>0.833333</td>\n",
       "    </tr>\n",
       "    <tr>\n",
       "      <th>147</th>\n",
       "      <td>13</td>\n",
       "      <td>ENG 102</td>\n",
       "      <td>June 6, 2023</td>\n",
       "      <td>July 13, 2023 3:55 PM</td>\n",
       "      <td>Zehra</td>\n",
       "      <td>Done</td>\n",
       "      <td>NaN</td>\n",
       "      <td>250.0</td>\n",
       "      <td>NaN</td>\n",
       "      <td>4.166667</td>\n",
       "    </tr>\n",
       "    <tr>\n",
       "      <th>148</th>\n",
       "      <td>14</td>\n",
       "      <td>ENG 102</td>\n",
       "      <td>June 10, 2023</td>\n",
       "      <td>July 13, 2023 3:56 PM</td>\n",
       "      <td>Zehra</td>\n",
       "      <td>Done</td>\n",
       "      <td>NaN</td>\n",
       "      <td>25.0</td>\n",
       "      <td>NaN</td>\n",
       "      <td>0.416667</td>\n",
       "    </tr>\n",
       "  </tbody>\n",
       "</table>\n",
       "<p>124 rows × 10 columns</p>\n",
       "</div>"
      ],
      "text/plain": [
       "    Name   Courses            Date             Created time Person Progress   \\\n",
       "0      1  MATH 116   March 9, 2023   March 9, 2023 11:32 PM  Zehra      Done   \n",
       "2      1  MATH 154  March 10, 2023   March 10, 2023 1:15 PM  Zehra      Done   \n",
       "4      2  MATH 116  March 11, 2023   March 11, 2023 4:05 PM  Zehra      Done   \n",
       "6      1  MATH 112  March 11, 2023  March 11, 2023 11:28 PM  Zehra      Done   \n",
       "7      2  MATH 154  March 12, 2023   March 12, 2023 5:01 AM  Zehra      Done   \n",
       "..   ...       ...             ...                      ...    ...       ...   \n",
       "144    9   ENG 102    May 13, 2023    July 13, 2023 3:51 PM  Zehra      Done   \n",
       "145   10   ENG 102    May 26, 2023    July 13, 2023 3:51 PM  Zehra      Done   \n",
       "146   11   ENG 102    June 3, 2023    July 13, 2023 3:53 PM  Zehra      Done   \n",
       "147   13   ENG 102    June 6, 2023    July 13, 2023 3:55 PM  Zehra      Done   \n",
       "148   14   ENG 102   June 10, 2023    July 13, 2023 3:56 PM  Zehra      Done   \n",
       "\n",
       "      Goal  spent-minutes what you did  spent-hours  \n",
       "0      NaN           50.0          NaN     0.833333  \n",
       "2     50.0           86.0          NaN     1.433333  \n",
       "4    120.0          120.0          NaN     2.000000  \n",
       "6      NaN           75.0          NaN     1.250000  \n",
       "7      NaN          200.0          NaN     3.333333  \n",
       "..     ...            ...          ...          ...  \n",
       "144    NaN          265.0          NaN     4.416667  \n",
       "145    NaN           85.0          NaN     1.416667  \n",
       "146    NaN           50.0          NaN     0.833333  \n",
       "147    NaN          250.0          NaN     4.166667  \n",
       "148    NaN           25.0          NaN     0.416667  \n",
       "\n",
       "[124 rows x 10 columns]"
      ]
     },
     "execution_count": 460,
     "metadata": {},
     "output_type": "execute_result"
    }
   ],
   "source": [
    "# if spent-hour is zero then drop it \n",
    "zdf = zdf[zdf['spent-hours'] != 0]\n",
    "zdf\n"
   ]
  },
  {
   "cell_type": "code",
   "execution_count": 461,
   "metadata": {},
   "outputs": [
    {
     "name": "stderr",
     "output_type": "stream",
     "text": [
      "/var/folders/dm/vlb3lrsn2kgg0bxkkw0vb53c0000gn/T/ipykernel_1966/2475995178.py:2: SettingWithCopyWarning:\n",
      "\n",
      "\n",
      "A value is trying to be set on a copy of a slice from a DataFrame.\n",
      "Try using .loc[row_indexer,col_indexer] = value instead\n",
      "\n",
      "See the caveats in the documentation: https://pandas.pydata.org/pandas-docs/stable/user_guide/indexing.html#returning-a-view-versus-a-copy\n",
      "\n"
     ]
    }
   ],
   "source": [
    "# dates to datetime\n",
    "zdf['Date'] = pd.to_datetime(zdf['Date'])\n",
    "\n"
   ]
  },
  {
   "cell_type": "code",
   "execution_count": 462,
   "metadata": {},
   "outputs": [
    {
     "data": {
      "text/plain": [
       "Index(['Name', 'Courses', 'Date', 'Created time', 'Person', 'Progress ',\n",
       "       'Goal', 'spent-minutes', 'what you did', 'spent-hours'],\n",
       "      dtype='object')"
      ]
     },
     "execution_count": 462,
     "metadata": {},
     "output_type": "execute_result"
    }
   ],
   "source": [
    "zdf.columns"
   ]
  },
  {
   "cell_type": "code",
   "execution_count": 463,
   "metadata": {},
   "outputs": [
    {
     "data": {
      "text/html": [
       "<div>\n",
       "<style scoped>\n",
       "    .dataframe tbody tr th:only-of-type {\n",
       "        vertical-align: middle;\n",
       "    }\n",
       "\n",
       "    .dataframe tbody tr th {\n",
       "        vertical-align: top;\n",
       "    }\n",
       "\n",
       "    .dataframe thead th {\n",
       "        text-align: right;\n",
       "    }\n",
       "</style>\n",
       "<table border=\"1\" class=\"dataframe\">\n",
       "  <thead>\n",
       "    <tr style=\"text-align: right;\">\n",
       "      <th></th>\n",
       "      <th>Name</th>\n",
       "      <th>Courses</th>\n",
       "      <th>Date</th>\n",
       "      <th>spent-minutes</th>\n",
       "      <th>what you did</th>\n",
       "      <th>spent-hours</th>\n",
       "    </tr>\n",
       "  </thead>\n",
       "  <tbody>\n",
       "    <tr>\n",
       "      <th>0</th>\n",
       "      <td>1</td>\n",
       "      <td>MATH 116</td>\n",
       "      <td>2023-03-09</td>\n",
       "      <td>50.0</td>\n",
       "      <td>NaN</td>\n",
       "      <td>0.833333</td>\n",
       "    </tr>\n",
       "    <tr>\n",
       "      <th>2</th>\n",
       "      <td>1</td>\n",
       "      <td>MATH 154</td>\n",
       "      <td>2023-03-10</td>\n",
       "      <td>86.0</td>\n",
       "      <td>NaN</td>\n",
       "      <td>1.433333</td>\n",
       "    </tr>\n",
       "    <tr>\n",
       "      <th>4</th>\n",
       "      <td>2</td>\n",
       "      <td>MATH 116</td>\n",
       "      <td>2023-03-11</td>\n",
       "      <td>120.0</td>\n",
       "      <td>NaN</td>\n",
       "      <td>2.000000</td>\n",
       "    </tr>\n",
       "    <tr>\n",
       "      <th>6</th>\n",
       "      <td>1</td>\n",
       "      <td>MATH 112</td>\n",
       "      <td>2023-03-11</td>\n",
       "      <td>75.0</td>\n",
       "      <td>NaN</td>\n",
       "      <td>1.250000</td>\n",
       "    </tr>\n",
       "    <tr>\n",
       "      <th>7</th>\n",
       "      <td>2</td>\n",
       "      <td>MATH 154</td>\n",
       "      <td>2023-03-12</td>\n",
       "      <td>200.0</td>\n",
       "      <td>NaN</td>\n",
       "      <td>3.333333</td>\n",
       "    </tr>\n",
       "    <tr>\n",
       "      <th>...</th>\n",
       "      <td>...</td>\n",
       "      <td>...</td>\n",
       "      <td>...</td>\n",
       "      <td>...</td>\n",
       "      <td>...</td>\n",
       "      <td>...</td>\n",
       "    </tr>\n",
       "    <tr>\n",
       "      <th>144</th>\n",
       "      <td>9</td>\n",
       "      <td>ENG 102</td>\n",
       "      <td>2023-05-13</td>\n",
       "      <td>265.0</td>\n",
       "      <td>NaN</td>\n",
       "      <td>4.416667</td>\n",
       "    </tr>\n",
       "    <tr>\n",
       "      <th>145</th>\n",
       "      <td>10</td>\n",
       "      <td>ENG 102</td>\n",
       "      <td>2023-05-26</td>\n",
       "      <td>85.0</td>\n",
       "      <td>NaN</td>\n",
       "      <td>1.416667</td>\n",
       "    </tr>\n",
       "    <tr>\n",
       "      <th>146</th>\n",
       "      <td>11</td>\n",
       "      <td>ENG 102</td>\n",
       "      <td>2023-06-03</td>\n",
       "      <td>50.0</td>\n",
       "      <td>NaN</td>\n",
       "      <td>0.833333</td>\n",
       "    </tr>\n",
       "    <tr>\n",
       "      <th>147</th>\n",
       "      <td>13</td>\n",
       "      <td>ENG 102</td>\n",
       "      <td>2023-06-06</td>\n",
       "      <td>250.0</td>\n",
       "      <td>NaN</td>\n",
       "      <td>4.166667</td>\n",
       "    </tr>\n",
       "    <tr>\n",
       "      <th>148</th>\n",
       "      <td>14</td>\n",
       "      <td>ENG 102</td>\n",
       "      <td>2023-06-10</td>\n",
       "      <td>25.0</td>\n",
       "      <td>NaN</td>\n",
       "      <td>0.416667</td>\n",
       "    </tr>\n",
       "  </tbody>\n",
       "</table>\n",
       "<p>124 rows × 6 columns</p>\n",
       "</div>"
      ],
      "text/plain": [
       "    Name   Courses       Date  spent-minutes what you did  spent-hours\n",
       "0      1  MATH 116 2023-03-09           50.0          NaN     0.833333\n",
       "2      1  MATH 154 2023-03-10           86.0          NaN     1.433333\n",
       "4      2  MATH 116 2023-03-11          120.0          NaN     2.000000\n",
       "6      1  MATH 112 2023-03-11           75.0          NaN     1.250000\n",
       "7      2  MATH 154 2023-03-12          200.0          NaN     3.333333\n",
       "..   ...       ...        ...            ...          ...          ...\n",
       "144    9   ENG 102 2023-05-13          265.0          NaN     4.416667\n",
       "145   10   ENG 102 2023-05-26           85.0          NaN     1.416667\n",
       "146   11   ENG 102 2023-06-03           50.0          NaN     0.833333\n",
       "147   13   ENG 102 2023-06-06          250.0          NaN     4.166667\n",
       "148   14   ENG 102 2023-06-10           25.0          NaN     0.416667\n",
       "\n",
       "[124 rows x 6 columns]"
      ]
     },
     "execution_count": 463,
     "metadata": {},
     "output_type": "execute_result"
    }
   ],
   "source": [
    "# drop Created time, Goal, Person,Progress columns \n",
    "zdf = zdf.drop(['Created time', 'Goal', 'Person', 'Progress '], axis=1)\n",
    "zdf\n"
   ]
  },
  {
   "cell_type": "code",
   "execution_count": 464,
   "metadata": {},
   "outputs": [
    {
     "data": {
      "application/vnd.plotly.v1+json": {
       "config": {
        "plotlyServerURL": "https://plot.ly"
       },
       "data": [
        {
         "mode": "lines+markers",
         "name": "lines+markers",
         "type": "scatter",
         "x": [
          "2023-03-09T00:00:00",
          "2023-03-10T00:00:00",
          "2023-03-11T00:00:00",
          "2023-03-11T00:00:00",
          "2023-03-12T00:00:00",
          "2023-03-13T00:00:00",
          "2023-03-13T00:00:00",
          "2023-03-13T00:00:00",
          "2023-03-14T00:00:00",
          "2023-03-15T00:00:00",
          "2023-03-16T00:00:00",
          "2023-03-22T00:00:00",
          "2023-03-18T00:00:00",
          "2023-03-19T00:00:00",
          "2023-03-23T00:00:00",
          "2023-03-17T00:00:00",
          "2023-03-24T00:00:00",
          "2023-03-24T00:00:00",
          "2023-03-25T00:00:00",
          "2023-03-25T00:00:00",
          "2023-03-26T00:00:00",
          "2023-03-28T00:00:00",
          "2023-03-29T00:00:00",
          "2023-03-30T00:00:00",
          "2023-03-30T00:00:00",
          "2023-04-01T00:00:00",
          "2023-03-31T00:00:00",
          "2023-04-02T00:00:00",
          "2023-04-02T00:00:00",
          "2023-04-03T00:00:00",
          "2023-04-04T00:00:00",
          "2023-04-04T00:00:00",
          "2023-04-02T00:00:00",
          "2023-04-03T00:00:00",
          "2023-03-08T00:00:00",
          "2023-04-05T00:00:00",
          "2023-04-05T00:00:00",
          "2023-04-06T00:00:00",
          "2023-04-07T00:00:00",
          "2023-04-08T00:00:00",
          "2023-04-09T00:00:00",
          "2023-04-09T00:00:00",
          "2023-04-09T00:00:00",
          "2023-04-12T00:00:00",
          "2023-04-15T00:00:00",
          "2023-04-16T00:00:00",
          "2023-04-11T00:00:00",
          "2023-04-14T00:00:00",
          "2023-04-15T00:00:00",
          "2023-04-11T00:00:00",
          "2023-04-13T00:00:00",
          "2023-04-16T00:00:00",
          "2023-04-17T00:00:00",
          "2023-04-18T00:00:00",
          "2023-04-22T00:00:00",
          "2023-04-22T00:00:00",
          "2023-04-26T00:00:00",
          "2023-04-27T00:00:00",
          "2023-04-28T00:00:00",
          "2023-04-28T00:00:00",
          "2023-04-29T00:00:00",
          "2023-04-30T00:00:00",
          "2023-05-04T00:00:00",
          "2023-05-05T00:00:00",
          "2023-05-08T00:00:00",
          "2023-05-09T00:00:00",
          "2023-05-10T00:00:00",
          "2023-05-10T00:00:00",
          "2023-05-12T00:00:00",
          "2023-05-18T00:00:00",
          "2023-05-19T00:00:00",
          "2023-05-19T00:00:00",
          "2023-05-20T00:00:00",
          "2023-05-20T00:00:00",
          "2023-05-21T00:00:00",
          "2023-05-22T00:00:00",
          "2023-05-22T00:00:00",
          "2023-05-24T00:00:00",
          "2023-05-25T00:00:00",
          "2023-05-26T00:00:00",
          "2023-05-27T00:00:00",
          "2023-05-28T00:00:00",
          "2023-05-29T00:00:00",
          "2023-05-24T00:00:00",
          "2023-05-29T00:00:00",
          "2023-05-30T00:00:00",
          "2023-05-30T00:00:00",
          "2023-05-31T00:00:00",
          "2023-06-01T00:00:00",
          "2023-06-01T00:00:00",
          "2023-06-02T00:00:00",
          "2023-06-03T00:00:00",
          "2023-06-03T00:00:00",
          "2023-06-04T00:00:00",
          "2023-06-06T00:00:00",
          "2023-06-07T00:00:00",
          "2023-06-07T00:00:00",
          "2023-06-08T00:00:00",
          "2023-06-09T00:00:00",
          "2023-06-09T00:00:00",
          "2023-06-10T00:00:00",
          "2023-06-11T00:00:00",
          "2023-06-11T00:00:00",
          "2023-06-12T00:00:00",
          "2023-06-13T00:00:00",
          "2023-06-14T00:00:00",
          "2023-06-15T00:00:00",
          "2023-06-17T00:00:00",
          "2023-06-18T00:00:00",
          "2023-06-19T00:00:00",
          "2023-06-20T00:00:00",
          "2023-06-21T00:00:00",
          "2023-06-22T00:00:00",
          "2023-03-21T00:00:00",
          "2023-03-31T00:00:00",
          "2023-04-07T00:00:00",
          "2023-04-11T00:00:00",
          "2023-04-28T00:00:00",
          "2023-05-12T00:00:00",
          "2023-05-13T00:00:00",
          "2023-05-26T00:00:00",
          "2023-06-03T00:00:00",
          "2023-06-06T00:00:00",
          "2023-06-10T00:00:00"
         ],
         "y": [
          0.833333333333,
          1.433333333333,
          2,
          1.25,
          3.333333333333,
          0.416666666667,
          0.416666666667,
          2.083333333333,
          0.416666666667,
          0.416666666667,
          1.25,
          4.583333333333,
          0.416666666667,
          3.333333333333,
          1.666666666667,
          0.833333333333,
          2.083333333333,
          0.833333333333,
          1.25,
          2,
          2.5,
          2.5,
          4.166666666667,
          3.333333333333,
          0.583333333333,
          1.25,
          2.083333333333,
          3.333333333333,
          1.25,
          0.833333333333,
          0.416666666667,
          0.833333333333,
          3.333333333333,
          1.25,
          1.416666666667,
          0.833333333333,
          1.25,
          2.666666666667,
          0.833333333333,
          0.833333333333,
          1.666666666667,
          3.333333333333,
          1.666666666667,
          2.916666666667,
          0.833333333333,
          4.166666666667,
          0.416666666667,
          3.333333333333,
          1.25,
          0.75,
          0.416666666667,
          0.833333333333,
          0.416666666667,
          1.25,
          0.833333333333,
          1.666666666667,
          0.416666666667,
          1.25,
          0.833333333333,
          2.083333333333,
          6.25,
          1.666666666667,
          1.233333333333,
          3.75,
          2.083333333333,
          1.5,
          3.333333333333,
          0.833333333333,
          2.5,
          5.833333333333,
          4.166666666667,
          0.833333333333,
          0.416666666667,
          0.833333333333,
          0.833333333333,
          2.5,
          0.833333333333,
          1.666666666667,
          3.333333333333,
          2.5,
          0.833333333333,
          3.333333333333,
          2.083333333333,
          0.416666666667,
          0.833333333333,
          0.833333333333,
          2.916666666667,
          0.416666666667,
          0.416666666667,
          1.666666666667,
          2,
          1.25,
          2.083333333333,
          3.75,
          1.25,
          1.933333333333,
          1.25,
          2.25,
          1.416666666667,
          1.25,
          2.916666666667,
          2.916666666667,
          0.833333333333,
          6.25,
          0.666666666667,
          5.833333333333,
          2.5,
          1.25,
          3.75,
          3.333333333333,
          5,
          4.583333333333,
          7,
          0.416666666667,
          0.833333333333,
          0.416666666667,
          1.25,
          0.416666666667,
          1.25,
          4.416666666667,
          1.416666666667,
          0.833333333333,
          4.166666666667,
          0.416666666667
         ]
        }
       ],
       "layout": {
        "template": {
         "data": {
          "bar": [
           {
            "error_x": {
             "color": "#2a3f5f"
            },
            "error_y": {
             "color": "#2a3f5f"
            },
            "marker": {
             "line": {
              "color": "#E5ECF6",
              "width": 0.5
             },
             "pattern": {
              "fillmode": "overlay",
              "size": 10,
              "solidity": 0.2
             }
            },
            "type": "bar"
           }
          ],
          "barpolar": [
           {
            "marker": {
             "line": {
              "color": "#E5ECF6",
              "width": 0.5
             },
             "pattern": {
              "fillmode": "overlay",
              "size": 10,
              "solidity": 0.2
             }
            },
            "type": "barpolar"
           }
          ],
          "carpet": [
           {
            "aaxis": {
             "endlinecolor": "#2a3f5f",
             "gridcolor": "white",
             "linecolor": "white",
             "minorgridcolor": "white",
             "startlinecolor": "#2a3f5f"
            },
            "baxis": {
             "endlinecolor": "#2a3f5f",
             "gridcolor": "white",
             "linecolor": "white",
             "minorgridcolor": "white",
             "startlinecolor": "#2a3f5f"
            },
            "type": "carpet"
           }
          ],
          "choropleth": [
           {
            "colorbar": {
             "outlinewidth": 0,
             "ticks": ""
            },
            "type": "choropleth"
           }
          ],
          "contour": [
           {
            "colorbar": {
             "outlinewidth": 0,
             "ticks": ""
            },
            "colorscale": [
             [
              0,
              "#0d0887"
             ],
             [
              0.1111111111111111,
              "#46039f"
             ],
             [
              0.2222222222222222,
              "#7201a8"
             ],
             [
              0.3333333333333333,
              "#9c179e"
             ],
             [
              0.4444444444444444,
              "#bd3786"
             ],
             [
              0.5555555555555556,
              "#d8576b"
             ],
             [
              0.6666666666666666,
              "#ed7953"
             ],
             [
              0.7777777777777778,
              "#fb9f3a"
             ],
             [
              0.8888888888888888,
              "#fdca26"
             ],
             [
              1,
              "#f0f921"
             ]
            ],
            "type": "contour"
           }
          ],
          "contourcarpet": [
           {
            "colorbar": {
             "outlinewidth": 0,
             "ticks": ""
            },
            "type": "contourcarpet"
           }
          ],
          "heatmap": [
           {
            "colorbar": {
             "outlinewidth": 0,
             "ticks": ""
            },
            "colorscale": [
             [
              0,
              "#0d0887"
             ],
             [
              0.1111111111111111,
              "#46039f"
             ],
             [
              0.2222222222222222,
              "#7201a8"
             ],
             [
              0.3333333333333333,
              "#9c179e"
             ],
             [
              0.4444444444444444,
              "#bd3786"
             ],
             [
              0.5555555555555556,
              "#d8576b"
             ],
             [
              0.6666666666666666,
              "#ed7953"
             ],
             [
              0.7777777777777778,
              "#fb9f3a"
             ],
             [
              0.8888888888888888,
              "#fdca26"
             ],
             [
              1,
              "#f0f921"
             ]
            ],
            "type": "heatmap"
           }
          ],
          "heatmapgl": [
           {
            "colorbar": {
             "outlinewidth": 0,
             "ticks": ""
            },
            "colorscale": [
             [
              0,
              "#0d0887"
             ],
             [
              0.1111111111111111,
              "#46039f"
             ],
             [
              0.2222222222222222,
              "#7201a8"
             ],
             [
              0.3333333333333333,
              "#9c179e"
             ],
             [
              0.4444444444444444,
              "#bd3786"
             ],
             [
              0.5555555555555556,
              "#d8576b"
             ],
             [
              0.6666666666666666,
              "#ed7953"
             ],
             [
              0.7777777777777778,
              "#fb9f3a"
             ],
             [
              0.8888888888888888,
              "#fdca26"
             ],
             [
              1,
              "#f0f921"
             ]
            ],
            "type": "heatmapgl"
           }
          ],
          "histogram": [
           {
            "marker": {
             "pattern": {
              "fillmode": "overlay",
              "size": 10,
              "solidity": 0.2
             }
            },
            "type": "histogram"
           }
          ],
          "histogram2d": [
           {
            "colorbar": {
             "outlinewidth": 0,
             "ticks": ""
            },
            "colorscale": [
             [
              0,
              "#0d0887"
             ],
             [
              0.1111111111111111,
              "#46039f"
             ],
             [
              0.2222222222222222,
              "#7201a8"
             ],
             [
              0.3333333333333333,
              "#9c179e"
             ],
             [
              0.4444444444444444,
              "#bd3786"
             ],
             [
              0.5555555555555556,
              "#d8576b"
             ],
             [
              0.6666666666666666,
              "#ed7953"
             ],
             [
              0.7777777777777778,
              "#fb9f3a"
             ],
             [
              0.8888888888888888,
              "#fdca26"
             ],
             [
              1,
              "#f0f921"
             ]
            ],
            "type": "histogram2d"
           }
          ],
          "histogram2dcontour": [
           {
            "colorbar": {
             "outlinewidth": 0,
             "ticks": ""
            },
            "colorscale": [
             [
              0,
              "#0d0887"
             ],
             [
              0.1111111111111111,
              "#46039f"
             ],
             [
              0.2222222222222222,
              "#7201a8"
             ],
             [
              0.3333333333333333,
              "#9c179e"
             ],
             [
              0.4444444444444444,
              "#bd3786"
             ],
             [
              0.5555555555555556,
              "#d8576b"
             ],
             [
              0.6666666666666666,
              "#ed7953"
             ],
             [
              0.7777777777777778,
              "#fb9f3a"
             ],
             [
              0.8888888888888888,
              "#fdca26"
             ],
             [
              1,
              "#f0f921"
             ]
            ],
            "type": "histogram2dcontour"
           }
          ],
          "mesh3d": [
           {
            "colorbar": {
             "outlinewidth": 0,
             "ticks": ""
            },
            "type": "mesh3d"
           }
          ],
          "parcoords": [
           {
            "line": {
             "colorbar": {
              "outlinewidth": 0,
              "ticks": ""
             }
            },
            "type": "parcoords"
           }
          ],
          "pie": [
           {
            "automargin": true,
            "type": "pie"
           }
          ],
          "scatter": [
           {
            "fillpattern": {
             "fillmode": "overlay",
             "size": 10,
             "solidity": 0.2
            },
            "type": "scatter"
           }
          ],
          "scatter3d": [
           {
            "line": {
             "colorbar": {
              "outlinewidth": 0,
              "ticks": ""
             }
            },
            "marker": {
             "colorbar": {
              "outlinewidth": 0,
              "ticks": ""
             }
            },
            "type": "scatter3d"
           }
          ],
          "scattercarpet": [
           {
            "marker": {
             "colorbar": {
              "outlinewidth": 0,
              "ticks": ""
             }
            },
            "type": "scattercarpet"
           }
          ],
          "scattergeo": [
           {
            "marker": {
             "colorbar": {
              "outlinewidth": 0,
              "ticks": ""
             }
            },
            "type": "scattergeo"
           }
          ],
          "scattergl": [
           {
            "marker": {
             "colorbar": {
              "outlinewidth": 0,
              "ticks": ""
             }
            },
            "type": "scattergl"
           }
          ],
          "scattermapbox": [
           {
            "marker": {
             "colorbar": {
              "outlinewidth": 0,
              "ticks": ""
             }
            },
            "type": "scattermapbox"
           }
          ],
          "scatterpolar": [
           {
            "marker": {
             "colorbar": {
              "outlinewidth": 0,
              "ticks": ""
             }
            },
            "type": "scatterpolar"
           }
          ],
          "scatterpolargl": [
           {
            "marker": {
             "colorbar": {
              "outlinewidth": 0,
              "ticks": ""
             }
            },
            "type": "scatterpolargl"
           }
          ],
          "scatterternary": [
           {
            "marker": {
             "colorbar": {
              "outlinewidth": 0,
              "ticks": ""
             }
            },
            "type": "scatterternary"
           }
          ],
          "surface": [
           {
            "colorbar": {
             "outlinewidth": 0,
             "ticks": ""
            },
            "colorscale": [
             [
              0,
              "#0d0887"
             ],
             [
              0.1111111111111111,
              "#46039f"
             ],
             [
              0.2222222222222222,
              "#7201a8"
             ],
             [
              0.3333333333333333,
              "#9c179e"
             ],
             [
              0.4444444444444444,
              "#bd3786"
             ],
             [
              0.5555555555555556,
              "#d8576b"
             ],
             [
              0.6666666666666666,
              "#ed7953"
             ],
             [
              0.7777777777777778,
              "#fb9f3a"
             ],
             [
              0.8888888888888888,
              "#fdca26"
             ],
             [
              1,
              "#f0f921"
             ]
            ],
            "type": "surface"
           }
          ],
          "table": [
           {
            "cells": {
             "fill": {
              "color": "#EBF0F8"
             },
             "line": {
              "color": "white"
             }
            },
            "header": {
             "fill": {
              "color": "#C8D4E3"
             },
             "line": {
              "color": "white"
             }
            },
            "type": "table"
           }
          ]
         },
         "layout": {
          "annotationdefaults": {
           "arrowcolor": "#2a3f5f",
           "arrowhead": 0,
           "arrowwidth": 1
          },
          "autotypenumbers": "strict",
          "coloraxis": {
           "colorbar": {
            "outlinewidth": 0,
            "ticks": ""
           }
          },
          "colorscale": {
           "diverging": [
            [
             0,
             "#8e0152"
            ],
            [
             0.1,
             "#c51b7d"
            ],
            [
             0.2,
             "#de77ae"
            ],
            [
             0.3,
             "#f1b6da"
            ],
            [
             0.4,
             "#fde0ef"
            ],
            [
             0.5,
             "#f7f7f7"
            ],
            [
             0.6,
             "#e6f5d0"
            ],
            [
             0.7,
             "#b8e186"
            ],
            [
             0.8,
             "#7fbc41"
            ],
            [
             0.9,
             "#4d9221"
            ],
            [
             1,
             "#276419"
            ]
           ],
           "sequential": [
            [
             0,
             "#0d0887"
            ],
            [
             0.1111111111111111,
             "#46039f"
            ],
            [
             0.2222222222222222,
             "#7201a8"
            ],
            [
             0.3333333333333333,
             "#9c179e"
            ],
            [
             0.4444444444444444,
             "#bd3786"
            ],
            [
             0.5555555555555556,
             "#d8576b"
            ],
            [
             0.6666666666666666,
             "#ed7953"
            ],
            [
             0.7777777777777778,
             "#fb9f3a"
            ],
            [
             0.8888888888888888,
             "#fdca26"
            ],
            [
             1,
             "#f0f921"
            ]
           ],
           "sequentialminus": [
            [
             0,
             "#0d0887"
            ],
            [
             0.1111111111111111,
             "#46039f"
            ],
            [
             0.2222222222222222,
             "#7201a8"
            ],
            [
             0.3333333333333333,
             "#9c179e"
            ],
            [
             0.4444444444444444,
             "#bd3786"
            ],
            [
             0.5555555555555556,
             "#d8576b"
            ],
            [
             0.6666666666666666,
             "#ed7953"
            ],
            [
             0.7777777777777778,
             "#fb9f3a"
            ],
            [
             0.8888888888888888,
             "#fdca26"
            ],
            [
             1,
             "#f0f921"
            ]
           ]
          },
          "colorway": [
           "#636efa",
           "#EF553B",
           "#00cc96",
           "#ab63fa",
           "#FFA15A",
           "#19d3f3",
           "#FF6692",
           "#B6E880",
           "#FF97FF",
           "#FECB52"
          ],
          "font": {
           "color": "#2a3f5f"
          },
          "geo": {
           "bgcolor": "white",
           "lakecolor": "white",
           "landcolor": "#E5ECF6",
           "showlakes": true,
           "showland": true,
           "subunitcolor": "white"
          },
          "hoverlabel": {
           "align": "left"
          },
          "hovermode": "closest",
          "mapbox": {
           "style": "light"
          },
          "paper_bgcolor": "white",
          "plot_bgcolor": "#E5ECF6",
          "polar": {
           "angularaxis": {
            "gridcolor": "white",
            "linecolor": "white",
            "ticks": ""
           },
           "bgcolor": "#E5ECF6",
           "radialaxis": {
            "gridcolor": "white",
            "linecolor": "white",
            "ticks": ""
           }
          },
          "scene": {
           "xaxis": {
            "backgroundcolor": "#E5ECF6",
            "gridcolor": "white",
            "gridwidth": 2,
            "linecolor": "white",
            "showbackground": true,
            "ticks": "",
            "zerolinecolor": "white"
           },
           "yaxis": {
            "backgroundcolor": "#E5ECF6",
            "gridcolor": "white",
            "gridwidth": 2,
            "linecolor": "white",
            "showbackground": true,
            "ticks": "",
            "zerolinecolor": "white"
           },
           "zaxis": {
            "backgroundcolor": "#E5ECF6",
            "gridcolor": "white",
            "gridwidth": 2,
            "linecolor": "white",
            "showbackground": true,
            "ticks": "",
            "zerolinecolor": "white"
           }
          },
          "shapedefaults": {
           "line": {
            "color": "#2a3f5f"
           }
          },
          "ternary": {
           "aaxis": {
            "gridcolor": "white",
            "linecolor": "white",
            "ticks": ""
           },
           "baxis": {
            "gridcolor": "white",
            "linecolor": "white",
            "ticks": ""
           },
           "bgcolor": "#E5ECF6",
           "caxis": {
            "gridcolor": "white",
            "linecolor": "white",
            "ticks": ""
           }
          },
          "title": {
           "x": 0.05
          },
          "xaxis": {
           "automargin": true,
           "gridcolor": "white",
           "linecolor": "white",
           "ticks": "",
           "title": {
            "standoff": 15
           },
           "zerolinecolor": "white",
           "zerolinewidth": 2
          },
          "yaxis": {
           "automargin": true,
           "gridcolor": "white",
           "linecolor": "white",
           "ticks": "",
           "title": {
            "standoff": 15
           },
           "zerolinecolor": "white",
           "zerolinewidth": 2
          }
         }
        }
       }
      }
     },
     "metadata": {},
     "output_type": "display_data"
    }
   ],
   "source": [
    "# create graph for spent-hours and date ascending\n",
    "fig = go.Figure()\n",
    "fig.add_trace(go.Scatter(x=zdf['Date'], y=zdf['spent-hours'],\n",
    "                    mode='lines+markers',\n",
    "                    name='lines+markers'))\n",
    "fig.show()\n"
   ]
  },
  {
   "cell_type": "code",
   "execution_count": 465,
   "metadata": {},
   "outputs": [],
   "source": [
    "# create graph for spent-hours and date for only MATH 116\t\n",
    "math116 = zdf[zdf['Courses'] == 'MATH 116']\n",
    "math154= zdf[zdf['Courses'] == 'MATH 154']\n",
    "math112= zdf[zdf['Courses'] == 'MATH 112']\n",
    "eng102= zdf[zdf['Courses'] == 'ENG 102']\n",
    "\n"
   ]
  },
  {
   "cell_type": "code",
   "execution_count": 466,
   "metadata": {},
   "outputs": [],
   "source": [
    "# sort dates \n",
    "math116 = math116.sort_values(by=['Date'])\n",
    "math154 = math154.sort_values(by=['Date'])\n",
    "math112 = math112.sort_values(by=['Date'])\n",
    "eng102 = eng102.sort_values(by=['Date'])\n",
    "#sort zdf by dates\n",
    "zdf = zdf.sort_values(by=['Date'])"
   ]
  },
  {
   "cell_type": "code",
   "execution_count": 467,
   "metadata": {},
   "outputs": [
    {
     "data": {
      "application/vnd.plotly.v1+json": {
       "config": {
        "plotlyServerURL": "https://plot.ly"
       },
       "data": [
        {
         "mode": "lines+markers",
         "name": "total work time",
         "type": "scatter",
         "x": [
          "2023-03-08T00:00:00",
          "2023-03-09T00:00:00",
          "2023-03-10T00:00:00",
          "2023-03-11T00:00:00",
          "2023-03-11T00:00:00",
          "2023-03-12T00:00:00",
          "2023-03-13T00:00:00",
          "2023-03-13T00:00:00",
          "2023-03-13T00:00:00",
          "2023-03-14T00:00:00",
          "2023-03-15T00:00:00",
          "2023-03-16T00:00:00",
          "2023-03-17T00:00:00",
          "2023-03-18T00:00:00",
          "2023-03-19T00:00:00",
          "2023-03-21T00:00:00",
          "2023-03-22T00:00:00",
          "2023-03-23T00:00:00",
          "2023-03-24T00:00:00",
          "2023-03-24T00:00:00",
          "2023-03-25T00:00:00",
          "2023-03-25T00:00:00",
          "2023-03-26T00:00:00",
          "2023-03-28T00:00:00",
          "2023-03-29T00:00:00",
          "2023-03-30T00:00:00",
          "2023-03-30T00:00:00",
          "2023-03-31T00:00:00",
          "2023-03-31T00:00:00",
          "2023-04-01T00:00:00",
          "2023-04-02T00:00:00",
          "2023-04-02T00:00:00",
          "2023-04-02T00:00:00",
          "2023-04-03T00:00:00",
          "2023-04-03T00:00:00",
          "2023-04-04T00:00:00",
          "2023-04-04T00:00:00",
          "2023-04-05T00:00:00",
          "2023-04-05T00:00:00",
          "2023-04-06T00:00:00",
          "2023-04-07T00:00:00",
          "2023-04-07T00:00:00",
          "2023-04-08T00:00:00",
          "2023-04-09T00:00:00",
          "2023-04-09T00:00:00",
          "2023-04-09T00:00:00",
          "2023-04-11T00:00:00",
          "2023-04-11T00:00:00",
          "2023-04-11T00:00:00",
          "2023-04-12T00:00:00",
          "2023-04-13T00:00:00",
          "2023-04-14T00:00:00",
          "2023-04-15T00:00:00",
          "2023-04-15T00:00:00",
          "2023-04-16T00:00:00",
          "2023-04-16T00:00:00",
          "2023-04-17T00:00:00",
          "2023-04-18T00:00:00",
          "2023-04-22T00:00:00",
          "2023-04-22T00:00:00",
          "2023-04-26T00:00:00",
          "2023-04-27T00:00:00",
          "2023-04-28T00:00:00",
          "2023-04-28T00:00:00",
          "2023-04-28T00:00:00",
          "2023-04-29T00:00:00",
          "2023-04-30T00:00:00",
          "2023-05-04T00:00:00",
          "2023-05-05T00:00:00",
          "2023-05-08T00:00:00",
          "2023-05-09T00:00:00",
          "2023-05-10T00:00:00",
          "2023-05-10T00:00:00",
          "2023-05-12T00:00:00",
          "2023-05-12T00:00:00",
          "2023-05-13T00:00:00",
          "2023-05-18T00:00:00",
          "2023-05-19T00:00:00",
          "2023-05-19T00:00:00",
          "2023-05-20T00:00:00",
          "2023-05-20T00:00:00",
          "2023-05-21T00:00:00",
          "2023-05-22T00:00:00",
          "2023-05-22T00:00:00",
          "2023-05-24T00:00:00",
          "2023-05-24T00:00:00",
          "2023-05-25T00:00:00",
          "2023-05-26T00:00:00",
          "2023-05-26T00:00:00",
          "2023-05-27T00:00:00",
          "2023-05-28T00:00:00",
          "2023-05-29T00:00:00",
          "2023-05-29T00:00:00",
          "2023-05-30T00:00:00",
          "2023-05-30T00:00:00",
          "2023-05-31T00:00:00",
          "2023-06-01T00:00:00",
          "2023-06-01T00:00:00",
          "2023-06-02T00:00:00",
          "2023-06-03T00:00:00",
          "2023-06-03T00:00:00",
          "2023-06-03T00:00:00",
          "2023-06-04T00:00:00",
          "2023-06-06T00:00:00",
          "2023-06-06T00:00:00",
          "2023-06-07T00:00:00",
          "2023-06-07T00:00:00",
          "2023-06-08T00:00:00",
          "2023-06-09T00:00:00",
          "2023-06-09T00:00:00",
          "2023-06-10T00:00:00",
          "2023-06-10T00:00:00",
          "2023-06-11T00:00:00",
          "2023-06-11T00:00:00",
          "2023-06-12T00:00:00",
          "2023-06-13T00:00:00",
          "2023-06-14T00:00:00",
          "2023-06-15T00:00:00",
          "2023-06-17T00:00:00",
          "2023-06-18T00:00:00",
          "2023-06-19T00:00:00",
          "2023-06-20T00:00:00",
          "2023-06-21T00:00:00",
          "2023-06-22T00:00:00"
         ],
         "xaxis": "x",
         "y": [
          1.416666666667,
          0.833333333333,
          1.433333333333,
          2,
          1.25,
          3.333333333333,
          0.416666666667,
          0.416666666667,
          2.083333333333,
          0.416666666667,
          0.416666666667,
          1.25,
          0.833333333333,
          0.416666666667,
          3.333333333333,
          0.416666666667,
          4.583333333333,
          1.666666666667,
          2.083333333333,
          0.833333333333,
          1.25,
          2,
          2.5,
          2.5,
          4.166666666667,
          3.333333333333,
          0.583333333333,
          2.083333333333,
          0.833333333333,
          1.25,
          3.333333333333,
          1.25,
          3.333333333333,
          0.833333333333,
          1.25,
          0.833333333333,
          0.416666666667,
          0.833333333333,
          1.25,
          2.666666666667,
          0.833333333333,
          0.416666666667,
          0.833333333333,
          1.666666666667,
          3.333333333333,
          1.666666666667,
          0.416666666667,
          0.75,
          1.25,
          2.916666666667,
          0.416666666667,
          3.333333333333,
          0.833333333333,
          1.25,
          0.833333333333,
          4.166666666667,
          0.416666666667,
          1.25,
          1.666666666667,
          0.833333333333,
          0.416666666667,
          1.25,
          0.833333333333,
          2.083333333333,
          0.416666666667,
          6.25,
          1.666666666667,
          1.233333333333,
          3.75,
          2.083333333333,
          1.5,
          3.333333333333,
          0.833333333333,
          1.25,
          2.5,
          4.416666666667,
          5.833333333333,
          4.166666666667,
          0.833333333333,
          0.416666666667,
          0.833333333333,
          0.833333333333,
          0.833333333333,
          2.5,
          0.416666666667,
          1.666666666667,
          3.333333333333,
          1.416666666667,
          2.5,
          0.833333333333,
          3.333333333333,
          0.833333333333,
          2.083333333333,
          0.833333333333,
          2.916666666667,
          0.416666666667,
          1.666666666667,
          0.416666666667,
          2,
          2.083333333333,
          0.833333333333,
          1.25,
          3.75,
          1.25,
          4.166666666667,
          1.933333333333,
          1.25,
          2.25,
          1.416666666667,
          1.25,
          0.416666666667,
          2.916666666667,
          2.916666666667,
          0.833333333333,
          6.25,
          0.666666666667,
          5.833333333333,
          2.5,
          1.25,
          3.75,
          3.333333333333,
          5,
          4.583333333333,
          7
         ],
         "yaxis": "y"
        },
        {
         "mode": "lines+markers",
         "name": "MATH 116",
         "type": "scatter",
         "x": [
          "2023-03-09T00:00:00",
          "2023-03-11T00:00:00",
          "2023-03-13T00:00:00",
          "2023-03-14T00:00:00",
          "2023-03-22T00:00:00",
          "2023-03-29T00:00:00",
          "2023-03-30T00:00:00",
          "2023-04-02T00:00:00",
          "2023-04-04T00:00:00",
          "2023-04-05T00:00:00",
          "2023-04-09T00:00:00",
          "2023-04-11T00:00:00",
          "2023-04-13T00:00:00",
          "2023-04-18T00:00:00",
          "2023-04-22T00:00:00",
          "2023-04-28T00:00:00",
          "2023-05-04T00:00:00",
          "2023-05-05T00:00:00",
          "2023-05-08T00:00:00",
          "2023-05-09T00:00:00",
          "2023-05-10T00:00:00",
          "2023-05-12T00:00:00",
          "2023-05-18T00:00:00",
          "2023-05-19T00:00:00",
          "2023-05-20T00:00:00",
          "2023-06-01T00:00:00",
          "2023-06-20T00:00:00",
          "2023-06-21T00:00:00",
          "2023-06-22T00:00:00"
         ],
         "xaxis": "x3",
         "y": [
          0.833333333333,
          2,
          0.416666666667,
          0.416666666667,
          4.583333333333,
          4.166666666667,
          3.333333333333,
          1.25,
          0.833333333333,
          1.25,
          3.333333333333,
          0.75,
          0.416666666667,
          1.25,
          0.833333333333,
          2.083333333333,
          1.233333333333,
          3.75,
          2.083333333333,
          1.5,
          3.333333333333,
          2.5,
          5.833333333333,
          4.166666666667,
          0.416666666667,
          0.416666666667,
          5,
          4.583333333333,
          7
         ],
         "yaxis": "y3"
        },
        {
         "mode": "lines+markers",
         "name": "MATH 154",
         "type": "scatter",
         "x": [
          "2023-03-10T00:00:00",
          "2023-03-12T00:00:00",
          "2023-03-13T00:00:00",
          "2023-03-16T00:00:00",
          "2023-03-18T00:00:00",
          "2023-03-19T00:00:00",
          "2023-03-23T00:00:00",
          "2023-03-24T00:00:00",
          "2023-03-25T00:00:00",
          "2023-03-26T00:00:00",
          "2023-03-28T00:00:00",
          "2023-03-30T00:00:00",
          "2023-04-01T00:00:00",
          "2023-04-02T00:00:00",
          "2023-04-03T00:00:00",
          "2023-04-04T00:00:00",
          "2023-04-06T00:00:00",
          "2023-04-07T00:00:00",
          "2023-04-11T00:00:00",
          "2023-04-14T00:00:00",
          "2023-04-15T00:00:00",
          "2023-04-16T00:00:00",
          "2023-04-22T00:00:00",
          "2023-04-26T00:00:00",
          "2023-04-28T00:00:00",
          "2023-04-29T00:00:00",
          "2023-04-30T00:00:00",
          "2023-05-10T00:00:00",
          "2023-05-19T00:00:00",
          "2023-05-22T00:00:00",
          "2023-05-24T00:00:00",
          "2023-05-25T00:00:00",
          "2023-05-26T00:00:00",
          "2023-05-27T00:00:00",
          "2023-05-28T00:00:00",
          "2023-05-29T00:00:00",
          "2023-05-30T00:00:00",
          "2023-05-31T00:00:00",
          "2023-06-01T00:00:00",
          "2023-06-02T00:00:00",
          "2023-06-03T00:00:00",
          "2023-06-06T00:00:00",
          "2023-06-07T00:00:00",
          "2023-06-08T00:00:00",
          "2023-06-09T00:00:00",
          "2023-06-11T00:00:00",
          "2023-06-14T00:00:00",
          "2023-06-15T00:00:00",
          "2023-06-17T00:00:00",
          "2023-06-18T00:00:00",
          "2023-06-19T00:00:00"
         ],
         "xaxis": "x2",
         "y": [
          1.433333333333,
          3.333333333333,
          0.416666666667,
          1.25,
          0.416666666667,
          3.333333333333,
          1.666666666667,
          2.083333333333,
          2,
          2.5,
          2.5,
          0.583333333333,
          1.25,
          3.333333333333,
          0.833333333333,
          0.416666666667,
          2.666666666667,
          0.833333333333,
          0.416666666667,
          3.333333333333,
          1.25,
          0.833333333333,
          1.666666666667,
          0.416666666667,
          0.833333333333,
          6.25,
          1.666666666667,
          0.833333333333,
          0.833333333333,
          0.833333333333,
          1.666666666667,
          3.333333333333,
          2.5,
          0.833333333333,
          3.333333333333,
          2.083333333333,
          2.916666666667,
          0.416666666667,
          1.666666666667,
          2,
          1.25,
          1.25,
          1.933333333333,
          2.25,
          1.416666666667,
          0.833333333333,
          5.833333333333,
          2.5,
          1.25,
          3.75,
          3.333333333333
         ],
         "yaxis": "y2"
        },
        {
         "mode": "lines+markers",
         "name": "MATH 112",
         "type": "scatter",
         "x": [
          "2023-03-08T00:00:00",
          "2023-03-11T00:00:00",
          "2023-03-13T00:00:00",
          "2023-03-15T00:00:00",
          "2023-03-17T00:00:00",
          "2023-03-24T00:00:00",
          "2023-03-25T00:00:00",
          "2023-03-31T00:00:00",
          "2023-04-02T00:00:00",
          "2023-04-03T00:00:00",
          "2023-04-05T00:00:00",
          "2023-04-08T00:00:00",
          "2023-04-09T00:00:00",
          "2023-04-12T00:00:00",
          "2023-04-15T00:00:00",
          "2023-04-16T00:00:00",
          "2023-04-17T00:00:00",
          "2023-05-20T00:00:00",
          "2023-05-21T00:00:00",
          "2023-05-22T00:00:00",
          "2023-05-24T00:00:00",
          "2023-05-29T00:00:00",
          "2023-05-30T00:00:00",
          "2023-06-03T00:00:00",
          "2023-06-07T00:00:00",
          "2023-06-09T00:00:00",
          "2023-06-10T00:00:00",
          "2023-06-11T00:00:00",
          "2023-06-12T00:00:00",
          "2023-06-13T00:00:00"
         ],
         "xaxis": "x4",
         "y": [
          1.416666666667,
          1.25,
          2.083333333333,
          0.416666666667,
          0.833333333333,
          0.833333333333,
          1.25,
          2.083333333333,
          3.333333333333,
          1.25,
          0.833333333333,
          0.833333333333,
          1.666666666667,
          2.916666666667,
          0.833333333333,
          4.166666666667,
          0.416666666667,
          0.833333333333,
          0.833333333333,
          2.5,
          0.416666666667,
          0.833333333333,
          0.833333333333,
          2.083333333333,
          1.25,
          1.25,
          2.916666666667,
          2.916666666667,
          6.25,
          0.666666666667
         ],
         "yaxis": "y4"
        },
        {
         "mode": "lines+markers",
         "name": "ENG 102",
         "type": "scatter",
         "x": [
          "2023-03-21T00:00:00",
          "2023-03-31T00:00:00",
          "2023-04-07T00:00:00",
          "2023-04-09T00:00:00",
          "2023-04-11T00:00:00",
          "2023-04-27T00:00:00",
          "2023-04-28T00:00:00",
          "2023-05-12T00:00:00",
          "2023-05-13T00:00:00",
          "2023-05-26T00:00:00",
          "2023-06-03T00:00:00",
          "2023-06-04T00:00:00",
          "2023-06-06T00:00:00",
          "2023-06-10T00:00:00"
         ],
         "xaxis": "x5",
         "y": [
          0.416666666667,
          0.833333333333,
          0.416666666667,
          1.666666666667,
          1.25,
          1.25,
          0.416666666667,
          1.25,
          4.416666666667,
          1.416666666667,
          0.833333333333,
          3.75,
          4.166666666667,
          0.416666666667
         ],
         "yaxis": "y5"
        }
       ],
       "layout": {
        "height": 1300,
        "template": {
         "data": {
          "bar": [
           {
            "error_x": {
             "color": "#2a3f5f"
            },
            "error_y": {
             "color": "#2a3f5f"
            },
            "marker": {
             "line": {
              "color": "#E5ECF6",
              "width": 0.5
             },
             "pattern": {
              "fillmode": "overlay",
              "size": 10,
              "solidity": 0.2
             }
            },
            "type": "bar"
           }
          ],
          "barpolar": [
           {
            "marker": {
             "line": {
              "color": "#E5ECF6",
              "width": 0.5
             },
             "pattern": {
              "fillmode": "overlay",
              "size": 10,
              "solidity": 0.2
             }
            },
            "type": "barpolar"
           }
          ],
          "carpet": [
           {
            "aaxis": {
             "endlinecolor": "#2a3f5f",
             "gridcolor": "white",
             "linecolor": "white",
             "minorgridcolor": "white",
             "startlinecolor": "#2a3f5f"
            },
            "baxis": {
             "endlinecolor": "#2a3f5f",
             "gridcolor": "white",
             "linecolor": "white",
             "minorgridcolor": "white",
             "startlinecolor": "#2a3f5f"
            },
            "type": "carpet"
           }
          ],
          "choropleth": [
           {
            "colorbar": {
             "outlinewidth": 0,
             "ticks": ""
            },
            "type": "choropleth"
           }
          ],
          "contour": [
           {
            "colorbar": {
             "outlinewidth": 0,
             "ticks": ""
            },
            "colorscale": [
             [
              0,
              "#0d0887"
             ],
             [
              0.1111111111111111,
              "#46039f"
             ],
             [
              0.2222222222222222,
              "#7201a8"
             ],
             [
              0.3333333333333333,
              "#9c179e"
             ],
             [
              0.4444444444444444,
              "#bd3786"
             ],
             [
              0.5555555555555556,
              "#d8576b"
             ],
             [
              0.6666666666666666,
              "#ed7953"
             ],
             [
              0.7777777777777778,
              "#fb9f3a"
             ],
             [
              0.8888888888888888,
              "#fdca26"
             ],
             [
              1,
              "#f0f921"
             ]
            ],
            "type": "contour"
           }
          ],
          "contourcarpet": [
           {
            "colorbar": {
             "outlinewidth": 0,
             "ticks": ""
            },
            "type": "contourcarpet"
           }
          ],
          "heatmap": [
           {
            "colorbar": {
             "outlinewidth": 0,
             "ticks": ""
            },
            "colorscale": [
             [
              0,
              "#0d0887"
             ],
             [
              0.1111111111111111,
              "#46039f"
             ],
             [
              0.2222222222222222,
              "#7201a8"
             ],
             [
              0.3333333333333333,
              "#9c179e"
             ],
             [
              0.4444444444444444,
              "#bd3786"
             ],
             [
              0.5555555555555556,
              "#d8576b"
             ],
             [
              0.6666666666666666,
              "#ed7953"
             ],
             [
              0.7777777777777778,
              "#fb9f3a"
             ],
             [
              0.8888888888888888,
              "#fdca26"
             ],
             [
              1,
              "#f0f921"
             ]
            ],
            "type": "heatmap"
           }
          ],
          "heatmapgl": [
           {
            "colorbar": {
             "outlinewidth": 0,
             "ticks": ""
            },
            "colorscale": [
             [
              0,
              "#0d0887"
             ],
             [
              0.1111111111111111,
              "#46039f"
             ],
             [
              0.2222222222222222,
              "#7201a8"
             ],
             [
              0.3333333333333333,
              "#9c179e"
             ],
             [
              0.4444444444444444,
              "#bd3786"
             ],
             [
              0.5555555555555556,
              "#d8576b"
             ],
             [
              0.6666666666666666,
              "#ed7953"
             ],
             [
              0.7777777777777778,
              "#fb9f3a"
             ],
             [
              0.8888888888888888,
              "#fdca26"
             ],
             [
              1,
              "#f0f921"
             ]
            ],
            "type": "heatmapgl"
           }
          ],
          "histogram": [
           {
            "marker": {
             "pattern": {
              "fillmode": "overlay",
              "size": 10,
              "solidity": 0.2
             }
            },
            "type": "histogram"
           }
          ],
          "histogram2d": [
           {
            "colorbar": {
             "outlinewidth": 0,
             "ticks": ""
            },
            "colorscale": [
             [
              0,
              "#0d0887"
             ],
             [
              0.1111111111111111,
              "#46039f"
             ],
             [
              0.2222222222222222,
              "#7201a8"
             ],
             [
              0.3333333333333333,
              "#9c179e"
             ],
             [
              0.4444444444444444,
              "#bd3786"
             ],
             [
              0.5555555555555556,
              "#d8576b"
             ],
             [
              0.6666666666666666,
              "#ed7953"
             ],
             [
              0.7777777777777778,
              "#fb9f3a"
             ],
             [
              0.8888888888888888,
              "#fdca26"
             ],
             [
              1,
              "#f0f921"
             ]
            ],
            "type": "histogram2d"
           }
          ],
          "histogram2dcontour": [
           {
            "colorbar": {
             "outlinewidth": 0,
             "ticks": ""
            },
            "colorscale": [
             [
              0,
              "#0d0887"
             ],
             [
              0.1111111111111111,
              "#46039f"
             ],
             [
              0.2222222222222222,
              "#7201a8"
             ],
             [
              0.3333333333333333,
              "#9c179e"
             ],
             [
              0.4444444444444444,
              "#bd3786"
             ],
             [
              0.5555555555555556,
              "#d8576b"
             ],
             [
              0.6666666666666666,
              "#ed7953"
             ],
             [
              0.7777777777777778,
              "#fb9f3a"
             ],
             [
              0.8888888888888888,
              "#fdca26"
             ],
             [
              1,
              "#f0f921"
             ]
            ],
            "type": "histogram2dcontour"
           }
          ],
          "mesh3d": [
           {
            "colorbar": {
             "outlinewidth": 0,
             "ticks": ""
            },
            "type": "mesh3d"
           }
          ],
          "parcoords": [
           {
            "line": {
             "colorbar": {
              "outlinewidth": 0,
              "ticks": ""
             }
            },
            "type": "parcoords"
           }
          ],
          "pie": [
           {
            "automargin": true,
            "type": "pie"
           }
          ],
          "scatter": [
           {
            "fillpattern": {
             "fillmode": "overlay",
             "size": 10,
             "solidity": 0.2
            },
            "type": "scatter"
           }
          ],
          "scatter3d": [
           {
            "line": {
             "colorbar": {
              "outlinewidth": 0,
              "ticks": ""
             }
            },
            "marker": {
             "colorbar": {
              "outlinewidth": 0,
              "ticks": ""
             }
            },
            "type": "scatter3d"
           }
          ],
          "scattercarpet": [
           {
            "marker": {
             "colorbar": {
              "outlinewidth": 0,
              "ticks": ""
             }
            },
            "type": "scattercarpet"
           }
          ],
          "scattergeo": [
           {
            "marker": {
             "colorbar": {
              "outlinewidth": 0,
              "ticks": ""
             }
            },
            "type": "scattergeo"
           }
          ],
          "scattergl": [
           {
            "marker": {
             "colorbar": {
              "outlinewidth": 0,
              "ticks": ""
             }
            },
            "type": "scattergl"
           }
          ],
          "scattermapbox": [
           {
            "marker": {
             "colorbar": {
              "outlinewidth": 0,
              "ticks": ""
             }
            },
            "type": "scattermapbox"
           }
          ],
          "scatterpolar": [
           {
            "marker": {
             "colorbar": {
              "outlinewidth": 0,
              "ticks": ""
             }
            },
            "type": "scatterpolar"
           }
          ],
          "scatterpolargl": [
           {
            "marker": {
             "colorbar": {
              "outlinewidth": 0,
              "ticks": ""
             }
            },
            "type": "scatterpolargl"
           }
          ],
          "scatterternary": [
           {
            "marker": {
             "colorbar": {
              "outlinewidth": 0,
              "ticks": ""
             }
            },
            "type": "scatterternary"
           }
          ],
          "surface": [
           {
            "colorbar": {
             "outlinewidth": 0,
             "ticks": ""
            },
            "colorscale": [
             [
              0,
              "#0d0887"
             ],
             [
              0.1111111111111111,
              "#46039f"
             ],
             [
              0.2222222222222222,
              "#7201a8"
             ],
             [
              0.3333333333333333,
              "#9c179e"
             ],
             [
              0.4444444444444444,
              "#bd3786"
             ],
             [
              0.5555555555555556,
              "#d8576b"
             ],
             [
              0.6666666666666666,
              "#ed7953"
             ],
             [
              0.7777777777777778,
              "#fb9f3a"
             ],
             [
              0.8888888888888888,
              "#fdca26"
             ],
             [
              1,
              "#f0f921"
             ]
            ],
            "type": "surface"
           }
          ],
          "table": [
           {
            "cells": {
             "fill": {
              "color": "#EBF0F8"
             },
             "line": {
              "color": "white"
             }
            },
            "header": {
             "fill": {
              "color": "#C8D4E3"
             },
             "line": {
              "color": "white"
             }
            },
            "type": "table"
           }
          ]
         },
         "layout": {
          "annotationdefaults": {
           "arrowcolor": "#2a3f5f",
           "arrowhead": 0,
           "arrowwidth": 1
          },
          "autotypenumbers": "strict",
          "coloraxis": {
           "colorbar": {
            "outlinewidth": 0,
            "ticks": ""
           }
          },
          "colorscale": {
           "diverging": [
            [
             0,
             "#8e0152"
            ],
            [
             0.1,
             "#c51b7d"
            ],
            [
             0.2,
             "#de77ae"
            ],
            [
             0.3,
             "#f1b6da"
            ],
            [
             0.4,
             "#fde0ef"
            ],
            [
             0.5,
             "#f7f7f7"
            ],
            [
             0.6,
             "#e6f5d0"
            ],
            [
             0.7,
             "#b8e186"
            ],
            [
             0.8,
             "#7fbc41"
            ],
            [
             0.9,
             "#4d9221"
            ],
            [
             1,
             "#276419"
            ]
           ],
           "sequential": [
            [
             0,
             "#0d0887"
            ],
            [
             0.1111111111111111,
             "#46039f"
            ],
            [
             0.2222222222222222,
             "#7201a8"
            ],
            [
             0.3333333333333333,
             "#9c179e"
            ],
            [
             0.4444444444444444,
             "#bd3786"
            ],
            [
             0.5555555555555556,
             "#d8576b"
            ],
            [
             0.6666666666666666,
             "#ed7953"
            ],
            [
             0.7777777777777778,
             "#fb9f3a"
            ],
            [
             0.8888888888888888,
             "#fdca26"
            ],
            [
             1,
             "#f0f921"
            ]
           ],
           "sequentialminus": [
            [
             0,
             "#0d0887"
            ],
            [
             0.1111111111111111,
             "#46039f"
            ],
            [
             0.2222222222222222,
             "#7201a8"
            ],
            [
             0.3333333333333333,
             "#9c179e"
            ],
            [
             0.4444444444444444,
             "#bd3786"
            ],
            [
             0.5555555555555556,
             "#d8576b"
            ],
            [
             0.6666666666666666,
             "#ed7953"
            ],
            [
             0.7777777777777778,
             "#fb9f3a"
            ],
            [
             0.8888888888888888,
             "#fdca26"
            ],
            [
             1,
             "#f0f921"
            ]
           ]
          },
          "colorway": [
           "#636efa",
           "#EF553B",
           "#00cc96",
           "#ab63fa",
           "#FFA15A",
           "#19d3f3",
           "#FF6692",
           "#B6E880",
           "#FF97FF",
           "#FECB52"
          ],
          "font": {
           "color": "#2a3f5f"
          },
          "geo": {
           "bgcolor": "white",
           "lakecolor": "white",
           "landcolor": "#E5ECF6",
           "showlakes": true,
           "showland": true,
           "subunitcolor": "white"
          },
          "hoverlabel": {
           "align": "left"
          },
          "hovermode": "closest",
          "mapbox": {
           "style": "light"
          },
          "paper_bgcolor": "white",
          "plot_bgcolor": "#E5ECF6",
          "polar": {
           "angularaxis": {
            "gridcolor": "white",
            "linecolor": "white",
            "ticks": ""
           },
           "bgcolor": "#E5ECF6",
           "radialaxis": {
            "gridcolor": "white",
            "linecolor": "white",
            "ticks": ""
           }
          },
          "scene": {
           "xaxis": {
            "backgroundcolor": "#E5ECF6",
            "gridcolor": "white",
            "gridwidth": 2,
            "linecolor": "white",
            "showbackground": true,
            "ticks": "",
            "zerolinecolor": "white"
           },
           "yaxis": {
            "backgroundcolor": "#E5ECF6",
            "gridcolor": "white",
            "gridwidth": 2,
            "linecolor": "white",
            "showbackground": true,
            "ticks": "",
            "zerolinecolor": "white"
           },
           "zaxis": {
            "backgroundcolor": "#E5ECF6",
            "gridcolor": "white",
            "gridwidth": 2,
            "linecolor": "white",
            "showbackground": true,
            "ticks": "",
            "zerolinecolor": "white"
           }
          },
          "shapedefaults": {
           "line": {
            "color": "#2a3f5f"
           }
          },
          "ternary": {
           "aaxis": {
            "gridcolor": "white",
            "linecolor": "white",
            "ticks": ""
           },
           "baxis": {
            "gridcolor": "white",
            "linecolor": "white",
            "ticks": ""
           },
           "bgcolor": "#E5ECF6",
           "caxis": {
            "gridcolor": "white",
            "linecolor": "white",
            "ticks": ""
           }
          },
          "title": {
           "x": 0.05
          },
          "xaxis": {
           "automargin": true,
           "gridcolor": "white",
           "linecolor": "white",
           "ticks": "",
           "title": {
            "standoff": 15
           },
           "zerolinecolor": "white",
           "zerolinewidth": 2
          },
          "yaxis": {
           "automargin": true,
           "gridcolor": "white",
           "linecolor": "white",
           "ticks": "",
           "title": {
            "standoff": 15
           },
           "zerolinecolor": "white",
           "zerolinewidth": 2
          }
         }
        },
        "title": {
         "text": " distribution of spent-hours for each course"
        },
        "width": 1300,
        "xaxis": {
         "anchor": "y",
         "domain": [
          0,
          0.45
         ]
        },
        "xaxis2": {
         "anchor": "y2",
         "domain": [
          0.55,
          1
         ]
        },
        "xaxis3": {
         "anchor": "y3",
         "domain": [
          0,
          0.45
         ]
        },
        "xaxis4": {
         "anchor": "y4",
         "domain": [
          0.55,
          1
         ]
        },
        "xaxis5": {
         "anchor": "y5",
         "domain": [
          0,
          0.45
         ]
        },
        "xaxis6": {
         "anchor": "y6",
         "domain": [
          0.55,
          1
         ]
        },
        "yaxis": {
         "anchor": "x",
         "domain": [
          0.7333333333333333,
          1
         ]
        },
        "yaxis2": {
         "anchor": "x2",
         "domain": [
          0.7333333333333333,
          1
         ]
        },
        "yaxis3": {
         "anchor": "x3",
         "domain": [
          0.36666666666666664,
          0.6333333333333333
         ]
        },
        "yaxis4": {
         "anchor": "x4",
         "domain": [
          0.36666666666666664,
          0.6333333333333333
         ]
        },
        "yaxis5": {
         "anchor": "x5",
         "domain": [
          0,
          0.26666666666666666
         ]
        },
        "yaxis6": {
         "anchor": "x6",
         "domain": [
          0,
          0.26666666666666666
         ]
        }
       }
      }
     },
     "metadata": {},
     "output_type": "display_data"
    }
   ],
   "source": [
    "# create subgraphs in different graphs for each course\n",
    "from plotly.subplots import make_subplots\n",
    "fig = go.Figure()\n",
    "fig = make_subplots(rows=3, cols=2)\n",
    "\n",
    "fig.append_trace(go.Scatter(x=zdf['Date'], y=zdf['spent-hours'],\n",
    "                    mode='lines+markers',\n",
    "                    name='total work time'),row=1, col=1)\n",
    "fig.append_trace(go.Scatter(x=math116['Date'], y=math116['spent-hours'],\n",
    "                    mode='lines+markers',\n",
    "                    name='MATH 116'), row=2, col=1)\n",
    "fig.append_trace(go.Scatter(x=math154['Date'], y=math154['spent-hours'],\n",
    "                    mode='lines+markers',\n",
    "                    name='MATH 154'), row=1, col=2)\n",
    "fig.append_trace(go.Scatter(x=math112['Date'], y=math112['spent-hours'],\n",
    "                    mode='lines+markers',\n",
    "                    name='MATH 112'), row=2, col=2)\n",
    "fig.append_trace(go.Scatter(x=eng102['Date'], y=eng102['spent-hours'],\n",
    "                    mode='lines+markers',\n",
    "                    name='ENG 102'), row=3, col=1)\n",
    "fig.update_layout(height=1300, width=1300, title_text=\" distribution of spent-hours for each course\")\n",
    "\n",
    "fig.show()"
   ]
  },
  {
   "cell_type": "code",
   "execution_count": 468,
   "metadata": {},
   "outputs": [
    {
     "data": {
      "text/plain": [
       "0.2728104575163333"
      ]
     },
     "execution_count": 468,
     "metadata": {},
     "output_type": "execute_result"
    }
   ],
   "source": [
    "# calculate average spent-hours for each course\n",
    "math116['spent-hours'].sum()/len(zdf['Date'].unique())/3\n",
    "\n"
   ]
  },
  {
   "cell_type": "code",
   "execution_count": 469,
   "metadata": {},
   "outputs": [
    {
     "data": {
      "text/plain": [
       "0.22674509803920945"
      ]
     },
     "execution_count": 469,
     "metadata": {},
     "output_type": "execute_result"
    }
   ],
   "source": [
    "math154['spent-hours'].sum()/len(zdf['Date'].unique())/5\n"
   ]
  },
  {
   "cell_type": "code",
   "execution_count": 470,
   "metadata": {},
   "outputs": [
    {
     "data": {
      "text/plain": [
       "0.2941176470588176"
      ]
     },
     "execution_count": 470,
     "metadata": {},
     "output_type": "execute_result"
    }
   ],
   "source": [
    "math112['spent-hours'].sum()/len(zdf['Date'].unique())/2\n"
   ]
  },
  {
   "cell_type": "code",
   "execution_count": 471,
   "metadata": {},
   "outputs": [
    {
     "data": {
      "text/plain": [
       "0.26470588235296466"
      ]
     },
     "execution_count": 471,
     "metadata": {},
     "output_type": "execute_result"
    }
   ],
   "source": [
    "eng102['spent-hours'].sum()/len(zdf['Date'].unique())"
   ]
  },
  {
   "cell_type": "code",
   "execution_count": 472,
   "metadata": {},
   "outputs": [
    {
     "data": {
      "text/plain": [
       "0.40178571428574994"
      ]
     },
     "execution_count": 472,
     "metadata": {},
     "output_type": "execute_result"
    }
   ],
   "source": [
    "math154['spent-hours'].mean()/5\n",
    "math112['spent-hours'].mean()/3\n",
    "eng102['spent-hours'].mean()/4"
   ]
  },
  {
   "cell_type": "code",
   "execution_count": 473,
   "metadata": {},
   "outputs": [
    {
     "data": {
      "text/plain": [
       "Courses\n",
       "ENG 102     0.264706\n",
       "MATH 112    0.588235\n",
       "MATH 116    0.818431\n",
       "MATH 154    1.133725\n",
       "Name: spent-hours, dtype: float64"
      ]
     },
     "execution_count": 473,
     "metadata": {},
     "output_type": "execute_result"
    }
   ],
   "source": [
    "# group zdf by courses and calculate average by dividing total time range to number of days\n",
    "zdf.groupby('Courses')['spent-hours'].sum()/len(zdf['Date'].unique())\n"
   ]
  },
  {
   "cell_type": "code",
   "execution_count": 474,
   "metadata": {},
   "outputs": [
    {
     "data": {
      "text/html": [
       "<div>\n",
       "<style scoped>\n",
       "    .dataframe tbody tr th:only-of-type {\n",
       "        vertical-align: middle;\n",
       "    }\n",
       "\n",
       "    .dataframe tbody tr th {\n",
       "        vertical-align: top;\n",
       "    }\n",
       "\n",
       "    .dataframe thead th {\n",
       "        text-align: right;\n",
       "    }\n",
       "</style>\n",
       "<table border=\"1\" class=\"dataframe\">\n",
       "  <thead>\n",
       "    <tr style=\"text-align: right;\">\n",
       "      <th>Courses</th>\n",
       "      <th>ENG 102</th>\n",
       "      <th>MATH 112</th>\n",
       "      <th>MATH 116</th>\n",
       "      <th>MATH 154</th>\n",
       "    </tr>\n",
       "    <tr>\n",
       "      <th>Date</th>\n",
       "      <th></th>\n",
       "      <th></th>\n",
       "      <th></th>\n",
       "      <th></th>\n",
       "    </tr>\n",
       "  </thead>\n",
       "  <tbody>\n",
       "    <tr>\n",
       "      <th>2023-03-08</th>\n",
       "      <td>NaN</td>\n",
       "      <td>85.0</td>\n",
       "      <td>NaN</td>\n",
       "      <td>NaN</td>\n",
       "    </tr>\n",
       "    <tr>\n",
       "      <th>2023-03-09</th>\n",
       "      <td>NaN</td>\n",
       "      <td>NaN</td>\n",
       "      <td>50.0</td>\n",
       "      <td>NaN</td>\n",
       "    </tr>\n",
       "    <tr>\n",
       "      <th>2023-03-10</th>\n",
       "      <td>NaN</td>\n",
       "      <td>NaN</td>\n",
       "      <td>NaN</td>\n",
       "      <td>86.0</td>\n",
       "    </tr>\n",
       "    <tr>\n",
       "      <th>2023-03-11</th>\n",
       "      <td>NaN</td>\n",
       "      <td>75.0</td>\n",
       "      <td>120.0</td>\n",
       "      <td>NaN</td>\n",
       "    </tr>\n",
       "    <tr>\n",
       "      <th>2023-03-12</th>\n",
       "      <td>NaN</td>\n",
       "      <td>NaN</td>\n",
       "      <td>NaN</td>\n",
       "      <td>200.0</td>\n",
       "    </tr>\n",
       "    <tr>\n",
       "      <th>...</th>\n",
       "      <td>...</td>\n",
       "      <td>...</td>\n",
       "      <td>...</td>\n",
       "      <td>...</td>\n",
       "    </tr>\n",
       "    <tr>\n",
       "      <th>2023-06-18</th>\n",
       "      <td>NaN</td>\n",
       "      <td>NaN</td>\n",
       "      <td>NaN</td>\n",
       "      <td>225.0</td>\n",
       "    </tr>\n",
       "    <tr>\n",
       "      <th>2023-06-19</th>\n",
       "      <td>NaN</td>\n",
       "      <td>NaN</td>\n",
       "      <td>NaN</td>\n",
       "      <td>200.0</td>\n",
       "    </tr>\n",
       "    <tr>\n",
       "      <th>2023-06-20</th>\n",
       "      <td>NaN</td>\n",
       "      <td>NaN</td>\n",
       "      <td>300.0</td>\n",
       "      <td>NaN</td>\n",
       "    </tr>\n",
       "    <tr>\n",
       "      <th>2023-06-21</th>\n",
       "      <td>NaN</td>\n",
       "      <td>NaN</td>\n",
       "      <td>275.0</td>\n",
       "      <td>NaN</td>\n",
       "    </tr>\n",
       "    <tr>\n",
       "      <th>2023-06-22</th>\n",
       "      <td>NaN</td>\n",
       "      <td>NaN</td>\n",
       "      <td>420.0</td>\n",
       "      <td>NaN</td>\n",
       "    </tr>\n",
       "  </tbody>\n",
       "</table>\n",
       "<p>85 rows × 4 columns</p>\n",
       "</div>"
      ],
      "text/plain": [
       "Courses     ENG 102  MATH 112  MATH 116  MATH 154\n",
       "Date                                             \n",
       "2023-03-08      NaN      85.0       NaN       NaN\n",
       "2023-03-09      NaN       NaN      50.0       NaN\n",
       "2023-03-10      NaN       NaN       NaN      86.0\n",
       "2023-03-11      NaN      75.0     120.0       NaN\n",
       "2023-03-12      NaN       NaN       NaN     200.0\n",
       "...             ...       ...       ...       ...\n",
       "2023-06-18      NaN       NaN       NaN     225.0\n",
       "2023-06-19      NaN       NaN       NaN     200.0\n",
       "2023-06-20      NaN       NaN     300.0       NaN\n",
       "2023-06-21      NaN       NaN     275.0       NaN\n",
       "2023-06-22      NaN       NaN     420.0       NaN\n",
       "\n",
       "[85 rows x 4 columns]"
      ]
     },
     "execution_count": 474,
     "metadata": {},
     "output_type": "execute_result"
    }
   ],
   "source": [
    "# pivot table for spent-hours and courses and dates as columns and add index \n",
    "zdf.pivot_table(index='Date', columns='Courses', values='spent-minutes', aggfunc='sum')\n"
   ]
  },
  {
   "cell_type": "code",
   "execution_count": 475,
   "metadata": {},
   "outputs": [
    {
     "data": {
      "text/html": [
       "<div>\n",
       "<style scoped>\n",
       "    .dataframe tbody tr th:only-of-type {\n",
       "        vertical-align: middle;\n",
       "    }\n",
       "\n",
       "    .dataframe tbody tr th {\n",
       "        vertical-align: top;\n",
       "    }\n",
       "\n",
       "    .dataframe thead th {\n",
       "        text-align: right;\n",
       "    }\n",
       "</style>\n",
       "<table border=\"1\" class=\"dataframe\">\n",
       "  <thead>\n",
       "    <tr style=\"text-align: right;\">\n",
       "      <th></th>\n",
       "      <th>Name</th>\n",
       "      <th>Courses</th>\n",
       "      <th>Date</th>\n",
       "      <th>spent-minutes</th>\n",
       "      <th>what you did</th>\n",
       "      <th>spent-hours</th>\n",
       "      <th>Grade</th>\n",
       "    </tr>\n",
       "  </thead>\n",
       "  <tbody>\n",
       "    <tr>\n",
       "      <th>45</th>\n",
       "      <td>0</td>\n",
       "      <td>MATH 112</td>\n",
       "      <td>2023-03-08</td>\n",
       "      <td>85.0</td>\n",
       "      <td>NaN</td>\n",
       "      <td>1.416667</td>\n",
       "      <td>3.0</td>\n",
       "    </tr>\n",
       "    <tr>\n",
       "      <th>0</th>\n",
       "      <td>1</td>\n",
       "      <td>MATH 116</td>\n",
       "      <td>2023-03-09</td>\n",
       "      <td>50.0</td>\n",
       "      <td>NaN</td>\n",
       "      <td>0.833333</td>\n",
       "      <td>2.0</td>\n",
       "    </tr>\n",
       "    <tr>\n",
       "      <th>2</th>\n",
       "      <td>1</td>\n",
       "      <td>MATH 154</td>\n",
       "      <td>2023-03-10</td>\n",
       "      <td>86.0</td>\n",
       "      <td>NaN</td>\n",
       "      <td>1.433333</td>\n",
       "      <td>2.0</td>\n",
       "    </tr>\n",
       "    <tr>\n",
       "      <th>4</th>\n",
       "      <td>2</td>\n",
       "      <td>MATH 116</td>\n",
       "      <td>2023-03-11</td>\n",
       "      <td>120.0</td>\n",
       "      <td>NaN</td>\n",
       "      <td>2.000000</td>\n",
       "      <td>2.0</td>\n",
       "    </tr>\n",
       "    <tr>\n",
       "      <th>6</th>\n",
       "      <td>1</td>\n",
       "      <td>MATH 112</td>\n",
       "      <td>2023-03-11</td>\n",
       "      <td>75.0</td>\n",
       "      <td>NaN</td>\n",
       "      <td>1.250000</td>\n",
       "      <td>3.0</td>\n",
       "    </tr>\n",
       "    <tr>\n",
       "      <th>...</th>\n",
       "      <td>...</td>\n",
       "      <td>...</td>\n",
       "      <td>...</td>\n",
       "      <td>...</td>\n",
       "      <td>...</td>\n",
       "      <td>...</td>\n",
       "      <td>...</td>\n",
       "    </tr>\n",
       "    <tr>\n",
       "      <th>130</th>\n",
       "      <td>50</td>\n",
       "      <td>MATH 154</td>\n",
       "      <td>2023-06-18</td>\n",
       "      <td>225.0</td>\n",
       "      <td>prev exam questions</td>\n",
       "      <td>3.750000</td>\n",
       "      <td>2.0</td>\n",
       "    </tr>\n",
       "    <tr>\n",
       "      <th>131</th>\n",
       "      <td>51 DONE</td>\n",
       "      <td>MATH 154</td>\n",
       "      <td>2023-06-19</td>\n",
       "      <td>200.0</td>\n",
       "      <td>final exam</td>\n",
       "      <td>3.333333</td>\n",
       "      <td>2.0</td>\n",
       "    </tr>\n",
       "    <tr>\n",
       "      <th>132</th>\n",
       "      <td>27</td>\n",
       "      <td>MATH 116</td>\n",
       "      <td>2023-06-20</td>\n",
       "      <td>300.0</td>\n",
       "      <td>PREV EXAM 2019</td>\n",
       "      <td>5.000000</td>\n",
       "      <td>2.0</td>\n",
       "    </tr>\n",
       "    <tr>\n",
       "      <th>136</th>\n",
       "      <td>28</td>\n",
       "      <td>MATH 116</td>\n",
       "      <td>2023-06-21</td>\n",
       "      <td>275.0</td>\n",
       "      <td>NaN</td>\n",
       "      <td>4.583333</td>\n",
       "      <td>2.0</td>\n",
       "    </tr>\n",
       "    <tr>\n",
       "      <th>137</th>\n",
       "      <td>29 done</td>\n",
       "      <td>MATH 116</td>\n",
       "      <td>2023-06-22</td>\n",
       "      <td>420.0</td>\n",
       "      <td>Prev exam questions</td>\n",
       "      <td>7.000000</td>\n",
       "      <td>2.0</td>\n",
       "    </tr>\n",
       "  </tbody>\n",
       "</table>\n",
       "<p>124 rows × 7 columns</p>\n",
       "</div>"
      ],
      "text/plain": [
       "        Name   Courses       Date  spent-minutes          what you did  \\\n",
       "45         0  MATH 112 2023-03-08           85.0                   NaN   \n",
       "0          1  MATH 116 2023-03-09           50.0                   NaN   \n",
       "2          1  MATH 154 2023-03-10           86.0                   NaN   \n",
       "4          2  MATH 116 2023-03-11          120.0                   NaN   \n",
       "6          1  MATH 112 2023-03-11           75.0                   NaN   \n",
       "..       ...       ...        ...            ...                   ...   \n",
       "130       50  MATH 154 2023-06-18          225.0   prev exam questions   \n",
       "131  51 DONE  MATH 154 2023-06-19          200.0            final exam   \n",
       "132       27  MATH 116 2023-06-20          300.0        PREV EXAM 2019   \n",
       "136       28  MATH 116 2023-06-21          275.0                   NaN   \n",
       "137  29 done  MATH 116 2023-06-22          420.0  Prev exam questions    \n",
       "\n",
       "     spent-hours  Grade  \n",
       "45      1.416667    3.0  \n",
       "0       0.833333    2.0  \n",
       "2       1.433333    2.0  \n",
       "4       2.000000    2.0  \n",
       "6       1.250000    3.0  \n",
       "..           ...    ...  \n",
       "130     3.750000    2.0  \n",
       "131     3.333333    2.0  \n",
       "132     5.000000    2.0  \n",
       "136     4.583333    2.0  \n",
       "137     7.000000    2.0  \n",
       "\n",
       "[124 rows x 7 columns]"
      ]
     },
     "execution_count": 475,
     "metadata": {},
     "output_type": "execute_result"
    }
   ],
   "source": [
    "zdf['Grade'] = zdf['Courses'].map({'MATH 116': 2, 'MATH 154': 2, 'MATH 112': 3, 'ENG 102': 2.5})\n",
    "zdf"
   ]
  },
  {
   "cell_type": "code",
   "execution_count": 476,
   "metadata": {},
   "outputs": [
    {
     "data": {
      "text/plain": [
       "Courses\n",
       "ENG 102     0.900000\n",
       "MATH 112    1.666667\n",
       "MATH 116    3.478333\n",
       "MATH 154    4.818333\n",
       "dtype: float64"
      ]
     },
     "execution_count": 476,
     "metadata": {},
     "output_type": "execute_result"
    }
   ],
   "source": [
    "# total divide spend minute to grade for each courses and make this diffciculty level for each courses\n",
    "difficulty = zdf.groupby('Courses')['spent-hours'].sum()/zdf.groupby('Courses')['Grade'].mean()/10\n",
    "difficulty"
   ]
  },
  {
   "cell_type": "code",
   "execution_count": 477,
   "metadata": {},
   "outputs": [
    {
     "data": {
      "text/plain": [
       "Index([         'Name',       'Courses',          'Date', 'spent-minutes',\n",
       "        'what you did',   'spent-hours',         'Grade',               0],\n",
       "      dtype='object')"
      ]
     },
     "execution_count": 477,
     "metadata": {},
     "output_type": "execute_result"
    }
   ],
   "source": [
    "# make difficulty dataframe\n",
    "difficulty = pd.DataFrame(difficulty)\n",
    "# merge this with zdf as a new column called difficulty\n",
    "\n",
    "zdf = pd.merge(zdf, difficulty, on='Courses')\n",
    "zdf.columns\n"
   ]
  },
  {
   "cell_type": "code",
   "execution_count": 478,
   "metadata": {},
   "outputs": [],
   "source": [
    "# rename difficulty column as difficulty level\n",
    "zdf = zdf.rename(columns={0: 'difficulty'})\n"
   ]
  },
  {
   "cell_type": "code",
   "execution_count": 479,
   "metadata": {},
   "outputs": [
    {
     "data": {
      "text/html": [
       "<div>\n",
       "<style scoped>\n",
       "    .dataframe tbody tr th:only-of-type {\n",
       "        vertical-align: middle;\n",
       "    }\n",
       "\n",
       "    .dataframe tbody tr th {\n",
       "        vertical-align: top;\n",
       "    }\n",
       "\n",
       "    .dataframe thead th {\n",
       "        text-align: right;\n",
       "    }\n",
       "</style>\n",
       "<table border=\"1\" class=\"dataframe\">\n",
       "  <thead>\n",
       "    <tr style=\"text-align: right;\">\n",
       "      <th></th>\n",
       "      <th>Name</th>\n",
       "      <th>Courses</th>\n",
       "      <th>Date</th>\n",
       "      <th>spent-minutes</th>\n",
       "      <th>what you did</th>\n",
       "      <th>spent-hours</th>\n",
       "      <th>Grade</th>\n",
       "      <th>difficulty</th>\n",
       "    </tr>\n",
       "  </thead>\n",
       "  <tbody>\n",
       "    <tr>\n",
       "      <th>0</th>\n",
       "      <td>0</td>\n",
       "      <td>MATH 112</td>\n",
       "      <td>2023-03-08</td>\n",
       "      <td>85.0</td>\n",
       "      <td>NaN</td>\n",
       "      <td>1.416667</td>\n",
       "      <td>3.0</td>\n",
       "      <td>2.0</td>\n",
       "    </tr>\n",
       "    <tr>\n",
       "      <th>1</th>\n",
       "      <td>1</td>\n",
       "      <td>MATH 112</td>\n",
       "      <td>2023-03-11</td>\n",
       "      <td>75.0</td>\n",
       "      <td>NaN</td>\n",
       "      <td>1.250000</td>\n",
       "      <td>3.0</td>\n",
       "      <td>2.0</td>\n",
       "    </tr>\n",
       "    <tr>\n",
       "      <th>2</th>\n",
       "      <td>2</td>\n",
       "      <td>MATH 112</td>\n",
       "      <td>2023-03-13</td>\n",
       "      <td>125.0</td>\n",
       "      <td>I solved the suggested exercises in the book. ...</td>\n",
       "      <td>2.083333</td>\n",
       "      <td>3.0</td>\n",
       "      <td>2.0</td>\n",
       "    </tr>\n",
       "    <tr>\n",
       "      <th>3</th>\n",
       "      <td>3</td>\n",
       "      <td>MATH 112</td>\n",
       "      <td>2023-03-15</td>\n",
       "      <td>25.0</td>\n",
       "      <td>NaN</td>\n",
       "      <td>0.416667</td>\n",
       "      <td>3.0</td>\n",
       "      <td>2.0</td>\n",
       "    </tr>\n",
       "    <tr>\n",
       "      <th>4</th>\n",
       "      <td>4</td>\n",
       "      <td>MATH 112</td>\n",
       "      <td>2023-03-17</td>\n",
       "      <td>50.0</td>\n",
       "      <td>NaN</td>\n",
       "      <td>0.833333</td>\n",
       "      <td>3.0</td>\n",
       "      <td>2.0</td>\n",
       "    </tr>\n",
       "    <tr>\n",
       "      <th>...</th>\n",
       "      <td>...</td>\n",
       "      <td>...</td>\n",
       "      <td>...</td>\n",
       "      <td>...</td>\n",
       "      <td>...</td>\n",
       "      <td>...</td>\n",
       "      <td>...</td>\n",
       "      <td>...</td>\n",
       "    </tr>\n",
       "    <tr>\n",
       "      <th>119</th>\n",
       "      <td>10</td>\n",
       "      <td>ENG 102</td>\n",
       "      <td>2023-05-26</td>\n",
       "      <td>85.0</td>\n",
       "      <td>NaN</td>\n",
       "      <td>1.416667</td>\n",
       "      <td>2.5</td>\n",
       "      <td>1.0</td>\n",
       "    </tr>\n",
       "    <tr>\n",
       "      <th>120</th>\n",
       "      <td>11</td>\n",
       "      <td>ENG 102</td>\n",
       "      <td>2023-06-03</td>\n",
       "      <td>50.0</td>\n",
       "      <td>NaN</td>\n",
       "      <td>0.833333</td>\n",
       "      <td>2.5</td>\n",
       "      <td>1.0</td>\n",
       "    </tr>\n",
       "    <tr>\n",
       "      <th>121</th>\n",
       "      <td>12</td>\n",
       "      <td>ENG 102</td>\n",
       "      <td>2023-06-04</td>\n",
       "      <td>225.0</td>\n",
       "      <td>Essay</td>\n",
       "      <td>3.750000</td>\n",
       "      <td>2.5</td>\n",
       "      <td>1.0</td>\n",
       "    </tr>\n",
       "    <tr>\n",
       "      <th>122</th>\n",
       "      <td>13</td>\n",
       "      <td>ENG 102</td>\n",
       "      <td>2023-06-06</td>\n",
       "      <td>250.0</td>\n",
       "      <td>NaN</td>\n",
       "      <td>4.166667</td>\n",
       "      <td>2.5</td>\n",
       "      <td>1.0</td>\n",
       "    </tr>\n",
       "    <tr>\n",
       "      <th>123</th>\n",
       "      <td>14</td>\n",
       "      <td>ENG 102</td>\n",
       "      <td>2023-06-10</td>\n",
       "      <td>25.0</td>\n",
       "      <td>NaN</td>\n",
       "      <td>0.416667</td>\n",
       "      <td>2.5</td>\n",
       "      <td>1.0</td>\n",
       "    </tr>\n",
       "  </tbody>\n",
       "</table>\n",
       "<p>124 rows × 8 columns</p>\n",
       "</div>"
      ],
      "text/plain": [
       "    Name   Courses       Date  spent-minutes  \\\n",
       "0      0  MATH 112 2023-03-08           85.0   \n",
       "1      1  MATH 112 2023-03-11           75.0   \n",
       "2      2  MATH 112 2023-03-13          125.0   \n",
       "3      3  MATH 112 2023-03-15           25.0   \n",
       "4      4  MATH 112 2023-03-17           50.0   \n",
       "..   ...       ...        ...            ...   \n",
       "119   10   ENG 102 2023-05-26           85.0   \n",
       "120   11   ENG 102 2023-06-03           50.0   \n",
       "121   12   ENG 102 2023-06-04          225.0   \n",
       "122   13   ENG 102 2023-06-06          250.0   \n",
       "123   14   ENG 102 2023-06-10           25.0   \n",
       "\n",
       "                                          what you did  spent-hours  Grade  \\\n",
       "0                                                  NaN     1.416667    3.0   \n",
       "1                                                  NaN     1.250000    3.0   \n",
       "2    I solved the suggested exercises in the book. ...     2.083333    3.0   \n",
       "3                                                  NaN     0.416667    3.0   \n",
       "4                                                  NaN     0.833333    3.0   \n",
       "..                                                 ...          ...    ...   \n",
       "119                                                NaN     1.416667    2.5   \n",
       "120                                                NaN     0.833333    2.5   \n",
       "121                                              Essay     3.750000    2.5   \n",
       "122                                                NaN     4.166667    2.5   \n",
       "123                                                NaN     0.416667    2.5   \n",
       "\n",
       "     difficulty  \n",
       "0           2.0  \n",
       "1           2.0  \n",
       "2           2.0  \n",
       "3           2.0  \n",
       "4           2.0  \n",
       "..          ...  \n",
       "119         1.0  \n",
       "120         1.0  \n",
       "121         1.0  \n",
       "122         1.0  \n",
       "123         1.0  \n",
       "\n",
       "[124 rows x 8 columns]"
      ]
     },
     "execution_count": 479,
     "metadata": {},
     "output_type": "execute_result"
    }
   ],
   "source": [
    "#round difficulty level to one level integer\n",
    "zdf['difficulty'] = zdf['difficulty'].round(0)\n",
    "zdf\n"
   ]
  },
  {
   "cell_type": "code",
   "execution_count": 480,
   "metadata": {},
   "outputs": [
    {
     "data": {
      "text/plain": [
       "Courses\n",
       "ENG 102     1.0\n",
       "MATH 112    2.0\n",
       "MATH 116    3.0\n",
       "MATH 154    5.0\n",
       "Name: difficulty, dtype: float64"
      ]
     },
     "execution_count": 480,
     "metadata": {},
     "output_type": "execute_result"
    }
   ],
   "source": [
    "# group by difficulty level\n",
    "zdf.groupby('Courses')['difficulty'].mean()"
   ]
  },
  {
   "cell_type": "code",
   "execution_count": 481,
   "metadata": {},
   "outputs": [],
   "source": [
    "# get prev_term data from data folder\n",
    "prev_term = pd.read_csv('/Users/zehrakaya/Documents/GitHub/study-analysis/data/prev_term.csv')\n",
    "# rename task column as Courses\n",
    "prev_term = prev_term.rename(columns={'TASK': 'Courses'})\n",
    "prev_term = prev_term.rename(columns={'TIME FOCUSED': 'spent-hours'})\n",
    "prev_term.loc[prev_term['Courses'].str.contains('Math 111'), 'Courses'] = 'MATH 111'\n",
    "# prev term find MATH 111\n"
   ]
  },
  {
   "cell_type": "code",
   "execution_count": 482,
   "metadata": {},
   "outputs": [
    {
     "data": {
      "text/html": [
       "<div>\n",
       "<style scoped>\n",
       "    .dataframe tbody tr th:only-of-type {\n",
       "        vertical-align: middle;\n",
       "    }\n",
       "\n",
       "    .dataframe tbody tr th {\n",
       "        vertical-align: top;\n",
       "    }\n",
       "\n",
       "    .dataframe thead th {\n",
       "        text-align: right;\n",
       "    }\n",
       "</style>\n",
       "<table border=\"1\" class=\"dataframe\">\n",
       "  <thead>\n",
       "    <tr style=\"text-align: right;\">\n",
       "      <th></th>\n",
       "      <th>DATE</th>\n",
       "      <th>Courses</th>\n",
       "      <th>spent-hours</th>\n",
       "      <th>Grade</th>\n",
       "    </tr>\n",
       "  </thead>\n",
       "  <tbody>\n",
       "    <tr>\n",
       "      <th>0</th>\n",
       "      <td>2023-01-19</td>\n",
       "      <td>ENG</td>\n",
       "      <td>25.0</td>\n",
       "      <td>4.0</td>\n",
       "    </tr>\n",
       "    <tr>\n",
       "      <th>1</th>\n",
       "      <td>2023-01-18</td>\n",
       "      <td>ENG</td>\n",
       "      <td>6.0</td>\n",
       "      <td>4.0</td>\n",
       "    </tr>\n",
       "    <tr>\n",
       "      <th>2</th>\n",
       "      <td>2023-01-17</td>\n",
       "      <td>MATH 111</td>\n",
       "      <td>25.0</td>\n",
       "      <td>2.5</td>\n",
       "    </tr>\n",
       "    <tr>\n",
       "      <th>3</th>\n",
       "      <td>2023-01-17</td>\n",
       "      <td>MATH 111</td>\n",
       "      <td>25.0</td>\n",
       "      <td>2.5</td>\n",
       "    </tr>\n",
       "    <tr>\n",
       "      <th>4</th>\n",
       "      <td>2023-01-17</td>\n",
       "      <td>MATH 111</td>\n",
       "      <td>25.0</td>\n",
       "      <td>2.5</td>\n",
       "    </tr>\n",
       "    <tr>\n",
       "      <th>...</th>\n",
       "      <td>...</td>\n",
       "      <td>...</td>\n",
       "      <td>...</td>\n",
       "      <td>...</td>\n",
       "    </tr>\n",
       "    <tr>\n",
       "      <th>952</th>\n",
       "      <td>2022-03-04</td>\n",
       "      <td>PHYS 111</td>\n",
       "      <td>25.0</td>\n",
       "      <td>1.0</td>\n",
       "    </tr>\n",
       "    <tr>\n",
       "      <th>953</th>\n",
       "      <td>2022-03-04</td>\n",
       "      <td>PHYS 111</td>\n",
       "      <td>25.0</td>\n",
       "      <td>1.0</td>\n",
       "    </tr>\n",
       "    <tr>\n",
       "      <th>954</th>\n",
       "      <td>2022-03-04</td>\n",
       "      <td>PHYS 111</td>\n",
       "      <td>25.0</td>\n",
       "      <td>1.0</td>\n",
       "    </tr>\n",
       "    <tr>\n",
       "      <th>955</th>\n",
       "      <td>2022-03-04</td>\n",
       "      <td>PHYS 111</td>\n",
       "      <td>25.0</td>\n",
       "      <td>1.0</td>\n",
       "    </tr>\n",
       "    <tr>\n",
       "      <th>956</th>\n",
       "      <td>2022-02-28</td>\n",
       "      <td>PHYS 111</td>\n",
       "      <td>25.0</td>\n",
       "      <td>1.0</td>\n",
       "    </tr>\n",
       "  </tbody>\n",
       "</table>\n",
       "<p>957 rows × 4 columns</p>\n",
       "</div>"
      ],
      "text/plain": [
       "           DATE   Courses  spent-hours  Grade\n",
       "0    2023-01-19       ENG         25.0    4.0\n",
       "1    2023-01-18       ENG          6.0    4.0\n",
       "2    2023-01-17  MATH 111         25.0    2.5\n",
       "3    2023-01-17  MATH 111         25.0    2.5\n",
       "4    2023-01-17  MATH 111         25.0    2.5\n",
       "..          ...       ...          ...    ...\n",
       "952  2022-03-04  PHYS 111         25.0    1.0\n",
       "953  2022-03-04  PHYS 111         25.0    1.0\n",
       "954  2022-03-04  PHYS 111         25.0    1.0\n",
       "955  2022-03-04  PHYS 111         25.0    1.0\n",
       "956  2022-02-28  PHYS 111         25.0    1.0\n",
       "\n",
       "[957 rows x 4 columns]"
      ]
     },
     "execution_count": 482,
     "metadata": {},
     "output_type": "execute_result"
    }
   ],
   "source": [
    "prev_term['Grade'] = prev_term['Courses'].map({'MATH 111': 2.5, 'MATH 153': 1.5,  'ENG': 4, 'PHYS 111': 1})\n",
    "prev_term\n"
   ]
  },
  {
   "cell_type": "code",
   "execution_count": 483,
   "metadata": {},
   "outputs": [
    {
     "data": {
      "text/plain": [
       "Courses\n",
       "ENG          0.886250\n",
       "MATH 111     2.574000\n",
       "MATH 115          NaN\n",
       "MATH 153     7.392222\n",
       "PHYS 111    14.148333\n",
       "dtype: float64"
      ]
     },
     "execution_count": 483,
     "metadata": {},
     "output_type": "execute_result"
    }
   ],
   "source": [
    "# total divide spend minute to grade for each courses and make this diffciculty level for each courses\n",
    "difficulty_prev = prev_term.groupby('Courses')['spent-hours'].sum()/60/prev_term.groupby('Courses')['Grade'].mean()/10\n",
    "difficulty_prev"
   ]
  },
  {
   "cell_type": "code",
   "execution_count": 484,
   "metadata": {},
   "outputs": [],
   "source": [
    "# make difficulty dataframe\n",
    "difficulty_prev = pd.DataFrame(difficulty_prev)\n",
    "# merge this with zdf as a new column called difficulty\n",
    "\n",
    "prev_term = pd.merge(prev_term, difficulty_prev, on='Courses')\n",
    "prev_term.columns\n",
    "# rename difficulty column as difficulty level\n",
    "prev_term = prev_term.rename(columns={0: 'difficulty'})\n",
    "\n",
    "\n"
   ]
  },
  {
   "cell_type": "code",
   "execution_count": 485,
   "metadata": {},
   "outputs": [
    {
     "data": {
      "text/html": [
       "<div>\n",
       "<style scoped>\n",
       "    .dataframe tbody tr th:only-of-type {\n",
       "        vertical-align: middle;\n",
       "    }\n",
       "\n",
       "    .dataframe tbody tr th {\n",
       "        vertical-align: top;\n",
       "    }\n",
       "\n",
       "    .dataframe thead th {\n",
       "        text-align: right;\n",
       "    }\n",
       "</style>\n",
       "<table border=\"1\" class=\"dataframe\">\n",
       "  <thead>\n",
       "    <tr style=\"text-align: right;\">\n",
       "      <th></th>\n",
       "      <th>DATE</th>\n",
       "      <th>Courses</th>\n",
       "      <th>spent-hours</th>\n",
       "      <th>Grade</th>\n",
       "      <th>difficulty</th>\n",
       "    </tr>\n",
       "  </thead>\n",
       "  <tbody>\n",
       "    <tr>\n",
       "      <th>0</th>\n",
       "      <td>2023-01-19</td>\n",
       "      <td>ENG</td>\n",
       "      <td>25.0</td>\n",
       "      <td>4.0</td>\n",
       "      <td>1.0</td>\n",
       "    </tr>\n",
       "    <tr>\n",
       "      <th>1</th>\n",
       "      <td>2023-01-18</td>\n",
       "      <td>ENG</td>\n",
       "      <td>6.0</td>\n",
       "      <td>4.0</td>\n",
       "      <td>1.0</td>\n",
       "    </tr>\n",
       "    <tr>\n",
       "      <th>2</th>\n",
       "      <td>2023-01-13</td>\n",
       "      <td>ENG</td>\n",
       "      <td>25.0</td>\n",
       "      <td>4.0</td>\n",
       "      <td>1.0</td>\n",
       "    </tr>\n",
       "    <tr>\n",
       "      <th>3</th>\n",
       "      <td>2023-01-13</td>\n",
       "      <td>ENG</td>\n",
       "      <td>25.0</td>\n",
       "      <td>4.0</td>\n",
       "      <td>1.0</td>\n",
       "    </tr>\n",
       "    <tr>\n",
       "      <th>4</th>\n",
       "      <td>2023-01-13</td>\n",
       "      <td>ENG</td>\n",
       "      <td>25.0</td>\n",
       "      <td>4.0</td>\n",
       "      <td>1.0</td>\n",
       "    </tr>\n",
       "    <tr>\n",
       "      <th>...</th>\n",
       "      <td>...</td>\n",
       "      <td>...</td>\n",
       "      <td>...</td>\n",
       "      <td>...</td>\n",
       "      <td>...</td>\n",
       "    </tr>\n",
       "    <tr>\n",
       "      <th>952</th>\n",
       "      <td>2022-03-04</td>\n",
       "      <td>PHYS 111</td>\n",
       "      <td>25.0</td>\n",
       "      <td>1.0</td>\n",
       "      <td>14.0</td>\n",
       "    </tr>\n",
       "    <tr>\n",
       "      <th>953</th>\n",
       "      <td>2022-03-04</td>\n",
       "      <td>PHYS 111</td>\n",
       "      <td>25.0</td>\n",
       "      <td>1.0</td>\n",
       "      <td>14.0</td>\n",
       "    </tr>\n",
       "    <tr>\n",
       "      <th>954</th>\n",
       "      <td>2022-03-04</td>\n",
       "      <td>PHYS 111</td>\n",
       "      <td>25.0</td>\n",
       "      <td>1.0</td>\n",
       "      <td>14.0</td>\n",
       "    </tr>\n",
       "    <tr>\n",
       "      <th>955</th>\n",
       "      <td>2022-03-04</td>\n",
       "      <td>PHYS 111</td>\n",
       "      <td>25.0</td>\n",
       "      <td>1.0</td>\n",
       "      <td>14.0</td>\n",
       "    </tr>\n",
       "    <tr>\n",
       "      <th>956</th>\n",
       "      <td>2022-02-28</td>\n",
       "      <td>PHYS 111</td>\n",
       "      <td>25.0</td>\n",
       "      <td>1.0</td>\n",
       "      <td>14.0</td>\n",
       "    </tr>\n",
       "  </tbody>\n",
       "</table>\n",
       "<p>957 rows × 5 columns</p>\n",
       "</div>"
      ],
      "text/plain": [
       "           DATE   Courses  spent-hours  Grade  difficulty\n",
       "0    2023-01-19       ENG         25.0    4.0         1.0\n",
       "1    2023-01-18       ENG          6.0    4.0         1.0\n",
       "2    2023-01-13       ENG         25.0    4.0         1.0\n",
       "3    2023-01-13       ENG         25.0    4.0         1.0\n",
       "4    2023-01-13       ENG         25.0    4.0         1.0\n",
       "..          ...       ...          ...    ...         ...\n",
       "952  2022-03-04  PHYS 111         25.0    1.0        14.0\n",
       "953  2022-03-04  PHYS 111         25.0    1.0        14.0\n",
       "954  2022-03-04  PHYS 111         25.0    1.0        14.0\n",
       "955  2022-03-04  PHYS 111         25.0    1.0        14.0\n",
       "956  2022-02-28  PHYS 111         25.0    1.0        14.0\n",
       "\n",
       "[957 rows x 5 columns]"
      ]
     },
     "execution_count": 485,
     "metadata": {},
     "output_type": "execute_result"
    }
   ],
   "source": [
    "#round difficulty level to one level integer\n",
    "prev_term['difficulty'] = prev_term['difficulty'].round(0)\n",
    "prev_term"
   ]
  },
  {
   "cell_type": "code",
   "execution_count": 486,
   "metadata": {},
   "outputs": [
    {
     "data": {
      "text/plain": [
       "Courses\n",
       "ENG          1.0\n",
       "MATH 111     3.0\n",
       "MATH 115     NaN\n",
       "MATH 153     7.0\n",
       "PHYS 111    14.0\n",
       "Name: difficulty, dtype: float64"
      ]
     },
     "execution_count": 486,
     "metadata": {},
     "output_type": "execute_result"
    }
   ],
   "source": [
    "# group by difficulty level\n",
    "prev_term.groupby('Courses')['difficulty'].mean()"
   ]
  },
  {
   "cell_type": "code",
   "execution_count": null,
   "metadata": {},
   "outputs": [],
   "source": [
    "\n",
    "# create subgraphs in different graphs for each course in prev_term\n",
    "from plotly.subplots import make_subplots\n",
    "fig = go.Figure()\n",
    "fig = make_subplots(rows=3, cols=2)\n",
    "\n",
    "fig.append_trace(go.Scatter(x=prev_term['Date'], y=prev_term['spent-hours'],\n",
    "                    mode='lines+markers',\n",
    "                    name='total work time'),row=1, col=1)\n",
    "fig.append_trace(go.Scatter(x=math111['Date'], y=math116['spent-hours'],\n",
    "                    mode='lines+markers',\n",
    "                    name='MATH 116'), row=2, col=1)\n",
    "fig.append_trace(go.Scatter(x=math154['Date'], y=math154['spent-hours'],\n",
    "                    mode='lines+markers',\n",
    "                    name='MATH 154'), row=1, col=2)\n",
    "fig.append_trace(go.Scatter(x=math112['Date'], y=math112['spent-hours'],\n",
    "                    mode='lines+markers',\n",
    "                    name='MATH 112'), row=2, col=2)\n",
    "fig.append_trace(go.Scatter(x=eng102['Date'], y=eng102['spent-hours'],\n",
    "                    mode='lines+markers',\n",
    "                    name='ENG 102'), row=3, col=1)\n",
    "fig.update_layout(height=1300, width=1300, title_text=\" distribution of spent-hours for each course\")\n",
    "\n",
    "fig.show()"
   ]
  }
 ],
 "metadata": {
  "kernelspec": {
   "display_name": "base",
   "language": "python",
   "name": "python3"
  },
  "language_info": {
   "codemirror_mode": {
    "name": "ipython",
    "version": 3
   },
   "file_extension": ".py",
   "mimetype": "text/x-python",
   "name": "python",
   "nbconvert_exporter": "python",
   "pygments_lexer": "ipython3",
   "version": "3.9.7"
  },
  "orig_nbformat": 4
 },
 "nbformat": 4,
 "nbformat_minor": 2
}
